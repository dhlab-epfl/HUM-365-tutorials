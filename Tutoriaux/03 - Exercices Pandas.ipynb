{
 "cells": [
  {
   "cell_type": "markdown",
   "metadata": {},
   "source": [
    "# Tutorial 03 : Exercices Pandas"
   ]
  },
  {
   "cell_type": "markdown",
   "metadata": {
    "toc": true
   },
   "source": [
    "<h1>Table of Contents<span class=\"tocSkip\"></span></h1>\n",
    "<div class=\"toc\"><ul class=\"toc-item\"><li><span><a href=\"#Chargement-des-données\" data-toc-modified-id=\"Chargement-des-données-1\"><span class=\"toc-item-num\">1&nbsp;&nbsp;</span>Chargement des données</a></span></li><li><span><a href=\"#Présentation-des-tâches\" data-toc-modified-id=\"Présentation-des-tâches-2\"><span class=\"toc-item-num\">2&nbsp;&nbsp;</span>Présentation des tâches</a></span><ul class=\"toc-item\"><li><span><a href=\"#Quelques-ressources\" data-toc-modified-id=\"Quelques-ressources-2.1\"><span class=\"toc-item-num\">2.1&nbsp;&nbsp;</span>Quelques ressources</a></span><ul class=\"toc-item\"><li><span><a href=\"#Pandas\" data-toc-modified-id=\"Pandas-2.1.1\"><span class=\"toc-item-num\">2.1.1&nbsp;&nbsp;</span>Pandas</a></span></li><li><span><a href=\"#expressions-régulières:\" data-toc-modified-id=\"expressions-régulières:-2.1.2\"><span class=\"toc-item-num\">2.1.2&nbsp;&nbsp;</span>expressions régulières:</a></span></li></ul></li></ul></li><li><span><a href=\"#Tâches\" data-toc-modified-id=\"Tâches-3\"><span class=\"toc-item-num\">3&nbsp;&nbsp;</span>Tâches</a></span><ul class=\"toc-item\"><li><span><a href=\"#Tâche-1\" data-toc-modified-id=\"Tâche-1-3.1\"><span class=\"toc-item-num\">3.1&nbsp;&nbsp;</span>Tâche 1</a></span></li><li><span><a href=\"#Tâche-2\" data-toc-modified-id=\"Tâche-2-3.2\"><span class=\"toc-item-num\">3.2&nbsp;&nbsp;</span>Tâche 2</a></span></li><li><span><a href=\"#Tâche-3\" data-toc-modified-id=\"Tâche-3-3.3\"><span class=\"toc-item-num\">3.3&nbsp;&nbsp;</span>Tâche 3</a></span></li><li><span><a href=\"#Tâche-4\" data-toc-modified-id=\"Tâche-4-3.4\"><span class=\"toc-item-num\">3.4&nbsp;&nbsp;</span>Tâche 4</a></span></li><li><span><a href=\"#Tâche-5\" data-toc-modified-id=\"Tâche-5-3.5\"><span class=\"toc-item-num\">3.5&nbsp;&nbsp;</span>Tâche 5</a></span></li></ul></li></ul></div>"
   ]
  },
  {
   "cell_type": "markdown",
   "metadata": {},
   "source": [
    "Le but de ce tutoriel est de vous familiariser avec `pandas` et les expressions régulières qui vous seront utiles pour vos projets.\n",
    "\n",
    "Ce tutoriel, contrairement au précédent ne vous donne pas les solutions et vous laisse essayer de résoudre diverses tâches. Le contenu qui vous sera utile pour apprendre `pandas` et les expressions régulières est externe à ce tutoriel et est référencé plus bas.\n",
    "\n",
    "Je vous invite à chercher de vous même d'autres ressources, car celle qui sont présentes dans ce tutoriel ne sont pas exhaustives. Au besoin, n'hésitez pas à me contacter par mail et nous pourrons en discuter.\n",
    "\n",
    "Les tâches qui vous sont proposées devraient vous aider à vous familiariser avec les données et sur la manière de les manipuler. La tâche 1 vous permettra de comprendre les bases de pandas. La tâche 2 de comprendre les expressions régulières. Les tâches 3 et 4 de passer de phrases aux mots (qui peut être utile pour nettoyer des données). Et finalement la tâche 5 vous permettra de détecter des doublons d'entrées.\n",
    "\n",
    "Nous commençons par quelques `import` et définitions de fonctions utiles – il n'est pas nécessaire de tout comprendre dans la cellule suivante.\n",
    "\n",
    "Pour ceux qui n'ont pas installé `Anaconda`, avant de pouvoir utiliser ce tutoriel, il vous faut installer `pandas` avec la commande `pip install pandas`."
   ]
  },
  {
   "cell_type": "code",
   "execution_count": 1,
   "metadata": {},
   "outputs": [],
   "source": [
    "import pandas as pd\n",
    "\n",
    "from IPython.display import display\n",
    "from urllib.parse import quote"
   ]
  },
  {
   "cell_type": "markdown",
   "metadata": {},
   "source": [
    "# Chargement des données"
   ]
  },
  {
   "cell_type": "markdown",
   "metadata": {},
   "source": [
    "`Pandas` est une librairie qui permet de traiter des données tabulaires.\n",
    "\n",
    "Elle comporte deux types d'objets, les `Series` qui correspondent à des colonnes et des `Dataframes` qui correspondent à des colonnes mises en tableau.\n",
    "\n",
    "`Pandas` permet de directement lire les fichier `csv` à l'aide de la fonction `pd.read_csv`."
   ]
  },
  {
   "cell_type": "code",
   "execution_count": 2,
   "metadata": {},
   "outputs": [],
   "source": [
    "data_bottin = pd.read_csv('./Datasets/bottin_test_data.zip')"
   ]
  },
  {
   "cell_type": "markdown",
   "metadata": {},
   "source": [
    "Nous pouvons maintenant observer les données à l'aide de la fonction `.head`."
   ]
  },
  {
   "cell_type": "code",
   "execution_count": 3,
   "metadata": {},
   "outputs": [
    {
     "data": {
      "text/html": [
       "<div>\n",
       "<style scoped>\n",
       "    .dataframe tbody tr th:only-of-type {\n",
       "        vertical-align: middle;\n",
       "    }\n",
       "\n",
       "    .dataframe tbody tr th {\n",
       "        vertical-align: top;\n",
       "    }\n",
       "\n",
       "    .dataframe thead th {\n",
       "        text-align: right;\n",
       "    }\n",
       "</style>\n",
       "<table border=\"1\" class=\"dataframe\">\n",
       "  <thead>\n",
       "    <tr style=\"text-align: right;\">\n",
       "      <th></th>\n",
       "      <th>directory</th>\n",
       "      <th>page</th>\n",
       "      <th>row</th>\n",
       "      <th>year</th>\n",
       "      <th>name</th>\n",
       "      <th>job</th>\n",
       "      <th>street</th>\n",
       "      <th>number</th>\n",
       "      <th>street_clean</th>\n",
       "      <th>street_only</th>\n",
       "    </tr>\n",
       "  </thead>\n",
       "  <tbody>\n",
       "    <tr>\n",
       "      <th>0</th>\n",
       "      <td>bpt6k97631451</td>\n",
       "      <td>644</td>\n",
       "      <td>2</td>\n",
       "      <td>1901</td>\n",
       "      <td>Aarault</td>\n",
       "      <td>vins et hôtel</td>\n",
       "      <td>r. St-Honoré</td>\n",
       "      <td>312.</td>\n",
       "      <td>rue Saint-Honoré</td>\n",
       "      <td>Saint-Honoré</td>\n",
       "    </tr>\n",
       "    <tr>\n",
       "      <th>1</th>\n",
       "      <td>bpt6k97631451</td>\n",
       "      <td>644</td>\n",
       "      <td>3</td>\n",
       "      <td>1901</td>\n",
       "      <td>Aaron</td>\n",
       "      <td>march. de chevaux</td>\n",
       "      <td>r. Bouret</td>\n",
       "      <td>39</td>\n",
       "      <td>rue Bouret</td>\n",
       "      <td>Bouret</td>\n",
       "    </tr>\n",
       "    <tr>\n",
       "      <th>2</th>\n",
       "      <td>bpt6k97631451</td>\n",
       "      <td>644</td>\n",
       "      <td>7</td>\n",
       "      <td>1901</td>\n",
       "      <td>Aaron</td>\n",
       "      <td>fantaisies pour modes</td>\n",
       "      <td>quai Jemmapes</td>\n",
       "      <td>56.</td>\n",
       "      <td>quai Jemmapes</td>\n",
       "      <td>Jemmapes</td>\n",
       "    </tr>\n",
       "    <tr>\n",
       "      <th>3</th>\n",
       "      <td>bpt6k97631451</td>\n",
       "      <td>644</td>\n",
       "      <td>9</td>\n",
       "      <td>1901</td>\n",
       "      <td>Aaron (Emile et Edouard)</td>\n",
       "      <td>négociants</td>\n",
       "      <td>cour et pass. des Petites-Écuries</td>\n",
       "      <td>20.</td>\n",
       "      <td>courue et passage des Petites-Écuries</td>\n",
       "      <td>cous Petites-Écuries</td>\n",
       "    </tr>\n",
       "    <tr>\n",
       "      <th>4</th>\n",
       "      <td>bpt6k97631451</td>\n",
       "      <td>644</td>\n",
       "      <td>11</td>\n",
       "      <td>1901</td>\n",
       "      <td>Aaron frères</td>\n",
       "      <td>vente à crédit</td>\n",
       "      <td>r.d'Angoulême</td>\n",
       "      <td>52.</td>\n",
       "      <td>rued'Angoulême</td>\n",
       "      <td>d'Angoulême</td>\n",
       "    </tr>\n",
       "  </tbody>\n",
       "</table>\n",
       "</div>"
      ],
      "text/plain": [
       "       directory  page  row  year                      name  \\\n",
       "0  bpt6k97631451   644    2  1901                   Aarault   \n",
       "1  bpt6k97631451   644    3  1901                     Aaron   \n",
       "2  bpt6k97631451   644    7  1901                     Aaron   \n",
       "3  bpt6k97631451   644    9  1901  Aaron (Emile et Edouard)   \n",
       "4  bpt6k97631451   644   11  1901              Aaron frères   \n",
       "\n",
       "                     job                             street number  \\\n",
       "0          vins et hôtel                       r. St-Honoré   312.   \n",
       "1      march. de chevaux                          r. Bouret     39   \n",
       "2  fantaisies pour modes                      quai Jemmapes    56.   \n",
       "3             négociants  cour et pass. des Petites-Écuries    20.   \n",
       "4         vente à crédit                      r.d'Angoulême    52.   \n",
       "\n",
       "                            street_clean           street_only  \n",
       "0                       rue Saint-Honoré          Saint-Honoré  \n",
       "1                             rue Bouret                Bouret  \n",
       "2                          quai Jemmapes              Jemmapes  \n",
       "3  courue et passage des Petites-Écuries  cous Petites-Écuries  \n",
       "4                         rued'Angoulême           d'Angoulême  "
      ]
     },
     "execution_count": 3,
     "metadata": {},
     "output_type": "execute_result"
    }
   ],
   "source": [
    "data_bottin.head()"
   ]
  },
  {
   "cell_type": "markdown",
   "metadata": {},
   "source": [
    "Pour conclure cette introduction, nous allons maintenant sélectionner au hasard 10 entrées (à l'aide de `.sample`) et utiliser la fonction helper `add_clickable_url` qui permet de rajouter une colonne `url` à notre dataframe qui donne un lien vers la page du bottin."
   ]
  },
  {
   "cell_type": "code",
   "execution_count": null,
   "metadata": {},
   "outputs": [],
   "source": [
    "sample = data_bottin.sample(10)\n",
    "add_clickable_url(sample.fillna(''))"
   ]
  },
  {
   "cell_type": "markdown",
   "metadata": {},
   "source": [
    "# Présentation des tâches"
   ]
  },
  {
   "cell_type": "markdown",
   "metadata": {},
   "source": [
    "Comme exemple, nous allons essayer d'extraire des informations du champ `name`. Il vous faudra réaliser les tâches suivantes:\n",
    "1. Calculer quelques statistiques de base\n",
    "2. Extraire les entrées avec un seul mot ou un seul mot et du contenu entre parenthèses dans `name` (ignorer les espaces avant et après).\n",
    "3. Extraire le compte de chaque mot dans le texte entre parenthèses dans `name`.\n",
    "4. Extraire le compte de chaque mot dans tout texte de `name` ne contenant pas un seul mot et des parenthèses.\n",
    "5. Grouper les entrées par nom, métier, rue, et numéro uniques et faire quelques statistiques de bases."
   ]
  },
  {
   "cell_type": "markdown",
   "metadata": {},
   "source": [
    "## Quelques ressources\n",
    "\n",
    "Comme expliqué plus haut, voici quelques ressources pour vous aider, je vous conseille de les lire attentivement et de faire quelques tests vous même dans un notebook.\n",
    "\n",
    "Si vous n'arrivez pas à réaliser une des tâches, n'hésitez pas à googler votre problème, `pandas` est une librairie très populaire et il y a de grandes chances que quelque'un ait déjà eu un problème similaire au vôtre."
   ]
  },
  {
   "cell_type": "markdown",
   "metadata": {},
   "source": [
    "### Pandas\n",
    "\n",
    "- [Tutoriel officiel](https://pandas.pydata.org/pandas-docs/stable/getting_started/10min.html#selection)\n",
    "- [Fonctions plus avancées](https://pandas.pydata.org/pandas-docs/stable/user_guide/cookbook.html#idioms) (vous aurez surtout besoin des parties \"Idioms\", \"Selection\" et \"Grouping\").\n",
    "- [Guide pour travailler avec du texte](https://pandas.pydata.org/pandas-docs/stable/user_guide/text.html)"
   ]
  },
  {
   "cell_type": "markdown",
   "metadata": {},
   "source": [
    "### Expressions régulières:\n",
    "- [Tutoriel écrit](https://github.com/ziishaned/learn-regex/blob/master/translations/README-fr.md)\n",
    "- [Tutoriel interactif](https://regexone.com/)\n",
    "- [Site pour tester ses regex](https://regex101.com/)"
   ]
  },
  {
   "cell_type": "markdown",
   "metadata": {},
   "source": [
    "# Tâches"
   ]
  },
  {
   "cell_type": "markdown",
   "metadata": {},
   "source": [
    "## Tâche 1\n",
    "\n",
    "Le but de cette tâche est de calculer quelques statistiques de bases. Il faut trouver:\n",
    "\n",
    "1. Le nombre d'entrées\n",
    "2. Le nombre d'entrées par année (indice, utilisez `.groupby` et `.size`)\n",
    "3. Le nombre de noms uniques (indice, utilisez `.unique`)\n",
    "4. Le nombre de métiers uniques\n",
    "5. Le nombre de rues uniques\n",
    "\n",
    "Puis quelques graphes à réaliser (c.f. la [doc](https://pandas.pydata.org/pandas-docs/stable/reference/api/pandas.DataFrame.plot.html?highlight=plot#pandas.DataFrame.plot)):\n",
    "1. Le graphe du nombre d'entrées par années\n",
    "2. L'histogramme (c.f. la [doc](https://pandas.pydata.org/pandas-docs/stable/reference/api/pandas.DataFrame.hist.html)) du nombre de doublons de noms (en x vous aurez le nombre de doublons et en y la fréquence), indice, utilisez `.value_counts` et si vous ne voyez rien sur votre histogramme, les options `loglog` et `bins` de `.hist`.\n",
    "3. Le même histogramme que précédemment, mais pour les métiers."
   ]
  },
  {
   "cell_type": "code",
   "execution_count": null,
   "metadata": {},
   "outputs": [],
   "source": [
    "entries_number = data_bottin # à compléter\n",
    "entries_per_year = data_bottin # à compléter\n",
    "unique_names_number = data_bottin # à compléter\n",
    "unique_jobs_number = data_bottin # à compléter\n",
    "unique_streets_number = data_bottin # à compléter\n",
    "\n",
    "print(f\"Il y {entries_number} entrées, dont {unique_names_number} noms uniques, {unique_jobs_number} métiers uniques, {unique_streets_number} rue uniques\")\n",
    "print(\"La distribution d'entrées par année est la suivante:\")\n",
    "print(\"\\n\".join([f\"{year}: {count}\" for year, count in entries_per_year.reset_index().values]))"
   ]
  },
  {
   "cell_type": "markdown",
   "metadata": {},
   "source": [
    "Si vous avez réussi, vous devriez avoir le texte suivant:\n",
    "<div class=\"output_subarea output_text output_stream output_stdout\"><pre>Il y 6789596 entrées, dont 269593 noms uniques, 60784 métiers uniques, 39916 rue uniques\n",
    "\n",
    "La distribution d'entrées par année est la suivante:\n",
    "<pre>\n",
    "\t1901: 122529\n",
    "\t1907: 121765\n",
    "\t1914: 123464\n",
    "\t1921: 118520\n",
    "\t1922: 130958\n",
    "</pre></div>"
   ]
  },
  {
   "cell_type": "markdown",
   "metadata": {},
   "source": [
    "Pour les graphes, il suffit de transformer votre dataframe dans le bon format (en utilisant `.groupby`, `.size` et `.value_counts`), puis d'utiliser `.plot` ou `.hist` avec les bonnes options."
   ]
  },
  {
   "cell_type": "code",
   "execution_count": null,
   "metadata": {},
   "outputs": [],
   "source": [
    "data_bottin # Plot des entrées par années"
   ]
  },
  {
   "cell_type": "markdown",
   "metadata": {},
   "source": [
    "Votre graphe devrait ressembler à ça:\n",
    "<div class=\"output_subarea output_png\"><img src=\"data:image/png;base64,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\n",
    "\"></div>"
   ]
  },
  {
   "cell_type": "code",
   "execution_count": null,
   "metadata": {},
   "outputs": [],
   "source": [
    "data_bottin # Histogramme des doublons de noms"
   ]
  },
  {
   "cell_type": "markdown",
   "metadata": {},
   "source": [
    "Votre graphe devrait ressembler à ça (en utilisant `loglog=True` et `bins=1000`):\n",
    "<img src=\"data:image/png;base64,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\n",
    "\">"
   ]
  },
  {
   "cell_type": "code",
   "execution_count": null,
   "metadata": {},
   "outputs": [],
   "source": [
    "data_bottin # Histogramme des doublons de métier"
   ]
  },
  {
   "cell_type": "markdown",
   "metadata": {},
   "source": [
    "Votre graphe devrait ressembler à ça (en utilisant `loglog=True` et `bins=1000`):\n",
    "<img src=\"data:image/png;base64,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\n",
    "\">"
   ]
  },
  {
   "cell_type": "markdown",
   "metadata": {},
   "source": [
    "## Tâche 2"
   ]
  },
  {
   "cell_type": "markdown",
   "metadata": {},
   "source": [
    "Le but de cette tâche est d'extraire les entrées avec un seul mot ou un seul mot et du contenu entre parenthèse dans `name` (ignorer les espaces avant et après).\n",
    "\n",
    "Pour cette tâche, il vous suffira d'écrire une seule expression régulière, ce [lien](https://regex101.com/r/Ccyja3/1/tests) vous permettra de tester votre expression régulière.\n",
    "\n",
    "Pour pouvoir extraire les lignes correspondantes, vous pouvez indexer les données avec le prédicat qui vous est retourné par `['name'].str.match`, c.f. la [doc](https://pandas.pydata.org/pandas-docs/stable/reference/api/pandas.Series.str.match.html?highlight=str%20match#pandas.Series.str.match)."
   ]
  },
  {
   "cell_type": "code",
   "execution_count": null,
   "metadata": {
    "scrolled": true
   },
   "outputs": [],
   "source": [
    "regex_one_word = '^$'\n",
    "\n",
    "predicate_one_word = data_bottin['name'].notnull() # à remplacer, pour le moment sélectionne tout\n",
    "\n",
    "data_bottin_one_word = data_bottin.loc[predicate_one_word].copy()"
   ]
  },
  {
   "cell_type": "markdown",
   "metadata": {},
   "source": [
    "Vous devriez obtenir le résultat suivant, avec 526943 lignes:\n",
    "<div class=\"output_subarea output_html rendered_html output_result\"><div>\n",
    "</style>\n",
    "<table class=\"dataframe\" border=\"1\">\n",
    "  <thead>\n",
    "    <tr style=\"text-align: right;\">\n",
    "      <th></th>\n",
    "      <th>directory</th>\n",
    "      <th>page</th>\n",
    "      <th>row</th>\n",
    "      <th>year</th>\n",
    "      <th>name</th>\n",
    "      <th>job</th>\n",
    "      <th>street</th>\n",
    "      <th>number</th>\n",
    "      <th>street_clean</th>\n",
    "      <th>street_only</th>\n",
    "    </tr>\n",
    "  </thead>\n",
    "  <tbody>\n",
    "    <tr>\n",
    "      <th>0</th>\n",
    "      <td>bpt6k97631451</td>\n",
    "      <td>644</td>\n",
    "      <td>2</td>\n",
    "      <td>1901</td>\n",
    "      <td>Aarault</td>\n",
    "      <td>vins et hôtel</td>\n",
    "      <td>r. St-Honoré</td>\n",
    "      <td>312.</td>\n",
    "      <td>rue Saint-Honoré</td>\n",
    "      <td>Saint-Honoré</td>\n",
    "    </tr>\n",
    "    <tr>\n",
    "      <th>1</th>\n",
    "      <td>bpt6k97631451</td>\n",
    "      <td>644</td>\n",
    "      <td>3</td>\n",
    "      <td>1901</td>\n",
    "      <td>Aaron</td>\n",
    "      <td>march. de chevaux</td>\n",
    "      <td>r. Bouret</td>\n",
    "      <td>39</td>\n",
    "      <td>rue Bouret</td>\n",
    "      <td>Bouret</td>\n",
    "    </tr>\n",
    "    <tr>\n",
    "      <th>2</th>\n",
    "      <td>bpt6k97631451</td>\n",
    "      <td>644</td>\n",
    "      <td>7</td>\n",
    "      <td>1901</td>\n",
    "      <td>Aaron</td>\n",
    "      <td>fantaisies pour modes</td>\n",
    "      <td>quai Jemmapes</td>\n",
    "      <td>56.</td>\n",
    "      <td>quai Jemmapes</td>\n",
    "      <td>Jemmapes</td>\n",
    "    </tr>\n",
    "    <tr>\n",
    "      <th>3</th>\n",
    "      <td>bpt6k97631451</td>\n",
    "      <td>644</td>\n",
    "      <td>9</td>\n",
    "      <td>1901</td>\n",
    "      <td>Aaron (Emile et Edouard)</td>\n",
    "      <td>négociants</td>\n",
    "      <td>cour et pass. des Petites-Écuries</td>\n",
    "      <td>20.</td>\n",
    "      <td>courue et passage des Petites-Écuries</td>\n",
    "      <td>cous Petites-Écuries</td>\n",
    "    </tr>\n",
    "    <tr>\n",
    "      <th>5</th>\n",
    "      <td>bpt6k97631451</td>\n",
    "      <td>644</td>\n",
    "      <td>12</td>\n",
    "      <td>1901</td>\n",
    "      <td>Abadie (Ch. Vallois succcess.)</td>\n",
    "      <td>fabr. de billards</td>\n",
    "      <td>r. du Grand-Prieuré</td>\n",
    "      <td>8.</td>\n",
    "      <td>rue du Grand-Prieuré</td>\n",
    "      <td>Grand-Prieuré</td>\n",
    "    </tr>\n",
    "    <tr>\n",
    "      <th>...</th>\n",
    "      <td>...</td>\n",
    "      <td>...</td>\n",
    "      <td>...</td>\n",
    "      <td>...</td>\n",
    "      <td>...</td>\n",
    "      <td>...</td>\n",
    "      <td>...</td>\n",
    "      <td>...</td>\n",
    "      <td>...</td>\n",
    "      <td>...</td>\n",
    "    </tr>\n",
    "    <tr>\n",
    "      <th>617230</th>\n",
    "      <td>bpt6k9780089g</td>\n",
    "      <td>1607</td>\n",
    "      <td>256</td>\n",
    "      <td>1922</td>\n",
    "      <td>Zwinger (E.)</td>\n",
    "      <td>commiss. en march</td>\n",
    "      <td>r. Saulnier</td>\n",
    "      <td>7.</td>\n",
    "      <td>rue Saulnier</td>\n",
    "      <td>Saulnier</td>\n",
    "    </tr>\n",
    "    <tr>\n",
    "      <th>617232</th>\n",
    "      <td>bpt6k9780089g</td>\n",
    "      <td>1607</td>\n",
    "      <td>259</td>\n",
    "      <td>1922</td>\n",
    "      <td>Zygomalas</td>\n",
    "      <td>perles fausses</td>\n",
    "      <td>r. de Constantinople</td>\n",
    "      <td>28.</td>\n",
    "      <td>rue de Constantinople</td>\n",
    "      <td>Constantinople</td>\n",
    "    </tr>\n",
    "    <tr>\n",
    "      <th>617233</th>\n",
    "      <td>bpt6k9780089g</td>\n",
    "      <td>1607</td>\n",
    "      <td>261</td>\n",
    "      <td>1922</td>\n",
    "      <td>Zysapel</td>\n",
    "      <td>restaurant</td>\n",
    "      <td>r. des Ecouffes</td>\n",
    "      <td>14.</td>\n",
    "      <td>rue des Ecouffes</td>\n",
    "      <td>s Ecouffes</td>\n",
    "    </tr>\n",
    "    <tr>\n",
    "      <th>617234</th>\n",
    "      <td>bpt6k9780089g</td>\n",
    "      <td>1607</td>\n",
    "      <td>263</td>\n",
    "      <td>1922</td>\n",
    "      <td>Zyssmann</td>\n",
    "      <td>bar</td>\n",
    "      <td>r. de Pivoli</td>\n",
    "      <td>40.</td>\n",
    "      <td>rue de Pivoli</td>\n",
    "      <td>Pivoli</td>\n",
    "    </tr>\n",
    "    <tr>\n",
    "      <th>617235</th>\n",
    "      <td>bpt6k9780089g</td>\n",
    "      <td>1607</td>\n",
    "      <td>267</td>\n",
    "      <td>1922</td>\n",
    "      <td>Zzaoui (Jacques)</td>\n",
    "      <td>dentiste</td>\n",
    "      <td>r. de l'Arrivée</td>\n",
    "      <td>22.</td>\n",
    "      <td>rue de l'Arrivée</td>\n",
    "      <td>l'Arrivée</td>\n",
    "    </tr>\n",
    "  </tbody>\n",
    "</table>\n",
    "<p>526943 rows × 10 columns</p>\n",
    "</div></div>"
   ]
  },
  {
   "cell_type": "markdown",
   "metadata": {},
   "source": [
    "## Tâche 3"
   ]
  },
  {
   "cell_type": "markdown",
   "metadata": {},
   "source": [
    "Le but de cette tâche est d'extraire le compte de chaque mot dans le texte entre parenthèse dans `name`.\n",
    "\n",
    "La première étape est d'extraire de le texte entre parenthèses, il existe une fonction dans `.str` pour faire ça : à vous de la trouver. N'oubliez pas de supprimer les entrées sans parenthèse, par exemple avec `.dropna()` et d'indexer pour obtenir une série."
   ]
  },
  {
   "cell_type": "code",
   "execution_count": null,
   "metadata": {},
   "outputs": [],
   "source": [
    "regex_parens = ''\n",
    "\n",
    "name_parens = data_bottin['name'] # à compléter"
   ]
  },
  {
   "cell_type": "markdown",
   "metadata": {},
   "source": [
    "Vous devriez obtenir le résultat suivant avec 238405 lignes:\n",
    "<pre>\n",
    "3              Emile et Edouard\n",
    "5         Ch. Vallois succcess.\n",
    "6                           Mme\n",
    "12                           A.\n",
    "13                   Charles d'\n",
    "                  ...          \n",
    "617227                       F.\n",
    "617229                    Henri\n",
    "617230                       E.\n",
    "617231                      Ch.\n",
    "617235                  Jacques\n",
    "Name: 0, Length: 238405, dtype: object\n",
    "</pre>"
   ]
  },
  {
   "cell_type": "markdown",
   "metadata": {},
   "source": [
    "L'étape suivante est de séparer chaque entrée en mot, puis de les compter.\n",
    "\n",
    "Il existe une fonction dans `.str` pour séparer en mot. La manière la plus simple est de séparer sur l'espace, mais on peut aller plus loin, à vous de choisir.\n",
    "Pour compter les mots, il faudra retourner dans du python plus traditionnel et donc itérer sur chaque entrée.\n",
    "\n",
    "Une manière élégante de compter est d'utiliser l'objet `Counter` de `collections`, c.f. la [doc](https://docs.python.org/3.8/library/collections.html#collections.Counter)."
   ]
  },
  {
   "cell_type": "code",
   "execution_count": null,
   "metadata": {},
   "outputs": [],
   "source": [
    "name_parens_split = name_parens # à compléter\n",
    "\n",
    "word_counts = None\n",
    "\n",
    "for words in name_parens_split.values:\n",
    "    # à compléter\n",
    "    pass"
   ]
  },
  {
   "cell_type": "markdown",
   "metadata": {},
   "source": [
    "Le résultat dépendra de la manière dont vous avez séparé les mots ; dans mon cas, les 5 mots les plus communs sont:\n",
    "<pre>[('Mme', 35434), ('A', 26038), ('J', 13684), ('E', 13459), ('L', 11975)]</pre>\n"
   ]
  },
  {
   "cell_type": "markdown",
   "metadata": {},
   "source": [
    "## Tâche 4\n",
    "\n",
    "Le but de cette tâche est d'extraire le compte des mots dans les entrées ne matchant pas les résultats de la tâche 1.\n",
    "\n",
    "Il suffit d'adopter une marche à suivre similare à la tâche précédente."
   ]
  },
  {
   "cell_type": "code",
   "execution_count": null,
   "metadata": {},
   "outputs": [],
   "source": [
    "name_one_word_split = data_bottin.loc[~predicate_one_word]['name'] # à compléter\n",
    "\n",
    "word_counts = None\n",
    "\n",
    "for words in name_one_word_split.values:\n",
    "    # à compléter\n",
    "    pass"
   ]
  },
  {
   "cell_type": "markdown",
   "metadata": {},
   "source": [
    "Là encore, le résultat dépendra de la manière dont vous avez séparé les mots ; dans mon cas, les 5 mots les plus communs sont:\n",
    "<pre>[('et', 29457), ('Cie', 10409), ('de', 6668), ('fils', 5747), ('A', 4734)]</pre>\n"
   ]
  },
  {
   "cell_type": "markdown",
   "metadata": {},
   "source": [
    "## Tâche 5\n",
    "\n",
    "Le but de cette tâche est de grouper les métiers par `name`, `job`, `street` et `number`, puis d'afficher la distribution sous la forme d'une `Dataframe`.\n",
    "\n",
    "Cela peut-être réalisé en une seule ligne, en n'utilisant que des fonctions `pandas`."
   ]
  },
  {
   "cell_type": "code",
   "execution_count": null,
   "metadata": {},
   "outputs": [],
   "source": [
    "data_bottin # à compléter"
   ]
  },
  {
   "cell_type": "markdown",
   "metadata": {},
   "source": [
    "Vous devriez obtenir les résultats suivants:\n",
    "\n",
    "<div>\n",
    "\n",
    "<table class=\"dataframe\" border=\"1\">\n",
    "  <thead>\n",
    "    <tr style=\"text-align: right;\">\n",
    "      <th></th>\n",
    "      <th>Count</th>\n",
    "    </tr>\n",
    "    <tr>\n",
    "      <th>Number of duplicates</th>\n",
    "      <th></th>\n",
    "    </tr>\n",
    "  </thead>\n",
    "  <tbody>\n",
    "    <tr>\n",
    "      <th>1</th>\n",
    "      <td>408887</td>\n",
    "    </tr>\n",
    "    <tr>\n",
    "      <th>2</th>\n",
    "      <td>67471</td>\n",
    "    </tr>\n",
    "    <tr>\n",
    "      <th>3</th>\n",
    "      <td>17842</td>\n",
    "    </tr>\n",
    "    <tr>\n",
    "      <th>4</th>\n",
    "      <td>3262</td>\n",
    "    </tr>\n",
    "    <tr>\n",
    "      <th>5</th>\n",
    "      <td>794</td>\n",
    "    </tr>\n",
    "  </tbody>\n",
    "</table>\n",
    "</div>"
   ]
  },
  {
   "cell_type": "markdown",
   "metadata": {},
   "source": [
    "Il est possible d'aller un petit peu plus loin en utilisant `street_only` et en nettoyant un peu les nombres, par exemple en ne prenant que le premier chiffre et bis. C.f. les tâches précédentes pour l'extraction"
   ]
  },
  {
   "cell_type": "code",
   "execution_count": null,
   "metadata": {},
   "outputs": [],
   "source": [
    "data_bottin['number_clean'] = data_bottin['number'] # à compléter\n",
    "data_bottin # à compléter comme avant, mais avec les autres noms de colonnes"
   ]
  },
  {
   "cell_type": "markdown",
   "metadata": {},
   "source": [
    "Vous obtiendrez des résultats similaires aux suivants en fonction de votre nettoyage:\n",
    "<div>\n",
    "<table class=\"dataframe\" border=\"1\">\n",
    "  <thead>\n",
    "    <tr style=\"text-align: right;\">\n",
    "      <th></th>\n",
    "      <th>Count</th>\n",
    "    </tr>\n",
    "    <tr>\n",
    "      <th>Number of duplicates</th>\n",
    "      <th></th>\n",
    "    </tr>\n",
    "  </thead>\n",
    "  <tbody>\n",
    "    <tr>\n",
    "      <th>1</th>\n",
    "      <td>381464</td>\n",
    "    </tr>\n",
    "    <tr>\n",
    "      <th>2</th>\n",
    "      <td>73914</td>\n",
    "    </tr>\n",
    "    <tr>\n",
    "      <th>3</th>\n",
    "      <td>20401</td>\n",
    "    </tr>\n",
    "    <tr>\n",
    "      <th>4</th>\n",
    "      <td>3864</td>\n",
    "    </tr>\n",
    "    <tr>\n",
    "      <th>5</th>\n",
    "      <td>1008</td>\n",
    "    </tr>\n",
    "  </tbody>\n",
    "</table>\n",
    "</div>"
   ]
  }
 ],
 "metadata": {
  "kernelspec": {
   "display_name": "Python 3",
   "language": "python",
   "name": "python3"
  },
  "language_info": {
   "codemirror_mode": {
    "name": "ipython",
    "version": 3
   },
   "file_extension": ".py",
   "mimetype": "text/x-python",
   "name": "python",
   "nbconvert_exporter": "python",
   "pygments_lexer": "ipython3",
   "version": "3.9.1"
  },
  "toc": {
   "base_numbering": 1,
   "nav_menu": {},
   "number_sections": true,
   "sideBar": true,
   "skip_h1_title": false,
   "title_cell": "Table of Contents",
   "title_sidebar": "Contents",
   "toc_cell": true,
   "toc_position": {},
   "toc_section_display": true,
   "toc_window_display": false
  }
 },
 "nbformat": 4,
 "nbformat_minor": 4
}