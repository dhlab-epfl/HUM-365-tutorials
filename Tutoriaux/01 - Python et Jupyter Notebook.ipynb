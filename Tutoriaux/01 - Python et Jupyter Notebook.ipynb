{
 "cells": [
  {
   "cell_type": "markdown",
   "metadata": {},
   "source": [
    "# Tutoriel 01 : Python et Jupyter Notebook"
   ]
  },
  {
   "cell_type": "markdown",
   "metadata": {
    "toc": true
   },
   "source": [
    "<h1>Table of Contents<span class=\"tocSkip\"></span></h1>\n",
    "<div class=\"toc\"><ul class=\"toc-item\"><li><span><a href=\"#Introduction\" data-toc-modified-id=\"Introduction-1\"><span class=\"toc-item-num\">1&nbsp;&nbsp;</span>Introduction</a></span><ul class=\"toc-item\"><li><span><a href=\"#Python,-le-language-de-programmation\" data-toc-modified-id=\"Python,-le-language-de-programmation-1.1\"><span class=\"toc-item-num\">1.1&nbsp;&nbsp;</span>Python, le language de programmation</a></span></li><li><span><a href=\"#Les-Jupyter-Notebooks\" data-toc-modified-id=\"Les-Jupyter-Notebooks-1.2\"><span class=\"toc-item-num\">1.2&nbsp;&nbsp;</span>Les Jupyter Notebooks</a></span></li></ul></li><li><span><a href=\"#Les-bases-du-notebook\" data-toc-modified-id=\"Les-bases-du-notebook-2\"><span class=\"toc-item-num\">2&nbsp;&nbsp;</span>Les bases du notebook</a></span></li><li><span><a href=\"#Les-bases-du-langage-python\" data-toc-modified-id=\"Les-bases-du-langage-python-3\"><span class=\"toc-item-num\">3&nbsp;&nbsp;</span>Les bases du langage python</a></span><ul class=\"toc-item\"><li><span><a href=\"#Types-de-bases\" data-toc-modified-id=\"Types-de-bases-3.1\"><span class=\"toc-item-num\">3.1&nbsp;&nbsp;</span>Types de bases</a></span></li><li><span><a href=\"#Opérateurs-de-base\" data-toc-modified-id=\"Opérateurs-de-base-3.2\"><span class=\"toc-item-num\">3.2&nbsp;&nbsp;</span>Opérateurs de base</a></span></li><li><span><a href=\"#Flux-de-contrôle\" data-toc-modified-id=\"Flux-de-contrôle-3.3\"><span class=\"toc-item-num\">3.3&nbsp;&nbsp;</span>Flux de contrôle</a></span></li><li><span><a href=\"#Structures-de-données\" data-toc-modified-id=\"Structures-de-données-3.4\"><span class=\"toc-item-num\">3.4&nbsp;&nbsp;</span>Structures de données</a></span></li><li><span><a href=\"#Fonctions\" data-toc-modified-id=\"Fonctions-3.5\"><span class=\"toc-item-num\">3.5&nbsp;&nbsp;</span>Fonctions</a></span></li><li><span><a href=\"#Modules\" data-toc-modified-id=\"Modules-3.6\"><span class=\"toc-item-num\">3.6&nbsp;&nbsp;</span>Modules</a></span></li><li><span><a href=\"#Les-chaînes-de-caractères\" data-toc-modified-id=\"Les-chaînes-de-caractères-3.7\"><span class=\"toc-item-num\">3.7&nbsp;&nbsp;</span>Les chaînes de caractères</a></span></li><li><span><a href=\"#Lecture/écriture-de-fichiers\" data-toc-modified-id=\"Lecture/écriture-de-fichiers-3.8\"><span class=\"toc-item-num\">3.8&nbsp;&nbsp;</span>Lecture/écriture de fichiers</a></span></li></ul></li></ul></div>"
   ]
  },
  {
   "cell_type": "markdown",
   "metadata": {},
   "source": [
    "Le but de ce tutoriel est de vous donner les rudiments du langage de programmation Python et de l'environnement d'exécution Jupyter Notebook. Il n'est évidemment pas complet et nous vous invitons donc à lire le [tutoriel officiel python](https://docs.python.org/fr/3/tutorial/) pour plus de détails. De manière générale, nous vous conseillons de profiter de l'environnement du notebook pour expérimenter, car cela permet de mieux comprendre certaines subtilités. Nous sommes également à disposition pour toutes questions concernant python.\n",
    "\n",
    "# Introduction\n",
    "## Python, le language de programmation\n",
    "[Python](https://www.python.org/) est un langage interprété, cela veut dire qu'il ne nécessite pas de compilation (au contraire des langages dits compilés tels que Java et C++). En comparaison de ces longages compliés, Python est donc plutôt lent, mais pour notre utilisation, sa simplicité et son grand écosystème de modules contrebalance largement sa lenteur. De plus, les modules python critiques sont souvent écrits dans des langages compilés et de manière générale la lenteur du python \"pur\" n'est jamais très pénalisante.\n",
    "\n",
    "## Les Jupyter Notebooks\n",
    "Un script python est habituellement un fichier texte qui a une extension `.py` qui contient les instructions python. Toutefois, pour développer et prototyper, il peut-être pratique d'utiliser des [Jupyter Notebooks](https://jupyter.org/) qui permettent d'exécuter du code python dans un environnement qui permet de mélanger du texte (markdown) et du code python. De plus, cet environnement permet également d'inspecter facilement les différents éléments du code et garde en mémoire tout ce qui a été exécuté dans l'ordre (ce qui peut parfois être perturbant comme nous le verrons plus tard)."
   ]
  },
  {
   "cell_type": "markdown",
   "metadata": {},
   "source": [
    "# Les bases du notebook\n",
    "\n",
    "Le Jupyter notebook est donc un environnement d'exécution qui permet de mélanger code et texte. Le notebooks est donc composé de cellules de différents types.\n",
    "\n",
    "Pour voir de quel type de cellule il s'agit, il suffit de cliquer sur la cellule si c'est une cellule de code ou de double cliquer si c'est une cellule markdown. La cellule est sélectionnée quand une barre verte apparaît à sa droite. Le type de la celulle est indiquée dans la barre en haut du notebook et peut être changée en modifiant la valeur du dropdown.\n",
    "\n",
    "Une cellule peut ensuite être executée de trois manières différentes. Soit en appuyant sur la touche \"Run\" dans la barre du haut, soit en appuyant sur `CTRL+ENTER` pour exécuter la cellule et rester dessus, soit en appuyant sur `SHIFT+ENTER` pour exécuter la cellule et aller à la cellule du dessous (ce qui est très pratique pour exécuter rapidement plusieurs cellules).\n",
    "\n",
    "Un notebook est lié à un noyau (kernel) qui exécute ses cellules : si le noyau est fermé ou redémarre tout ce qui a été exécuté dans un notebook est perdu. Si pour une raison quelconque, vous voulez recommencer depuis le début l'exécution de votre notebook (les cellules ne sont pas affectées), vous pouvez redémarrer le noyau dans le menu `Kernel > Restart`.\n",
    "\n",
    "Regardons maintenant comment utiliser les cellules de code, nous commençons par assigner la valeur 5 à la variable `x` (plus de détails sur les variables dans la partie sur python). Vous pouvez maintenant exécuter la cellule suivante avec une des trois manières décrites plus haut."
   ]
  },
  {
   "cell_type": "code",
   "execution_count": null,
   "metadata": {},
   "outputs": [],
   "source": [
    "x = 5"
   ]
  },
  {
   "cell_type": "markdown",
   "metadata": {},
   "source": [
    "Il est maintenant possible d'observer la valeur de `x` avec une cellule ne contenant que `x`, en effet, une cellule terminant par une variable va l'afficher comme résultat de la cellule."
   ]
  },
  {
   "cell_type": "code",
   "execution_count": null,
   "metadata": {},
   "outputs": [],
   "source": [
    "x"
   ]
  },
  {
   "cell_type": "markdown",
   "metadata": {},
   "source": [
    "La valeur de `x` est donc bien 5. Maintenant, pour mieux comprendre l'importance de l'ordre de l'exécution des cellules, faisons une petite expérience. Remarquez qu'une fois une cellule de code exécutée, il y a un numéro écrit entre crochet. Ceci indique l'ordre d'exécution. Exécutez maintenant la cellule suivante, puis la cellule précédente."
   ]
  },
  {
   "cell_type": "code",
   "execution_count": null,
   "metadata": {},
   "outputs": [],
   "source": [
    "x = 'Ceci est une chaîne de caractère'"
   ]
  },
  {
   "cell_type": "markdown",
   "metadata": {},
   "source": [
    "Comme vous pouvez le voir, la cellule qui retourne la valeur de `x` nous donne maintenant une chaîne de caractère comme résultat, ce qui n'est pas cohérent si l'on lit le notebook de haut en bas. C'est parce que la cellule précédente a écrasé la valeur de `x`. Il faut donc être prudent avec l'ordre d'exécution dans les notebooks qui peut parfois être perturbant –– notez que l'ordre d'exécution est indiqué par le nombre entre crochets à gauche de la cellule, e.g. `In [1]`.\n",
    "\n",
    "C'est tout pour l'introduction aux notebooks, plus de détails peuvent être trouvés dans la [documentation officielle](https://jupyter-notebook.readthedocs.io/en/stable/)."
   ]
  },
  {
   "cell_type": "markdown",
   "metadata": {},
   "source": [
    "# Les bases du langage python"
   ]
  },
  {
   "cell_type": "markdown",
   "metadata": {},
   "source": [
    "Une variable en python n'a pas de type donnée (il s'agit d'un typage dynamique), il n'y a donc pas d'opérateur pour indiquer le type de variable comme dans d'autres langages (pas de `int x = 0` par exemple).\n",
    "\n",
    "\n",
    "## Types de bases\n",
    "Les différents types de bases sont introduits brièvement dans la cellule ci-dessous.\n",
    "\n",
    "À noter que le caractère `#` permet de mettre en commentaire tout texte le suivant. Et que la commande `print()` permet d'afficher du texte."
   ]
  },
  {
   "cell_type": "code",
   "execution_count": null,
   "metadata": {},
   "outputs": [],
   "source": [
    "# Entier (int)\n",
    "entier = 0\n",
    "# Réel (float)\n",
    "reel = 0.0\n",
    "# Booléen (bool)\n",
    "vrai = True # ou\n",
    "vrai = bool(1)\n",
    "false = False # ou\n",
    "false = bool(0)\n",
    "# Chaîne de caractère (str)\n",
    "chaine_de_caractere = 'x' #ou\n",
    "chaine_de_caractere = \"x\" #ou\n",
    "chaine_de_caractere = \"\"\"x\"\"\"\n",
    "# Tableau statique (tuple)\n",
    "tableau_s = (0, 'x', 0.0, entier) #ou\n",
    "tableau_s = tuple([0, 'x', 0.0, entier])\n",
    "# Tableau dynamique (list)\n",
    "tableau_d = [0, 'x', 0.0, entier] #ou\n",
    "tableau_d = list((0, 'x', 0.0, entier))\n",
    "# Set mathématique (set)\n",
    "set_math = {0, 0, 'x', 'x', 0.0, 0.0, entier} #ou\n",
    "set_math = set((0, 0, 'x', 'x', 0.0, 0.0, entier))\n",
    "# Dictionnaire de clés-valeurs (dict)\n",
    "dictionnaire = {chaine_de_caractere: tableau_s, 0.0: entier} #ou\n",
    "dictionnaire = dict([(chaine_de_caractere, tableau_s), (0.0, entier)])"
   ]
  },
  {
   "cell_type": "markdown",
   "metadata": {},
   "source": [
    "Vous pouvez maintenant inspecter ces valeurs et les modifier en changeant la cellule ci-dessous."
   ]
  },
  {
   "cell_type": "code",
   "execution_count": null,
   "metadata": {},
   "outputs": [],
   "source": [
    "dictionnaire"
   ]
  },
  {
   "cell_type": "markdown",
   "metadata": {},
   "source": [
    "Comme vous pouvez le voir, python n'a aucun problème à mélanger divers types d'objets dans ses collections (comme le montre le dictionnaire contenant des clés étant des `str` et des `float` et les valeurs étant des `tuple` et des `int`.\n",
    "\n",
    "De manière générale, il est souvent possible de convertir entre type en utilisant les mots clés correspondants (indiqués entre parenthèse dans la cellule ci-dessus):"
   ]
  },
  {
   "cell_type": "code",
   "execution_count": null,
   "metadata": {},
   "outputs": [],
   "source": [
    "x = 0\n",
    "float(x)"
   ]
  },
  {
   "cell_type": "markdown",
   "metadata": {},
   "source": [
    "Un pattern très utile pour éliminer les doublons d'une liste consiste à simplement la transformer en `set`, puis la retransformer en `list`."
   ]
  },
  {
   "cell_type": "code",
   "execution_count": null,
   "metadata": {},
   "outputs": [],
   "source": [
    "x = [0,0,0,0,1,1,1,1,1,1]\n",
    "set(x)"
   ]
  },
  {
   "cell_type": "code",
   "execution_count": null,
   "metadata": {},
   "outputs": [],
   "source": [
    "x = list(set(x))\n",
    "x"
   ]
  },
  {
   "cell_type": "markdown",
   "metadata": {},
   "source": [
    "## Opérateurs de base\n",
    "Les différents opérateurs de base sont introduit ci-dessous. À noter qu'il est parfois possible de mélanger le type des opérants (par exemple entre `int` et `float`)."
   ]
  },
  {
   "cell_type": "code",
   "execution_count": null,
   "metadata": {},
   "outputs": [],
   "source": [
    "x = 2\n",
    "y = 2.5\n",
    "print(x+y)  # addition\n",
    "print(x*y)  # multiplication\n",
    "print(x/y)  # division\n",
    "print(x//y) # division entière (sans reste)\n",
    "print(x%y)  # modulo (reste)\n",
    "print(x**y) # puissance"
   ]
  },
  {
   "cell_type": "code",
   "execution_count": null,
   "metadata": {},
   "outputs": [],
   "source": [
    "x = True\n",
    "y = False\n",
    "print(x or y) # ou\n",
    "print(x | y)\n",
    "print(x and y) # ou\n",
    "print(x & y)"
   ]
  },
  {
   "cell_type": "code",
   "execution_count": null,
   "metadata": {},
   "outputs": [],
   "source": [
    "x = [0,1]\n",
    "y = [2,3]\n",
    "print(x+y) # concaténation de liste\n",
    "print(x*2) # répétition de liste"
   ]
  },
  {
   "cell_type": "markdown",
   "metadata": {},
   "source": [
    "## Flux de contrôle\n",
    "\n",
    "Les flux de contrôle en python ressemblent beaucoup à ceux d'autres langages, la structure est juste différente. En voici les plus simples et quelques-uns des patterns les plus utiles."
   ]
  },
  {
   "cell_type": "markdown",
   "metadata": {},
   "source": [
    "Le `if` permet de vérifier une condition, les conjonctions `and` et `or` permettent de lier des conditions. Il est également possible de rajouter des parenthèses pour grouper des conditions.\n",
    "\n",
    "La cellule du dessous en donne un aperçu, essayez de modifier les valeurs de `x`, `y` et `z` pour afficher les différents `print`."
   ]
  },
  {
   "cell_type": "code",
   "execution_count": null,
   "metadata": {},
   "outputs": [],
   "source": [
    "x = 2\n",
    "y = 2\n",
    "z = 3\n",
    "\n",
    "if x == y and x > z:\n",
    "    print('x est égal à y et plus grand que z')\n",
    "elif x==z:\n",
    "    print('x est égal à z, mais pas à y')\n",
    "else:\n",
    "    print(\"x n'est pas égal à y ou est strictement plus petit que z\")"
   ]
  },
  {
   "cell_type": "markdown",
   "metadata": {},
   "source": [
    "Les boucles `for` sont très utiles pour parcourir des collections. La syntaxe est `for x in iterable`. Les iterables les plus basiques sont les listes, il est aussi possible d'en créer avec certaines fonctions, telle que `range([low],high,[step])` qui retourne un itérable qui compte depuis `low` (optionnel, par défaut 0) jusqu'à `high` (non compris) en avançant de `step` (par défaut 1).\n",
    "\n",
    "Si l'itérable donne en sortie un `tuple`, il est possible de le \"déconstruire\" en précisant plusieurs variables dans la boucle `for`, par exemple: `for x,y in iterable_of_tuple`. C.f. https://docs.python.org/fr/3/tutorial/datastructures.html#tuples-and-sequences."
   ]
  },
  {
   "cell_type": "code",
   "execution_count": null,
   "metadata": {},
   "outputs": [],
   "source": [
    "x = [4,5,6,7]\n",
    "# la fonction len() donne la longueur d'une collection\n",
    "# la fonction range() donne une collection qui itère sur le range\n",
    "for index in range(len(x)):\n",
    "    print(x[index])\n",
    "print()\n",
    "# Ou de manière plus élégante si on a pas besoin de l'index\n",
    "for element in x:\n",
    "    print(element)\n",
    "print()\n",
    "# Ou le meilleur des deux mondes\n",
    "# la fonction enumerate() prend une collection et retourne l'indice de l'élément et l'élément de la collection\n",
    "for index, element in enumerate(x):\n",
    "    print(index, element)"
   ]
  },
  {
   "cell_type": "markdown",
   "metadata": {},
   "source": [
    "Finalement, la boucle `while` qui est moins utilisée permet de répéter l'exécution d'un bout de code tant qu'une condition n'est pas atteinte."
   ]
  },
  {
   "cell_type": "code",
   "execution_count": null,
   "metadata": {},
   "outputs": [],
   "source": [
    "nombre_dessais = 5\n",
    "while nombre_dessais > 0:\n",
    "    print(\"Raté\")\n",
    "    nombre_dessais -= 1"
   ]
  },
  {
   "cell_type": "markdown",
   "metadata": {},
   "source": [
    "## Structures de données\n",
    "Les principales structures de données en python ont été introduites plus haut. Il s'agit des `tuple` (tableaux statiques), des `list` (tableaux dynamique), des `set` (sets mathématique) et des `dict` (dictionnaires de clé-valeurs). Les prochaines cellules présentent quelques-unes de leurs fonctionnalités."
   ]
  },
  {
   "cell_type": "code",
   "execution_count": null,
   "metadata": {},
   "outputs": [],
   "source": [
    "x = []\n",
    "print(x)\n",
    "for i in range(10):\n",
    "    x.append(i) # ajoute i à la liste x\n",
    "print(x)\n",
    "\n",
    "# Il peut être également pratique de connaître la structure des listes en compréhension.\n",
    "# La liste obtenue est identique, mais sa création est bien plus compacte (ne nécessite qu'une ligne).\n",
    "x = [i for i in range(10)]\n",
    "print(x)"
   ]
  },
  {
   "cell_type": "code",
   "execution_count": null,
   "metadata": {},
   "outputs": [],
   "source": [
    "x = set()\n",
    "y = set()\n",
    "for i in range(1,10):\n",
    "    x.add(i) # ajoute i au set x\n",
    "    y.add(i%2) # ajoute i%2 au set y\n",
    "print(\"x, y:\", x, y)\n",
    "print(\"x-y:\", x.difference(y)) # différence entre sets\n",
    "print(\"y-x:\", y.difference(x))\n",
    "print(\"x ou y:\", x.union(y)) # union de sets\n",
    "print(\"x et y:\", x.intersection(y)) # intersection de sets"
   ]
  },
  {
   "cell_type": "code",
   "execution_count": null,
   "metadata": {},
   "outputs": [],
   "source": [
    "x = dict()\n",
    "for index, lettre in enumerate('test'): # une chaîne de caractère est une collection de caractères\n",
    "    x[index] = lettre # on assigne à la clé index la lettre\n",
    "print(x)\n",
    "del x[0] # on supprime la clé 0\n",
    "print(x)\n",
    "x[1] = 'r' # on change la valeur de la clé 1\n",
    "print(x)"
   ]
  },
  {
   "cell_type": "markdown",
   "metadata": {},
   "source": [
    "## Fonctions\n",
    "\n",
    "Il est souvent pratique d'écrire des fonctions afin de mieux modulariser le code et d'éviter de la duplication de code pour une opération que l'on utilise souvent."
   ]
  },
  {
   "cell_type": "code",
   "execution_count": null,
   "metadata": {},
   "outputs": [],
   "source": [
    "def ma_fonction(): # fonction sans argument qui retourne toujours 3\n",
    "    return 3\n",
    "\n",
    "def est_pair(x): # fonction qui retourne un booléen indiquant si un nombre est pair\n",
    "    return x % 2 == 0\n",
    "\n",
    "def puissance(base, exp=2):\n",
    "    #fonction qui retourne la base à la puissance de exp\n",
    "    #exp est un argument par défaut qui est égal à 2\n",
    "    return base**exp\n",
    "\n",
    "# Il est conseillé de documenter vos fonctions avec le format \"\"\" informations \"\"\"\n",
    "def puissance(base, exp=2):\n",
    "    \"\"\"\n",
    "    Retourne la base à la puissance 'exp' (par défaut 2)\n",
    "    \"\"\"\n",
    "    return base**exp\n",
    "\n",
    "\n",
    "print(ma_fonction())\n",
    "print(est_pair(2))\n",
    "print(puissance(2))\n",
    "print(puissance(2, exp=5))\n",
    "print(puissance(exp=2, base=5))\n",
    "\n",
    "\n",
    "print(est_pair(puissance(ma_fonction())))"
   ]
  },
  {
   "cell_type": "markdown",
   "metadata": {},
   "source": [
    "### Gestion d'erreurs\n",
    "\n",
    "Vous aurez peut-être besoin d'une structure vous permettant de gérer les cas d'erreurs et d'exceptions. Ceci passe par les mots-clé `try` et `except`. \n",
    "\n",
    "Dans l'exemple ci-dessous, on demande à l'utilisateur d'entrer un nombre, qui est ensuite converti en `int` (avec le `try`). Si la conversion renvoie une erreur (ici du type `ValueError`, mais d'autres types existent, voir dans la documentation: https://docs.python.org/3/library/exceptions.html#bltin-exceptions), elle est identifiée par `except` :  un message est affiché et la fonction relancée jusqu'à ce que l'input soit bien un nombre."
   ]
  },
  {
   "cell_type": "code",
   "execution_count": null,
   "metadata": {},
   "outputs": [],
   "source": [
    "def convertir_entier():\n",
    "    try:\n",
    "        x = int(input(\"Entrez un nombre: \"))\n",
    "        print(f'  Le nombre était {x}')\n",
    "    except ValueError:\n",
    "        print(\"  Attention!  Ce n'est pas un nombre valable. Essayez encore:\")\n",
    "        convertir_entier()\n",
    "        \n",
    "convertir_entier()"
   ]
  },
  {
   "cell_type": "markdown",
   "metadata": {},
   "source": [
    "## Modules\n",
    "\n",
    "Il est commun de réutiliser du code écrit par d'autres, ceci se fait en python au travers de modules. Python contient par défaut de nombreux modules, mais il est toutefois souvent nécessaire d'installer d'autres modules comme nous l'avons fait dans la partie d'installation (avec `pip install mon_module`). Cette section montre comment importer des fonctions et des variables depuis le module par défaut `math`."
   ]
  },
  {
   "cell_type": "code",
   "execution_count": null,
   "metadata": {},
   "outputs": [],
   "source": [
    "import math # on peut soit importer le module en entier\n",
    "math.pi"
   ]
  },
  {
   "cell_type": "code",
   "execution_count": null,
   "metadata": {},
   "outputs": [],
   "source": [
    "from math import pi, sqrt # ou seulement importer ce qui nous intéresse\n",
    "sqrt(pi)"
   ]
  },
  {
   "cell_type": "code",
   "execution_count": null,
   "metadata": {},
   "outputs": [],
   "source": [
    "from math import sqrt as racine_carree # il est aussi possible de renommer ce que l'on import avec le mot-clé as\n",
    "racine_carree(pi)"
   ]
  },
  {
   "cell_type": "markdown",
   "metadata": {},
   "source": [
    "## Les chaînes de caractères\n",
    "\n",
    "Les chaînes de caractères méritent qu'on s'intéresse d'un peu plus près à elle car elles nous seront souvent utiles dans le cadre de ce cours.\n",
    "\n",
    "Cette section va couvrir le formatage de chaînes de caractères et quelques-unes des fonctions utiles."
   ]
  },
  {
   "cell_type": "markdown",
   "metadata": {},
   "source": [
    "#### Formatage\n",
    "Le formatage de chaînes de caractères (c'est-à-dire l'introduction au sein de la chaîne des valeurs de variables) est devenu très agréable en python depuis les `f-strings` introduites dans la version 3.6. Il existe plusieurs autres manière de formater les chaînes de caractères, mais elles ne seront pas présentées ici.\n",
    "\n",
    "Les `f-strings` sont des chaînes de caractères normales, mais auxquels on ajoute un `f` avant les guillemets. Les accolades deviennent des caractères spéciaux qui permettent de formater du contenu python. Python a une riche syntaxe de formatage qui est explicitée dans la [documentation officielle](https://docs.python.org/fr/3.8/library/string.html#formatstrings). Un exemple est le format `.2f` qui affiche un réel 2 chiffres après la virgule."
   ]
  },
  {
   "cell_type": "code",
   "execution_count": null,
   "metadata": {},
   "outputs": [],
   "source": [
    "x = 0.234354353 # Disons que c'est chiffre est un pourcentage\n",
    "print(f\"Le chiffre x est égale à {x}.\")\n",
    "\n",
    "# Il est possible de formatter directement le résultat d'une expression\n",
    "# et de faire suivre l'expression par : pour mettre une format string.\n",
    "print(f\"Cela représente {x*100:.2f} pourcents.\") "
   ]
  },
  {
   "cell_type": "markdown",
   "metadata": {},
   "source": [
    "#### Fonctions utiles\n",
    "Il existe beaucoup de fonction utiles pour traiter des chaînes de caractères, cette section n'en couvrira que quelques unes, pour plus de détail, voir la [documentation officielle](https://docs.python.org/fr/3.8/library/stdtypes.html#textseq)."
   ]
  },
  {
   "cell_type": "code",
   "execution_count": null,
   "metadata": {},
   "outputs": [],
   "source": [
    "x = '   Ceci est une chaîne de caractères avec un chiffre.   '\n",
    "print(x.upper()) # tout mettre en majuscule\n",
    "print(x.lower()) # tout mettre en miniscule\n",
    "print()\n",
    "\n",
    "print(x.startswith('Ceci')) # vérifier qu'une chaîne commence par une chaîne de caractères donnée \n",
    "print(x.endswith(',')) # vérifier qu'une chaîne termine par une chaîne de caractères donnée\n",
    "print()\n",
    "\n",
    "print(x.isalpha()) # vérifie qu'une chaîne de caractère ne contient que des des lettres\n",
    "print(x.isdigit()) # vérifie qu'une chaîne de caractère ne contient que des chiffres\n",
    "print()\n",
    "\n",
    "print(x.strip()) # supprime les espaces avant et après la chaîne de caractères\n",
    "print(x.strip('   C')) # Supprime les occurences de la chaîne de caractères donnée au début et à la fin\n",
    "print()\n",
    "\n",
    "print(x.split()) # séparer la chaîne de caractères à chaque espace\n",
    "print(x.split('une')) # séparer la chaîne de caractères aux occurences de \"une\"\n",
    "# rejoint une liste de chaînes de caractères avec comme séparateur une chaîne de caractères\n",
    "print(\", \".join(['liste', 'de', 'chaîne', 'de', 'caractères.']))\n",
    "print()\n",
    "\n",
    "print(x.replace('ha', 'ah')) # remplace une chaîne par une autre"
   ]
  },
  {
   "cell_type": "markdown",
   "metadata": {},
   "source": [
    "## Lecture/écriture de fichiers\n",
    "\n",
    "Dans le cadre du cours, il vous arrivera sûrement d'avoir besoin de lire et d'écrire des fichiers textes. La partie suivante va vous montrer comment lire et écrire un simple fichier texte, un fichier json et un fichier binaire python (`pickle`)."
   ]
  },
  {
   "cell_type": "markdown",
   "metadata": {},
   "source": [
    "#### Lecture/écriture de fichiers texte\n",
    "\n",
    "De manière générale, un fichier s'ouvre avec la fonction `open` et précisant le chemin du fichier (relatif depuis le notebook), un mode d'ouverture et un encoding (que nous mettrons toujours en `utf-8` sauf pour les fichiers binaires):\n",
    "\n",
    "`open('./mon_fichier.txt', 'r', encoding='utf-8')`\n",
    "\n",
    "Les modes d'ouvertures sont les suivants:\n",
    "- `r` qui indique une ouverture en lecture uniquement\n",
    "- `w` qui indique une ouverture en écriture uniquement (ATTENTION, cela écrase le fichier)\n",
    "- `a` qui indique une ouverture en écriture, mais qui ajoute le contenu écrit à la fin du fichier (le fichier n'est pas écrasé)\n",
    "- `r+` qui indique une ouverture en lecture/écriture\n",
    "- `rb` / `wb` qui indique une ouverture en lecture/écriture binaire (plus de détail plus tard)\n",
    "\n",
    "Il y a ensuite des fonctions de lecture et d'écriture une fois le fichier ouvert:\n",
    "- `read()` qui lit tout le contenu d'un fichier (retourne une seule chaîne de caractère)\n",
    "- `readlines()` qui lit le contenu du fichier et split à chaque retour à la ligne\n",
    "- `write(texte)` qui écrit du texte dans le fichier\n",
    "\n",
    "Il faut normalement fermer un fichier une fois ouvert, mais le mot-clé `with` permet de gérer automatiquement la fermeture et est la manière conseillée d'ouvrir un fichier. Voici un exemple de lecture d'un fichier de deux manières différentes équivalente:"
   ]
  },
  {
   "cell_type": "code",
   "execution_count": null,
   "metadata": {},
   "outputs": [],
   "source": [
    "infile = open('../README.md', 'r', encoding='utf-8')\n",
    "x = infile.read()\n",
    "infile.close()\n",
    "\n",
    "with open('../README.md', 'r', encoding='utf-8') as infile:\n",
    "    y = infile.read()\n",
    "print(x)\n",
    "print(y)"
   ]
  },
  {
   "cell_type": "markdown",
   "metadata": {},
   "source": [
    "Remplacez `read` par `readlines` et observez la différence.\n",
    "\n",
    "Créeons maintenant un nouveau fichier et écrivons du contenu dedans. À noter qu'il est possible d'utiliser la séquence `\\n` pour faire un retour à la ligne."
   ]
  },
  {
   "cell_type": "code",
   "execution_count": null,
   "metadata": {},
   "outputs": [],
   "source": [
    "with open('./Sandbox/fichier_test.md', 'w', encoding='utf-8') as outfile:\n",
    "    outfile.write('# Fichier de test\\n')\n",
    "    outfile.write('Sur une autre ligne')\n",
    "    outfile.write(' ou collé si on ne mets pas de saut à la ligne avec \\\\n')"
   ]
  },
  {
   "cell_type": "markdown",
   "metadata": {},
   "source": [
    "Un nouveau fichier a dû être créé dans le même dossier que le notebook."
   ]
  },
  {
   "cell_type": "markdown",
   "metadata": {},
   "source": [
    "#### Lire écrire un fichier json\n",
    "Le format texte n'est souvent pas très pratique pour stocker des informations et le format binaire n'est pas lisible par l'humain. Le format JSON est souvent un bon compromis et permet de représenter des structures de données composées de dictionnaires et des tableaux."
   ]
  },
  {
   "cell_type": "code",
   "execution_count": null,
   "metadata": {},
   "outputs": [],
   "source": [
    "import json # nous importons la librairie json\n",
    "\n",
    "personnes = [\n",
    "    {\n",
    "        'nom': 'Charles',\n",
    "        'age': 34,\n",
    "        'est_etudiant': False\n",
    "    },\n",
    "    {\n",
    "        'nom': \"François\",\n",
    "        'age': 22,\n",
    "        'est_etudiant': True\n",
    "    }\n",
    "]\n",
    "\n",
    "with open('./Sandbox/personnes.json', 'w', encoding='utf-8') as outfile:\n",
    "    json.dump(personnes, outfile,  ensure_ascii=False) # écriture de la structure personnes dans outfile\n",
    "    \n",
    "with open('./Sandbox/personnes.json', 'r', encoding='utf-8') as infile:\n",
    "    personnes_depuis_json = json.load(infile) # lecture du fichier json\n",
    "    \n",
    "print(personnes)\n",
    "print(personnes_depuis_json)"
   ]
  },
  {
   "cell_type": "markdown",
   "metadata": {},
   "source": [
    "#### Lire et écrire un fichier binaire\n",
    "Le format JSON ne suffit pas parfois à représenter des objets plus complexes, tels que des classes (que nous n'introduisons pas dans ce tutoriel, sauf pour cet exemple). Il faut donc passer par d'autres format de fichier. Le format binaire `pickle` est un format créé pour python et permet de représenter la plupart des objets python."
   ]
  },
  {
   "cell_type": "code",
   "execution_count": null,
   "metadata": {},
   "outputs": [],
   "source": [
    "import pickle # nous importons le module pickle pour sérialiser les objets\n",
    "\n",
    "# Pas besoin de comprendre la définition de la classe Personne\n",
    "class Personne:\n",
    "    def __init__(self, nom, age):\n",
    "        self.nom = nom\n",
    "        self.age = age\n",
    "        self.est_etudiant = age < 25\n",
    "        \n",
    "    def __repr__(self):\n",
    "        return f'Personne({self.nom}, {self.age:d})'\n",
    "        \n",
    "charles = Personne('Charles', 34)\n",
    "francois = Personne('Francois', 22)\n",
    "personnes = [charles, francois] # nous créons une liste de personnes\n",
    "personnes"
   ]
  },
  {
   "cell_type": "code",
   "execution_count": null,
   "metadata": {},
   "outputs": [],
   "source": [
    "with open('./Sandbox/personnes.pkl', 'wb') as outfile: # nous ouvrons le fichier au format binaire\n",
    "    pickle.dump(personnes, outfile)"
   ]
  },
  {
   "cell_type": "markdown",
   "metadata": {},
   "source": [
    "Que se passe-t-il si l'on ouvre le fichier en mode texte ?"
   ]
  },
  {
   "cell_type": "code",
   "execution_count": null,
   "metadata": {},
   "outputs": [],
   "source": [
    "with open('./Sandbox/personnes.pkl', 'r') as infile: # \n",
    "    personnes_du_fichier = infile.read()\n",
    "personnes_du_fichier"
   ]
  },
  {
   "cell_type": "code",
   "execution_count": null,
   "metadata": {},
   "outputs": [],
   "source": [
    "# Et maintenant en lecture binaire ?\n",
    "\n",
    "with open('./Sandbox/personnes.pkl', 'rb') as infile:\n",
    "    personnes_du_fichier = pickle.load(infile)\n",
    "personnes_du_fichier"
   ]
  }
 ],
 "metadata": {
  "kernelspec": {
   "display_name": "Python 3",
   "language": "python",
   "name": "python3"
  },
  "language_info": {
   "codemirror_mode": {
    "name": "ipython",
    "version": 3
   },
   "file_extension": ".py",
   "mimetype": "text/x-python",
   "name": "python",
   "nbconvert_exporter": "python",
   "pygments_lexer": "ipython3",
   "version": "3.9.1"
  },
  "toc": {
   "base_numbering": 1,
   "nav_menu": {},
   "number_sections": true,
   "sideBar": true,
   "skip_h1_title": false,
   "title_cell": "Table of Contents",
   "title_sidebar": "Contents",
   "toc_cell": true,
   "toc_position": {},
   "toc_section_display": true,
   "toc_window_display": false
  }
 },
 "nbformat": 4,
 "nbformat_minor": 4
}
