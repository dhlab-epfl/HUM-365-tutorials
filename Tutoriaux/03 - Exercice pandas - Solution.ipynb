{
 "cells": [
  {
   "cell_type": "markdown",
   "metadata": {
    "toc": true
   },
   "source": [
    "<h1>Table of Contents<span class=\"tocSkip\"></span></h1>\n",
    "<div class=\"toc\"><ul class=\"toc-item\"><li><span><a href=\"#Chargement-des-données\" data-toc-modified-id=\"Chargement-des-données-1\"><span class=\"toc-item-num\">1&nbsp;&nbsp;</span>Chargement des données</a></span></li><li><span><a href=\"#Présentation-des-tâches\" data-toc-modified-id=\"Présentation-des-tâches-2\"><span class=\"toc-item-num\">2&nbsp;&nbsp;</span>Présentation des tâches</a></span><ul class=\"toc-item\"><li><span><a href=\"#Quelques-ressources\" data-toc-modified-id=\"Quelques-ressources-2.1\"><span class=\"toc-item-num\">2.1&nbsp;&nbsp;</span>Quelques ressources</a></span><ul class=\"toc-item\"><li><span><a href=\"#Pandas\" data-toc-modified-id=\"Pandas-2.1.1\"><span class=\"toc-item-num\">2.1.1&nbsp;&nbsp;</span>Pandas</a></span></li><li><span><a href=\"#expressions-régulières:\" data-toc-modified-id=\"expressions-régulières:-2.1.2\"><span class=\"toc-item-num\">2.1.2&nbsp;&nbsp;</span>expressions régulières:</a></span></li></ul></li></ul></li><li><span><a href=\"#Tâches\" data-toc-modified-id=\"Tâches-3\"><span class=\"toc-item-num\">3&nbsp;&nbsp;</span>Tâches</a></span><ul class=\"toc-item\"><li><span><a href=\"#Tâche-1\" data-toc-modified-id=\"Tâche-1-3.1\"><span class=\"toc-item-num\">3.1&nbsp;&nbsp;</span>Tâche 1</a></span></li><li><span><a href=\"#Tâche-2\" data-toc-modified-id=\"Tâche-2-3.2\"><span class=\"toc-item-num\">3.2&nbsp;&nbsp;</span>Tâche 2</a></span></li><li><span><a href=\"#Tâche-3\" data-toc-modified-id=\"Tâche-3-3.3\"><span class=\"toc-item-num\">3.3&nbsp;&nbsp;</span>Tâche 3</a></span></li><li><span><a href=\"#Tâche-4\" data-toc-modified-id=\"Tâche-4-3.4\"><span class=\"toc-item-num\">3.4&nbsp;&nbsp;</span>Tâche 4</a></span></li><li><span><a href=\"#Tâche-5\" data-toc-modified-id=\"Tâche-5-3.5\"><span class=\"toc-item-num\">3.5&nbsp;&nbsp;</span>Tâche 5</a></span></li></ul></li></ul></div>"
   ]
  },
  {
   "cell_type": "markdown",
   "metadata": {},
   "source": [
    "Le but de ce tutoriel est de vous familiariser avec `pandas` et les expressions régulières qui vous seront utiles pour vos projets.\n",
    "\n",
    "Ce tutoriel, contrairement au précédent ne vous donne pas les solutions et vous laisse essayer de résoudre diverses tâches. Le contenu qui vous sera utile pour apprendre `pandas` et les expressions régulières est externe à ce tutoriel et est référencé plus bas.\n",
    "\n",
    "Je vous invite à chercher de vous même d'autres ressources, car celle qui sont présentes dans ce tutoriel ne sont pas exhaustives. De plus, vous pouvez me contactez par mail au besoin et nous planifierons une réunion.\n",
    "\n",
    "Les tâches qui vous sont proposées devraient vous aider à vous familiarisez avec les données et sur la manière de les manipuler. La tâche 1 vous permettra de comprendre les bases de pandas. La tâche 2 de comprendre les expressions régulières. Les tâches 3 et 4 de passer de phrases aux mots (qui peut être utiler pour nettoyer des données). Et finalement la tâche 5 vous permettra de détecter des doublons d'entrées.\n",
    "\n",
    "Nous commençons par quelques `import` et définition de fonction utile, il n'est pas nécessaire de tout comprendre dans la cellule suivante.\n",
    "\n",
    "Pour ceux qui n'ont pas installé `Anaconda`, avant de pouvoir utiliser ce tutoriel, il vous faut installer `pandas` avec la commande `pip install pandas`."
   ]
  },
  {
   "cell_type": "code",
   "execution_count": 1,
   "metadata": {},
   "outputs": [],
   "source": [
    "import pandas as pd\n",
    "\n",
    "from IPython.display import display\n",
    "from urllib.parse import quote\n",
    "\n",
    "doc2start = {\"bpt6k63243601\": 123, \"bpt6k62931221\": 151, \"bpt6k6286466w\": 189, \"bpt6k6393838j\": 219, \"bpt6k6331310g\": 216, \"bpt6k6292987t\": 353, \"bpt6k62906378\": 288, \"bpt6k6391515w\": 319, \"bpt6k6315927h\": 349, \"bpt6k6319106t\": 324, \"bpt6k6315985z\": 82, \"bpt6k63959929\": 82, \"bpt6k63197984\": 56, \"bpt6k6389871r\": 77, \"bpt6k6319811j\": 79, \"bpt6k6282019m\": 72, \"bpt6k6314752k\": 190, \"bpt6k6305463c\": 113, \"bpt6k6318531z\": 108, \"bpt6k6324389h\": 72, \"bpt6k63243920\": 80, \"bpt6k6309075f\": 96, \"bpt6k6333200c\": 132, \"bpt6k63243905\": 134, \"bpt6k6333170p\": 137, \"bpt6k96727875\": 135, \"bpt6k9764746t\": 99, \"bpt6k97645375\": 123, \"bpt6k9672117f\": 125, \"bpt6k9763554c\": 123, \"bpt6k9763553z\": 105, \"bpt6k9677392n\": 110, \"bpt6k9692809v\": 113, \"bpt6k9762929c\": 129, \"bpt6k9672776c\": 119, \"bpt6k9764647w\": 121, \"bpt6k9669143t\": 145, \"bpt6k9677737t\": 139, \"bpt6k9668037f\": 167, \"bpt6k96839542\": 171, \"bpt6k96762564\": 185, \"bpt6k9685861g\": 189, \"bpt6k9763471j\": 153, \"bpt6k9762899p\": 157, \"bpt6k97630871\": 11, \"bpt6k9684454n\": 235, \"bpt6k9732740w\": 239, \"bpt6k9684013b\": 189, \"bpt6k9692626p\": 305, \"bpt6k9685098r\": 281, \"bpt6k9764402m\": 329, \"bpt6k97631451\": 322, \"bpt6k9776121t\": 49, \"bpt6k9775724t\": 33, \"bpt6k97774838\": 327, \"bpt6k9780089g\": 339}\n",
    "\n",
    "def entry2url(row):\n",
    "    \"\"\"\n",
    "    Takes a row of an Annuaire csv and\n",
    "    transforms it to the corresponding Gallica url\n",
    "    \"\"\"\n",
    "    url = \"https://gallica.bnf.fr/ark:/12148/\"\n",
    "    \n",
    "    directory = row['directory']\n",
    "    page = row['page'] - doc2start[directory]\n",
    "    url += f\"{row['directory']}/f{row['page']-doc2start[row['directory']]}\"\n",
    "    \n",
    "    r_strings = []\n",
    "    if 'name' in row and pd.notna(row['name']):\n",
    "        r_strings.append(quote(row['name'].replace('.', ' ')))\n",
    "    if 'job' in row and pd.notna(row['job']):\n",
    "        r_strings.append(quote(row['job'].replace('.', ' ')))\n",
    "    if 'street' in row and pd.notna(row['street']):\n",
    "        r_strings.append(quote(row['street'].replace('.', ' ')))\n",
    "    if 'number' in row and pd.notna(row['number']):\n",
    "        r_strings.append(quote(row['number'].replace('.', ' ')))\n",
    "    \n",
    "    if len(r_strings) > 0:\n",
    "        url += f\".item.r={'%20'.join(r_strings)}.zoom\"\n",
    "    \n",
    "    return url\n",
    "\n",
    "def add_clickable_url(bottin_dataframe):\n",
    "    bottin_dataframe = bottin_dataframe.copy()\n",
    "    bottin_dataframe['url'] = bottin_dataframe.apply(entry2url, axis=1)\n",
    "    def make_clickable(val):\n",
    "        return '<a href=\"{}\">gallica url</a>'.format(val,val)\n",
    "\n",
    "    return bottin_dataframe.style.format(make_clickable, subset=['url'])"
   ]
  },
  {
   "cell_type": "markdown",
   "metadata": {},
   "source": [
    "# Chargement des données"
   ]
  },
  {
   "cell_type": "markdown",
   "metadata": {},
   "source": [
    "`Pandas` est une librairie qui permet de traiter des données tabulaires.\n",
    "\n",
    "Elle comporte deux types d'objets, les `Series` qui correspondent à des colonnes et des `Dataframe` qui correspondent à des colonnes mises en tableau.\n",
    "\n",
    "`Pandas` permet de directement lire les fichier `csv` à l'aide de la fonction `pd.read_csv`."
   ]
  },
  {
   "cell_type": "code",
   "execution_count": 2,
   "metadata": {},
   "outputs": [],
   "source": [
    "data_bottin = pd.read_csv('./bottin_test_data.zip')"
   ]
  },
  {
   "cell_type": "code",
   "execution_count": 3,
   "metadata": {},
   "outputs": [],
   "source": [
    "data_bottin = pd.read_csv('../data/bottin_data_groupe_6.zip')"
   ]
  },
  {
   "cell_type": "code",
   "execution_count": 4,
   "metadata": {},
   "outputs": [
    {
     "data": {
      "text/plain": [
       "(228108, 63795, 41640)"
      ]
     },
     "execution_count": 4,
     "metadata": {},
     "output_type": "execute_result"
    }
   ],
   "source": [
    "len(data_bottin['name'].unique()), len(data_bottin['job'].unique()), len(data_bottin['street'].unique())"
   ]
  },
  {
   "cell_type": "code",
   "execution_count": 5,
   "metadata": {},
   "outputs": [],
   "source": [
    "import editdistance\n",
    "import numpy as np\n",
    "from tqdm.notebook import tqdm\n",
    "import multiprocessing as mp"
   ]
  },
  {
   "cell_type": "code",
   "execution_count": 7,
   "metadata": {},
   "outputs": [
    {
     "data": {
      "text/plain": [
       "0                 [vins, et, hôtel]\n",
       "1              [march, de, chevaux]\n",
       "2         [fantaisies, pour, modes]\n",
       "3                      [négociants]\n",
       "4                [vente, à, crédit]\n",
       "                    ...            \n",
       "617231                 [serruriers]\n",
       "617232            [perles, fausses]\n",
       "617233                 [restaurant]\n",
       "617234                        [bar]\n",
       "617235                   [dentiste]\n",
       "Name: job, Length: 617236, dtype: object"
      ]
     },
     "execution_count": 7,
     "metadata": {},
     "output_type": "execute_result"
    }
   ],
   "source": []
  },
  {
   "cell_type": "code",
   "execution_count": 8,
   "metadata": {},
   "outputs": [],
   "source": [
    "import re\n",
    "from collections import Counter\n",
    "\n",
    "def words(text): return re.findall(r'\\w+', text.lower())\n",
    "\n",
    "WORDS = Counter()\n",
    "data_bottin['job'].fillna('').apply(words).apply(WORDS.update)\n",
    "\n",
    "def P(word, N=sum(WORDS.values())): \n",
    "    \"Probability of `word`.\"\n",
    "    return WORDS[word] / N\n",
    "\n",
    "def correction(word): \n",
    "    \"Most probable spelling correction for word.\"\n",
    "    return max(candidates(word), key=P)\n",
    "\n",
    "def candidates(word): \n",
    "    \"Generate possible spelling corrections for word.\"\n",
    "    return (known([word]) or known(edits1(word)) or known(edits2(word)) or [word])\n",
    "\n",
    "def known(words): \n",
    "    \"The subset of `words` that appear in the dictionary of WORDS.\"\n",
    "    return set(w for w in words if w in WORDS)\n",
    "\n",
    "def edits1(word):\n",
    "    \"All edits that are one edit away from `word`.\"\n",
    "    letters    = 'abcdefghijklmnopqrstuvwxyz'\n",
    "    splits     = [(word[:i], word[i:])    for i in range(len(word) + 1)]\n",
    "    deletes    = [L + R[1:]               for L, R in splits if R]\n",
    "    transposes = [L + R[1] + R[0] + R[2:] for L, R in splits if len(R)>1]\n",
    "    replaces   = [L + c + R[1:]           for L, R in splits if R for c in letters]\n",
    "    inserts    = [L + c + R               for L, R in splits for c in letters]\n",
    "    return set(deletes + transposes + replaces + inserts)\n",
    "\n",
    "def edits2(word): \n",
    "    \"All edits that are two edits away from `word`.\"\n",
    "    return (e2 for e1 in edits1(word) for e2 in edits1(e1))"
   ]
  },
  {
   "cell_type": "code",
   "execution_count": 20,
   "metadata": {},
   "outputs": [
    {
     "data": {
      "text/plain": [
       "[('achai', 1),\n",
       " ('orsets', 1),\n",
       " ('plncement', 1),\n",
       " ('reprós', 1),\n",
       " ('poch', 1),\n",
       " ('cport', 1),\n",
       " ('tare', 1),\n",
       " ('couillages', 1),\n",
       " ('grangebatelière', 1),\n",
       " ('peliers', 1),\n",
       " ('manut', 1),\n",
       " ('criblages', 1),\n",
       " ('mangin', 1),\n",
       " ('étectricien', 1),\n",
       " ('nutrition', 1)]"
      ]
     },
     "execution_count": 20,
     "metadata": {},
     "output_type": "execute_result"
    }
   ],
   "source": [
    "WORDS.most_common()[-15:]"
   ]
  },
  {
   "cell_type": "code",
   "execution_count": 21,
   "metadata": {},
   "outputs": [
    {
     "data": {
      "text/plain": [
       "'plncement'"
      ]
     },
     "execution_count": 21,
     "metadata": {},
     "output_type": "execute_result"
    }
   ],
   "source": [
    "correction('plncement')"
   ]
  },
  {
   "cell_type": "code",
   "execution_count": 6,
   "metadata": {},
   "outputs": [
    {
     "data": {
      "text/plain": [
       "4"
      ]
     },
     "execution_count": 6,
     "metadata": {},
     "output_type": "execute_result"
    }
   ],
   "source": [
    "from similarity.qgram import QGram\n",
    "\n",
    "qgram = QGram(1)\n",
    "\n",
    "qgram.distance(\"ABCYD\", \"AABCCDE\")"
   ]
  },
  {
   "cell_type": "code",
   "execution_count": 7,
   "metadata": {},
   "outputs": [
    {
     "name": "stderr",
     "output_type": "stream",
     "text": [
      "2020-04-28 21:41:05,918\tWARNING worker.py:673 -- WARNING: Not updating worker name since `setproctitle` is not installed. Install this with `pip install setproctitle` (or ray[debug]) to enable monitoring of worker processes.\n",
      "2020-04-28 21:41:05,919\tWARNING services.py:597 -- setpgrp failed, processes may not be cleaned up properly: [Errno 1] Operation not permitted.\n",
      "2020-04-28 21:41:05,920\tINFO resource_spec.py:216 -- Starting Ray with 13.57 GiB memory available for workers and up to 6.8 GiB for objects. You can adjust these settings with ray.init(memory=<bytes>, object_store_memory=<bytes>).\n"
     ]
    },
    {
     "data": {
      "text/plain": [
       "{'node_ip_address': '192.168.0.115',\n",
       " 'redis_address': '192.168.0.115:59728',\n",
       " 'object_store_address': '/tmp/ray/session_2020-04-28_21-41-05_919237_1603846/sockets/plasma_store',\n",
       " 'raylet_socket_name': '/tmp/ray/session_2020-04-28_21-41-05_919237_1603846/sockets/raylet',\n",
       " 'webui_url': None,\n",
       " 'session_dir': '/tmp/ray/session_2020-04-28_21-41-05_919237_1603846'}"
      ]
     },
     "execution_count": 7,
     "metadata": {},
     "output_type": "execute_result"
    }
   ],
   "source": [
    "import ray\n",
    "ray.init(num_cpus=32)"
   ]
  },
  {
   "cell_type": "code",
   "execution_count": 8,
   "metadata": {},
   "outputs": [],
   "source": [
    "unique_names = pd.DataFrame(data_bottin['name'].unique(), columns=['name'])\n",
    "unique_names['len'] = unique_names['name'].apply(len)\n",
    "unique_names = unique_names.sort_values(by=['len']).reset_index(drop=True)"
   ]
  },
  {
   "cell_type": "code",
   "execution_count": 8,
   "metadata": {},
   "outputs": [
    {
     "data": {
      "text/html": [
       "<div>\n",
       "<style scoped>\n",
       "    .dataframe tbody tr th:only-of-type {\n",
       "        vertical-align: middle;\n",
       "    }\n",
       "\n",
       "    .dataframe tbody tr th {\n",
       "        vertical-align: top;\n",
       "    }\n",
       "\n",
       "    .dataframe thead th {\n",
       "        text-align: right;\n",
       "    }\n",
       "</style>\n",
       "<table border=\"1\" class=\"dataframe\">\n",
       "  <thead>\n",
       "    <tr style=\"text-align: right;\">\n",
       "      <th></th>\n",
       "      <th>name</th>\n",
       "      <th>len</th>\n",
       "    </tr>\n",
       "  </thead>\n",
       "  <tbody>\n",
       "    <tr>\n",
       "      <th>0</th>\n",
       "      <td>Eny</td>\n",
       "      <td>3</td>\n",
       "    </tr>\n",
       "    <tr>\n",
       "      <th>1</th>\n",
       "      <td>Vre</td>\n",
       "      <td>3</td>\n",
       "    </tr>\n",
       "    <tr>\n",
       "      <th>2</th>\n",
       "      <td>Pol</td>\n",
       "      <td>3</td>\n",
       "    </tr>\n",
       "    <tr>\n",
       "      <th>3</th>\n",
       "      <td>Plô</td>\n",
       "      <td>3</td>\n",
       "    </tr>\n",
       "    <tr>\n",
       "      <th>4</th>\n",
       "      <td>Gry</td>\n",
       "      <td>3</td>\n",
       "    </tr>\n",
       "    <tr>\n",
       "      <th>...</th>\n",
       "      <td>...</td>\n",
       "      <td>...</td>\n",
       "    </tr>\n",
       "    <tr>\n",
       "      <th>3565</th>\n",
       "      <td>Pavé</td>\n",
       "      <td>4</td>\n",
       "    </tr>\n",
       "    <tr>\n",
       "      <th>3566</th>\n",
       "      <td>Boby</td>\n",
       "      <td>4</td>\n",
       "    </tr>\n",
       "    <tr>\n",
       "      <th>3567</th>\n",
       "      <td>Nais</td>\n",
       "      <td>4</td>\n",
       "    </tr>\n",
       "    <tr>\n",
       "      <th>3568</th>\n",
       "      <td>Nagé</td>\n",
       "      <td>4</td>\n",
       "    </tr>\n",
       "    <tr>\n",
       "      <th>3569</th>\n",
       "      <td>Blom</td>\n",
       "      <td>4</td>\n",
       "    </tr>\n",
       "  </tbody>\n",
       "</table>\n",
       "<p>3570 rows × 2 columns</p>\n",
       "</div>"
      ],
      "text/plain": [
       "      name  len\n",
       "0      Eny    3\n",
       "1      Vre    3\n",
       "2      Pol    3\n",
       "3      Plô    3\n",
       "4      Gry    3\n",
       "...    ...  ...\n",
       "3565  Pavé    4\n",
       "3566  Boby    4\n",
       "3567  Nais    4\n",
       "3568  Nagé    4\n",
       "3569  Blom    4\n",
       "\n",
       "[3570 rows x 2 columns]"
      ]
     },
     "execution_count": 8,
     "metadata": {},
     "output_type": "execute_result"
    }
   ],
   "source": [
    "unique_names.iloc[:3570]"
   ]
  },
  {
   "cell_type": "code",
   "execution_count": 9,
   "metadata": {},
   "outputs": [],
   "source": [
    "limits = (np.nonzero(unique_names['len'].values[1:]-unique_names['len'].values[:-1])[0]+1).tolist() + [len(unique_names)]"
   ]
  },
  {
   "cell_type": "code",
   "execution_count": 10,
   "metadata": {},
   "outputs": [],
   "source": [
    "len2limit = dict(zip(unique_names['len'].unique(), limits))"
   ]
  },
  {
   "cell_type": "code",
   "execution_count": 46,
   "metadata": {},
   "outputs": [],
   "source": [
    "idx1 = 0"
   ]
  },
  {
   "cell_type": "code",
   "execution_count": 47,
   "metadata": {},
   "outputs": [],
   "source": [
    "max_dist = 4\n"
   ]
  },
  {
   "cell_type": "code",
   "execution_count": 53,
   "metadata": {},
   "outputs": [
    {
     "data": {
      "text/plain": [
       "0         True\n",
       "1         True\n",
       "2         True\n",
       "3         True\n",
       "4         True\n",
       "          ... \n",
       "269588    True\n",
       "269589    True\n",
       "269590    True\n",
       "269591    True\n",
       "269592    True\n",
       "Name: len, Length: 269593, dtype: bool"
      ]
     },
     "execution_count": 53,
     "metadata": {},
     "output_type": "execute_result"
    }
   ],
   "source": []
  },
  {
   "cell_type": "code",
   "execution_count": 52,
   "metadata": {
    "scrolled": true
   },
   "outputs": [],
   "source": [
    "name, length = unique_names.iloc[idx1]"
   ]
  },
  {
   "cell_type": "code",
   "execution_count": 59,
   "metadata": {},
   "outputs": [
    {
     "data": {
      "text/html": [
       "<div>\n",
       "<style scoped>\n",
       "    .dataframe tbody tr th:only-of-type {\n",
       "        vertical-align: middle;\n",
       "    }\n",
       "\n",
       "    .dataframe tbody tr th {\n",
       "        vertical-align: top;\n",
       "    }\n",
       "\n",
       "    .dataframe thead th {\n",
       "        text-align: right;\n",
       "    }\n",
       "</style>\n",
       "<table border=\"1\" class=\"dataframe\">\n",
       "  <thead>\n",
       "    <tr style=\"text-align: right;\">\n",
       "      <th></th>\n",
       "      <th>index</th>\n",
       "      <th>name</th>\n",
       "      <th>len</th>\n",
       "    </tr>\n",
       "  </thead>\n",
       "  <tbody>\n",
       "    <tr>\n",
       "      <th>0</th>\n",
       "      <td>0</td>\n",
       "      <td>Eny</td>\n",
       "      <td>3</td>\n",
       "    </tr>\n",
       "    <tr>\n",
       "      <th>1</th>\n",
       "      <td>1</td>\n",
       "      <td>Vre</td>\n",
       "      <td>3</td>\n",
       "    </tr>\n",
       "    <tr>\n",
       "      <th>2</th>\n",
       "      <td>2</td>\n",
       "      <td>Pol</td>\n",
       "      <td>3</td>\n",
       "    </tr>\n",
       "    <tr>\n",
       "      <th>3</th>\n",
       "      <td>3</td>\n",
       "      <td>Plô</td>\n",
       "      <td>3</td>\n",
       "    </tr>\n",
       "    <tr>\n",
       "      <th>4</th>\n",
       "      <td>4</td>\n",
       "      <td>Gry</td>\n",
       "      <td>3</td>\n",
       "    </tr>\n",
       "    <tr>\n",
       "      <th>...</th>\n",
       "      <td>...</td>\n",
       "      <td>...</td>\n",
       "      <td>...</td>\n",
       "    </tr>\n",
       "    <tr>\n",
       "      <th>29809</th>\n",
       "      <td>29809</td>\n",
       "      <td>Warhen</td>\n",
       "      <td>6</td>\n",
       "    </tr>\n",
       "    <tr>\n",
       "      <th>29810</th>\n",
       "      <td>29810</td>\n",
       "      <td>Bromet</td>\n",
       "      <td>6</td>\n",
       "    </tr>\n",
       "    <tr>\n",
       "      <th>29811</th>\n",
       "      <td>29811</td>\n",
       "      <td>Arnaut</td>\n",
       "      <td>6</td>\n",
       "    </tr>\n",
       "    <tr>\n",
       "      <th>29812</th>\n",
       "      <td>29812</td>\n",
       "      <td>Poperl</td>\n",
       "      <td>6</td>\n",
       "    </tr>\n",
       "    <tr>\n",
       "      <th>29813</th>\n",
       "      <td>29813</td>\n",
       "      <td>Jacson</td>\n",
       "      <td>6</td>\n",
       "    </tr>\n",
       "  </tbody>\n",
       "</table>\n",
       "<p>29814 rows × 3 columns</p>\n",
       "</div>"
      ],
      "text/plain": [
       "       index    name  len\n",
       "0          0     Eny    3\n",
       "1          1     Vre    3\n",
       "2          2     Pol    3\n",
       "3          3     Plô    3\n",
       "4          4     Gry    3\n",
       "...      ...     ...  ...\n",
       "29809  29809  Warhen    6\n",
       "29810  29810  Bromet    6\n",
       "29811  29811  Arnaut    6\n",
       "29812  29812  Poperl    6\n",
       "29813  29813  Jacson    6\n",
       "\n",
       "[29814 rows x 3 columns]"
      ]
     },
     "execution_count": 59,
     "metadata": {},
     "output_type": "execute_result"
    }
   ],
   "source": [
    "unique_names[(unique_names['len'] > length-max_dist) & (unique_names['len'] < length+max_dist)].reset_index()"
   ]
  },
  {
   "cell_type": "code",
   "execution_count": 9,
   "metadata": {},
   "outputs": [],
   "source": [
    "from polyleven import levenshtein\n",
    "\n",
    "max_dist = 3\n",
    "len2subset = {length: unique_names[(unique_names['len'] > length-max_dist) & (unique_names['len'] < length+max_dist)].reset_index() for length in unique_names['len'].unique()}"
   ]
  },
  {
   "cell_type": "code",
   "execution_count": 82,
   "metadata": {},
   "outputs": [
    {
     "data": {
      "text/plain": [
       "{(1, 2)}"
      ]
     },
     "execution_count": 82,
     "metadata": {},
     "output_type": "execute_result"
    }
   ],
   "source": [
    "set([tuple((1,2))])"
   ]
  },
  {
   "cell_type": "code",
   "execution_count": 86,
   "metadata": {},
   "outputs": [],
   "source": [
    "def f(idx1)"
   ]
  },
  {
   "cell_type": "code",
   "execution_count": 98,
   "metadata": {},
   "outputs": [],
   "source": [
    "unique_names = data_bottin['name'].unique().tolist()"
   ]
  },
  {
   "cell_type": "code",
   "execution_count": 46,
   "metadata": {},
   "outputs": [],
   "source": [
    "from numba import jit\n",
    "from numba.typed import List\n",
    "\n",
    "# lengths = \n",
    "lengths = List()\n",
    "[lengths.append(x) for x in unique_names['len'].values.tolist()]\n",
    "# lengths = lengths[:10000]\n",
    "num_unique = len(lengths)\n",
    "max_dist = 3\n",
    "\n",
    "@jit(nopython=True)\n",
    "def f(lengths):\n",
    "    res = []\n",
    "    for idx1 in range(num_unique):\n",
    "        for idx2 in range(idx1, num_unique):\n",
    "            l1 = lengths[idx1]\n",
    "            l2 = lengths[idx2]\n",
    "            if abs(l1 - l2) > max_dist:\n",
    "                continue\n",
    "            res.append((idx1, idx2))\n",
    "#         if idx1 % 1001 == 0:\n",
    "#             print(idx1)\n",
    "    return res"
   ]
  },
  {
   "cell_type": "code",
   "execution_count": 48,
   "metadata": {},
   "outputs": [],
   "source": [
    "@jit(nopython=True, parallel=True)\n",
    "def f2(idx1, lengths):\n",
    "    res = []\n",
    "    for idx2 in range(idx1, num_unique):\n",
    "        l1 = lengths[idx1]\n",
    "        l2 = lengths[idx2]\n",
    "        if abs(l1 - l2) > max_dist:\n",
    "            break\n",
    "        res.append((idx1, idx2))\n",
    "#         if idx1 % 1001 == 0:\n",
    "#             print(idx1)\n",
    "    return res"
   ]
  },
  {
   "cell_type": "code",
   "execution_count": 44,
   "metadata": {
    "scrolled": true
   },
   "outputs": [
    {
     "name": "stdout",
     "output_type": "stream",
     "text": [
      "7.38 s ± 419 ms per loop (mean ± std. dev. of 7 runs, 1 loop each)\n"
     ]
    }
   ],
   "source": [
    "%%timeit\n",
    "res = f(lengths)"
   ]
  },
  {
   "cell_type": "code",
   "execution_count": null,
   "metadata": {},
   "outputs": [],
   "source": [
    "res = f(lengths)"
   ]
  },
  {
   "cell_type": "code",
   "execution_count": 36,
   "metadata": {},
   "outputs": [],
   "source": [
    "%load_ext line_profiler"
   ]
  },
  {
   "cell_type": "code",
   "execution_count": 38,
   "metadata": {},
   "outputs": [],
   "source": [
    "%lprun -f f f(lengths)"
   ]
  },
  {
   "cell_type": "code",
   "execution_count": 24,
   "metadata": {},
   "outputs": [
    {
     "ename": "IndexError",
     "evalue": "list index out of range",
     "output_type": "error",
     "traceback": [
      "\u001b[0;31m---------------------------------------------------------------------------\u001b[0m",
      "\u001b[0;31mIndexError\u001b[0m                                Traceback (most recent call last)",
      "\u001b[0;32m<ipython-input-24-3b6c0d4d2476>\u001b[0m in \u001b[0;36m<module>\u001b[0;34m\u001b[0m\n\u001b[0;32m----> 1\u001b[0;31m \u001b[0mf\u001b[0m\u001b[0;34m(\u001b[0m\u001b[0mlengths\u001b[0m\u001b[0;34m[\u001b[0m\u001b[0;34m:\u001b[0m\u001b[0;36m1000\u001b[0m\u001b[0;34m]\u001b[0m\u001b[0;34m)\u001b[0m\u001b[0;34m\u001b[0m\u001b[0;34m\u001b[0m\u001b[0m\n\u001b[0m\u001b[1;32m      2\u001b[0m \u001b[0mf\u001b[0m\u001b[0;34m.\u001b[0m\u001b[0mparallel_diagnostics\u001b[0m\u001b[0;34m(\u001b[0m\u001b[0mlevel\u001b[0m\u001b[0;34m=\u001b[0m\u001b[0;36m4\u001b[0m\u001b[0;34m)\u001b[0m\u001b[0;34m\u001b[0m\u001b[0;34m\u001b[0m\u001b[0m\n",
      "\u001b[0;32m~/.conda/envs/venice/lib/python3.7/site-packages/numba/typed/listobject.py\u001b[0m in \u001b[0;36mhandle_index\u001b[0;34m()\u001b[0m\n\u001b[1;32m    633\u001b[0m     \u001b[0;31m# check that the index is in range\u001b[0m\u001b[0;34m\u001b[0m\u001b[0;34m\u001b[0m\u001b[0;34m\u001b[0m\u001b[0m\n\u001b[1;32m    634\u001b[0m     \u001b[0;32mif\u001b[0m \u001b[0;32mnot\u001b[0m \u001b[0;34m(\u001b[0m\u001b[0;36m0\u001b[0m \u001b[0;34m<=\u001b[0m \u001b[0mindex\u001b[0m \u001b[0;34m<\u001b[0m \u001b[0mlen\u001b[0m\u001b[0;34m(\u001b[0m\u001b[0ml\u001b[0m\u001b[0;34m)\u001b[0m\u001b[0;34m)\u001b[0m\u001b[0;34m:\u001b[0m\u001b[0;34m\u001b[0m\u001b[0;34m\u001b[0m\u001b[0m\n\u001b[0;32m--> 635\u001b[0;31m         \u001b[0;32mraise\u001b[0m \u001b[0mIndexError\u001b[0m\u001b[0;34m(\u001b[0m\u001b[0;34m\"list index out of range\"\u001b[0m\u001b[0;34m)\u001b[0m\u001b[0;34m\u001b[0m\u001b[0;34m\u001b[0m\u001b[0m\n\u001b[0m\u001b[1;32m    636\u001b[0m     \u001b[0;32mreturn\u001b[0m \u001b[0mindex\u001b[0m\u001b[0;34m\u001b[0m\u001b[0;34m\u001b[0m\u001b[0m\n\u001b[1;32m    637\u001b[0m \u001b[0;34m\u001b[0m\u001b[0m\n",
      "\u001b[0;31mIndexError\u001b[0m: list index out of range"
     ]
    }
   ],
   "source": [
    "f(lengths[:1000])\n",
    "f.parallel_diagnostics(level=4)"
   ]
  },
  {
   "cell_type": "code",
   "execution_count": 17,
   "metadata": {},
   "outputs": [
    {
     "name": "stderr",
     "output_type": "stream",
     "text": [
      "/home/raph/.conda/envs/venice/lib/python3.7/site-packages/numba/core/typed_passes.py:314: NumbaPerformanceWarning: \u001b[1m\n",
      "The keyword argument 'parallel=True' was specified but no transformation for parallel execution was possible.\n",
      "\n",
      "To find out why, try turning on parallel diagnostics, see http://numba.pydata.org/numba-doc/latest/user/parallel.html#diagnostics for help.\n",
      "\u001b[1m\n",
      "File \"<ipython-input-16-505d8eaff867>\", line 2:\u001b[0m\n",
      "\u001b[1m@jit(nopython=True, parallel=True)\n",
      "\u001b[1mdef f2(idx1, lengths):\n",
      "\u001b[0m\u001b[1m^\u001b[0m\u001b[0m\n",
      "\u001b[0m\n",
      "  state.func_ir.loc))\n"
     ]
    },
    {
     "name": "stdout",
     "output_type": "stream",
     "text": [
      "16.6 ms ± 507 µs per loop (mean ± std. dev. of 7 runs, 100 loops each)\n"
     ]
    }
   ],
   "source": [
    "%%timeit\n",
    "f2(0, lengths)"
   ]
  },
  {
   "cell_type": "code",
   "execution_count": 91,
   "metadata": {},
   "outputs": [
    {
     "data": {
      "application/vnd.jupyter.widget-view+json": {
       "model_id": "ab3b3b449a3140939bbe391520c243f4",
       "version_major": 2,
       "version_minor": 0
      },
      "text/plain": [
       "HBox(children=(FloatProgress(value=0.0, max=269593.0), HTML(value='')))"
      ]
     },
     "metadata": {},
     "output_type": "display_data"
    },
    {
     "ename": "KeyboardInterrupt",
     "evalue": "",
     "output_type": "error",
     "traceback": [
      "\u001b[0;31m---------------------------------------------------------------------------\u001b[0m",
      "\u001b[0;31mKeyboardInterrupt\u001b[0m                         Traceback (most recent call last)",
      "\u001b[0;32m<ipython-input-91-4c0b94443916>\u001b[0m in \u001b[0;36m<module>\u001b[0;34m\u001b[0m\n\u001b[1;32m      4\u001b[0m         \u001b[0ms1\u001b[0m \u001b[0;34m=\u001b[0m \u001b[0munique_names\u001b[0m\u001b[0;34m[\u001b[0m\u001b[0midx1\u001b[0m\u001b[0;34m]\u001b[0m\u001b[0;34m\u001b[0m\u001b[0;34m\u001b[0m\u001b[0m\n\u001b[1;32m      5\u001b[0m         \u001b[0ms2\u001b[0m \u001b[0;34m=\u001b[0m \u001b[0munique_names\u001b[0m\u001b[0;34m[\u001b[0m\u001b[0midx2\u001b[0m\u001b[0;34m]\u001b[0m\u001b[0;34m\u001b[0m\u001b[0;34m\u001b[0m\u001b[0m\n\u001b[0;32m----> 6\u001b[0;31m         \u001b[0;32mif\u001b[0m \u001b[0mabs\u001b[0m\u001b[0;34m(\u001b[0m\u001b[0mlen\u001b[0m\u001b[0;34m(\u001b[0m\u001b[0ms1\u001b[0m\u001b[0;34m)\u001b[0m \u001b[0;34m-\u001b[0m \u001b[0mlen\u001b[0m\u001b[0;34m(\u001b[0m\u001b[0ms2\u001b[0m\u001b[0;34m)\u001b[0m\u001b[0;34m)\u001b[0m \u001b[0;34m>\u001b[0m \u001b[0mmax_dist\u001b[0m\u001b[0;34m:\u001b[0m\u001b[0;34m\u001b[0m\u001b[0;34m\u001b[0m\u001b[0m\n\u001b[0m\u001b[1;32m      7\u001b[0m             \u001b[0;32mcontinue\u001b[0m\u001b[0;34m\u001b[0m\u001b[0;34m\u001b[0m\u001b[0m\n\u001b[1;32m      8\u001b[0m         \u001b[0mvalid_couples\u001b[0m\u001b[0;34m.\u001b[0m\u001b[0mappend\u001b[0m\u001b[0;34m(\u001b[0m\u001b[0mtuple\u001b[0m\u001b[0;34m(\u001b[0m\u001b[0msorted\u001b[0m\u001b[0;34m(\u001b[0m\u001b[0;34m(\u001b[0m\u001b[0midx1\u001b[0m\u001b[0;34m,\u001b[0m \u001b[0midx2\u001b[0m\u001b[0;34m)\u001b[0m\u001b[0;34m)\u001b[0m\u001b[0;34m)\u001b[0m\u001b[0;34m)\u001b[0m\u001b[0;34m\u001b[0m\u001b[0;34m\u001b[0m\u001b[0m\n",
      "\u001b[0;31mKeyboardInterrupt\u001b[0m: "
     ]
    }
   ],
   "source": [
    "valid_couples = list()\n",
    "for idx1 in tqdm(range(len(unique_names))):\n",
    "    for idx2 in range(idx1, len(unique_names)):\n",
    "        s1 = unique_names[idx1]\n",
    "        s2 = unique_names[idx2]\n",
    "        if abs(len(s1) - len(s2)) > max_dist:\n",
    "            continue\n",
    "        valid_couples.append(tuple(sorted((idx1, idx2))))"
   ]
  },
  {
   "cell_type": "code",
   "execution_count": 9,
   "metadata": {},
   "outputs": [],
   "source": [
    "names = sorted(data_bottin['name'].unique().tolist(), key=len)"
   ]
  },
  {
   "cell_type": "code",
   "execution_count": 42,
   "metadata": {},
   "outputs": [],
   "source": [
    "from numba import jit\n",
    "@jit\n",
    "def _levenshtein(x, y):\n",
    "    \"\"\" Levenshtein distance\n",
    "          using Dynamic-Programming strategy\n",
    "    Parameters\n",
    "    ----------\n",
    "    x, y : np.array of string\n",
    "    Returns\n",
    "    -------\n",
    "    int : distance\n",
    "    np.array : distance matrix\n",
    "    \"\"\"\n",
    "    # Initiallize DP-matrix\n",
    "    D = np.zeros((len(x) + 1, len(y) + 1), dtype=np.int_)\n",
    "    D[0, 1:] = np.arange(1, len(y) + 1)\n",
    "    D[1:, 0] = np.arange(1, len(x) + 1)\n",
    "\n",
    "    for i in range(1, len(x) + 1):\n",
    "        for j in range(1, len(y) + 1):\n",
    "            delta = 2 if x[i - 1] != y[j - 1] else 0\n",
    "            D[i, j] = min(D[i - 1, j - 1] + delta, D[i - 1, j] + 1, D[i, j - 1] + 1)\n",
    "    return D[-1, -1]\n",
    "\n",
    "def levenshtein2(x, y):\n",
    "    \"\"\" levenshtein distance for iterable sequences\n",
    "    \"\"\"\n",
    "    # check type\n",
    "    if (np.all(map(type, x)) is str) and (np.all(map(type, y)) is str):\n",
    "        _x = np.array(x, dtype=np.str)\n",
    "        _y = np.array(y, dtype=np.str)\n",
    "    elif (np.all(map(type, x)) is int) and (np.all(map(type, y)) is int):\n",
    "        _x = np.array(x, dtype=np.int)\n",
    "        _y = np.array(y, dtype=np.int)\n",
    "    elif type(x) is str and type(y) is str:\n",
    "        _x = np.array(list(x), dtype=np.str)\n",
    "        _y = np.array(list(y), dtype=np.str)\n",
    "    else:\n",
    "        raise TypeError\n",
    "\n",
    "    d = _levenshtein(_x, _y)\n",
    "    return d"
   ]
  },
  {
   "cell_type": "code",
   "execution_count": 45,
   "metadata": {},
   "outputs": [
    {
     "name": "stdout",
     "output_type": "stream",
     "text": [
      "68.4 µs ± 910 ns per loop (mean ± std. dev. of 7 runs, 10000 loops each)\n"
     ]
    }
   ],
   "source": [
    "%%timeit\n",
    "levenshtein2('asdasdsadsadsa', 'fdafjdsaflkdsjfdsajfjldsa')"
   ]
  },
  {
   "cell_type": "code",
   "execution_count": 52,
   "metadata": {},
   "outputs": [
    {
     "name": "stdout",
     "output_type": "stream",
     "text": [
      "195 ns ± 6.56 ns per loop (mean ± std. dev. of 7 runs, 10000000 loops each)\n"
     ]
    }
   ],
   "source": [
    "%%timeit\n",
    "levenshtein('asdasdsadsadsa', 'fdafjdsaflkdsjfdsajfjldsa')"
   ]
  },
  {
   "cell_type": "code",
   "execution_count": 55,
   "metadata": {},
   "outputs": [
    {
     "name": "stdout",
     "output_type": "stream",
     "text": [
      "917 ns ± 11.8 ns per loop (mean ± std. dev. of 7 runs, 1000000 loops each)\n"
     ]
    }
   ],
   "source": [
    "%%timeit\n",
    "editdistance.distance('asdasdsadsadsa', 'fdafjdsaflkdsjfdsajfjldsa')"
   ]
  },
  {
   "cell_type": "code",
   "execution_count": 61,
   "metadata": {},
   "outputs": [
    {
     "data": {
      "text/plain": [
       "-1"
      ]
     },
     "execution_count": 61,
     "metadata": {},
     "output_type": "execute_result"
    }
   ],
   "source": [
    "fast_comp('asdasdsadsadsa', 'fdafjdsaflkdsjfdsajfjldsa')"
   ]
  },
  {
   "cell_type": "code",
   "execution_count": 58,
   "metadata": {},
   "outputs": [
    {
     "data": {
      "text/plain": [
       "1"
      ]
     },
     "execution_count": 58,
     "metadata": {},
     "output_type": "execute_result"
    }
   ],
   "source": [
    "compare(\"abc\", 'ab')"
   ]
  },
  {
   "cell_type": "code",
   "execution_count": 15,
   "metadata": {},
   "outputs": [
    {
     "name": "stderr",
     "output_type": "stream",
     "text": [
      "2020-04-28 21:18:30,860\tWARNING worker.py:673 -- WARNING: Not updating worker name since `setproctitle` is not installed. Install this with `pip install setproctitle` (or ray[debug]) to enable monitoring of worker processes.\n",
      "2020-04-28 21:18:30,861\tWARNING services.py:597 -- setpgrp failed, processes may not be cleaned up properly: [Errno 1] Operation not permitted.\n",
      "2020-04-28 21:18:30,862\tINFO resource_spec.py:216 -- Starting Ray with 13.38 GiB memory available for workers and up to 6.7 GiB for objects. You can adjust these settings with ray.init(memory=<bytes>, object_store_memory=<bytes>).\n"
     ]
    },
    {
     "data": {
      "text/plain": [
       "{'node_ip_address': '192.168.0.115',\n",
       " 'redis_address': '192.168.0.115:25661',\n",
       " 'object_store_address': '/tmp/ray/session_2020-04-28_21-18-30_861058_1601138/sockets/plasma_store',\n",
       " 'raylet_socket_name': '/tmp/ray/session_2020-04-28_21-18-30_861058_1601138/sockets/raylet',\n",
       " 'webui_url': None,\n",
       " 'session_dir': '/tmp/ray/session_2020-04-28_21-18-30_861058_1601138'}"
      ]
     },
     "execution_count": 15,
     "metadata": {},
     "output_type": "execute_result"
    }
   ],
   "source": [
    "import ray\n",
    "ray.init()"
   ]
  },
  {
   "cell_type": "code",
   "execution_count": 8,
   "metadata": {},
   "outputs": [],
   "source": [
    "from numba import jit, njit, objmode, prange\n",
    "\n",
    "from numba.typed import List\n",
    "\n",
    "from polyleven import levenshtein\n",
    "\n",
    "\n",
    "\n",
    "max_dist = 3\n",
    "names = List()\n",
    "[names.append(x) for x in sorted(data_bottin['name'].unique().tolist(), key=len)]\n",
    "# names = tuple(sorted(data_bottin['name'].unique().tolist())[:10])\n",
    "# names = np.array(sorted(data_bottin['name'].unique().tolist(), key=len), dtype=str)\n",
    "num_names = len(names)\n",
    "\n",
    "@njit(parallel=True)\n",
    "def f(names):\n",
    "    global_res = []\n",
    "    for idx1 in range(num_names):\n",
    "        res = np.ones((num_names-idx1, 3), dtype=np.int_)*-1\n",
    "        s1 = names[idx1]\n",
    "        l1 = len(s1)\n",
    "        for idx2 in range(idx1, num_names):\n",
    "            s2 = names[idx2]\n",
    "            l2 = len(s2)\n",
    "            if l2 -  l1 > max_dist:\n",
    "                break\n",
    "            with objmode(dist='intp'):\n",
    "                dist = levenshtein(s1, s2, max_dist)\n",
    "            if dist <= max_dist:\n",
    "                res[idx2-idx1] = (idx1, idx2, dist)\n",
    "            \n",
    "        global_res.append(res[res[:,2] != -1])\n",
    "        if idx1 % 101 == 0:\n",
    "            print('here', idx1)\n",
    "    return global_res\n",
    "\n",
    "@njit(parallel=True)\n",
    "def f(idx1, names):\n",
    "    res = np.ones((num_names-idx1, 3), dtype=np.int_)*-1\n",
    "    s1 = names[idx1]\n",
    "    l1 = len(s1)\n",
    "    for idx2 in range(idx1, num_names):\n",
    "        s2 = names[idx2]\n",
    "        l2 = len(s2)\n",
    "        if l2 -  l1 > max_dist:\n",
    "            break\n",
    "        with objmode(dist='intp'):\n",
    "            dist = levenshtein(s1, s2, max_dist)\n",
    "        if dist <= max_dist:\n",
    "            res[idx2-idx1] = (idx1, idx2, dist)\n",
    "    return res[res[:,2] != -1]\n",
    "\n",
    "# @ray.remote\n",
    "# def g(idx1, names):\n",
    "#     return f(idx1, names)"
   ]
  },
  {
   "cell_type": "code",
   "execution_count": 16,
   "metadata": {},
   "outputs": [],
   "source": [
    "import unicodedata\n",
    "\n",
    "def strip_accents(s):\n",
    "    return ''.join(c for c in unicodedata.normalize('NFD', s)\n",
    "                  if unicodedata.category(c) != 'Mn')\n",
    "\n",
    "def sanitize(s):\n",
    "    return strip_accents(s).upper() if not pd.isna(s) and s is not None else s"
   ]
  },
  {
   "cell_type": "code",
   "execution_count": 20,
   "metadata": {},
   "outputs": [],
   "source": [
    "from collections import Counter\n",
    "char_counter = Counter()"
   ]
  },
  {
   "cell_type": "code",
   "execution_count": 21,
   "metadata": {},
   "outputs": [
    {
     "data": {
      "text/plain": [
       "0         None\n",
       "1         None\n",
       "2         None\n",
       "3         None\n",
       "4         None\n",
       "          ... \n",
       "869819    None\n",
       "869820    None\n",
       "869821    None\n",
       "869822    None\n",
       "869823    None\n",
       "Name: name, Length: 869824, dtype: object"
      ]
     },
     "execution_count": 21,
     "metadata": {},
     "output_type": "execute_result"
    }
   ],
   "source": [
    "data_bottin['name'].fillna('').apply(sanitize).apply(lambda x: char_counter.update(x))"
   ]
  },
  {
   "cell_type": "code",
   "execution_count": 26,
   "metadata": {},
   "outputs": [
    {
     "data": {
      "text/plain": [
       "211116"
      ]
     },
     "execution_count": 26,
     "metadata": {},
     "output_type": "execute_result"
    }
   ],
   "source": [
    "len(data_bottin['name'].fillna('').apply(sanitize).str.replace('[^\\w]', '').str.strip().unique())"
   ]
  },
  {
   "cell_type": "code",
   "execution_count": 32,
   "metadata": {},
   "outputs": [],
   "source": [
    "word_counter = Counter()"
   ]
  },
  {
   "cell_type": "code",
   "execution_count": 33,
   "metadata": {},
   "outputs": [
    {
     "data": {
      "text/plain": [
       "0         None\n",
       "1         None\n",
       "2         None\n",
       "3         None\n",
       "4         None\n",
       "          ... \n",
       "869819    None\n",
       "869820    None\n",
       "869821    None\n",
       "869822    None\n",
       "869823    None\n",
       "Name: name, Length: 869824, dtype: object"
      ]
     },
     "execution_count": 33,
     "metadata": {},
     "output_type": "execute_result"
    }
   ],
   "source": [
    "data_bottin['name'].fillna('').apply(sanitize).str.split('\\W').apply(lambda x: [y for y in x if len(y) > 0]).apply(word_counter.update)"
   ]
  },
  {
   "cell_type": "code",
   "execution_count": 27,
   "metadata": {},
   "outputs": [
    {
     "data": {
      "text/plain": [
       "array(['AARON', 'AARONEMILEETEDOUARD', 'ABADIANA', ..., 'ZWICKYF',\n",
       "       'ZWIEFEL', 'ZWINGELSTEIN'], dtype=object)"
      ]
     },
     "execution_count": 27,
     "metadata": {},
     "output_type": "execute_result"
    }
   ],
   "source": [
    "data_bottin['name'].fillna('').apply(sanitize).str.replace('[^\\w]', '').str.strip().unique()"
   ]
  },
  {
   "cell_type": "code",
   "execution_count": 22,
   "metadata": {},
   "outputs": [
    {
     "data": {
      "text/plain": [
       "[('E', 1117472),\n",
       " ('R', 661156),\n",
       " ('A', 655681),\n",
       " ('L', 531468),\n",
       " (' ', 521722),\n",
       " ('I', 498371),\n",
       " ('N', 468749),\n",
       " ('O', 449813),\n",
       " ('T', 412461),\n",
       " ('U', 400365),\n",
       " ('S', 337723),\n",
       " (')', 323129),\n",
       " ('(', 320953),\n",
       " ('M', 303903),\n",
       " ('C', 287011),\n",
       " ('D', 268147),\n",
       " ('B', 202361),\n",
       " ('H', 191116),\n",
       " ('G', 187291),\n",
       " ('.', 172604),\n",
       " ('V', 140295),\n",
       " ('P', 132736),\n",
       " ('F', 107290),\n",
       " ('Y', 89703),\n",
       " ('J', 58530),\n",
       " ('Z', 32808),\n",
       " ('X', 29301),\n",
       " ('-', 23219),\n",
       " ('Q', 22887),\n",
       " ('K', 17589),\n",
       " ('W', 14504),\n",
       " (\"'\", 4777),\n",
       " ('\"', 3046),\n",
       " ('*', 2477),\n",
       " (':', 1248),\n",
       " ('º', 875),\n",
       " ('1', 847),\n",
       " ('8', 580),\n",
       " ('2', 531),\n",
       " ('|', 483),\n",
       " ('&', 390),\n",
       " ('0', 376),\n",
       " ('3', 324),\n",
       " (';', 299),\n",
       " ('4', 232),\n",
       " ('5', 179),\n",
       " ('»', 165),\n",
       " ('’', 161),\n",
       " ('Æ', 159),\n",
       " ('!', 146),\n",
       " ('6', 113),\n",
       " ('9', 97),\n",
       " ('°', 66),\n",
       " ('«', 63),\n",
       " ('Ø', 62),\n",
       " ('7', 51),\n",
       " ('$', 48),\n",
       " ('[', 37),\n",
       " ('·', 30),\n",
       " ('А', 26),\n",
       " (']', 23),\n",
       " ('™', 20),\n",
       " ('€', 19),\n",
       " ('@', 18),\n",
       " ('Ə', 17),\n",
       " ('”', 17),\n",
       " ('%', 16),\n",
       " ('©', 11),\n",
       " ('_', 10),\n",
       " ('#', 10),\n",
       " ('•', 10),\n",
       " ('?', 10),\n",
       " ('+', 10),\n",
       " ('“', 7),\n",
       " ('Ⓡ', 7),\n",
       " ('Đ', 6),\n",
       " ('/', 6),\n",
       " ('Ł', 5),\n",
       " ('®', 5),\n",
       " ('♡', 5),\n",
       " ('Œ', 5),\n",
       " ('}', 5),\n",
       " ('{', 5),\n",
       " ('>', 4),\n",
       " ('\\\\', 4),\n",
       " ('Þ', 3),\n",
       " ('Ɔ', 3),\n",
       " ('Ð', 3),\n",
       " ('–', 3),\n",
       " ('„', 2),\n",
       " ('¡', 2),\n",
       " ('С', 2),\n",
       " ('О', 1),\n",
       " ('£', 1),\n",
       " ('Е', 1),\n",
       " ('Ǝ', 1),\n",
       " ('☺', 1)]"
      ]
     },
     "execution_count": 22,
     "metadata": {},
     "output_type": "execute_result"
    }
   ],
   "source": [
    "char_counter.most_common()"
   ]
  },
  {
   "cell_type": "code",
   "execution_count": 9,
   "metadata": {},
   "outputs": [
    {
     "data": {
      "application/vnd.jupyter.widget-view+json": {
       "model_id": "934ddaf12a3544b3a501bb867bcc1846",
       "version_major": 2,
       "version_minor": 0
      },
      "text/plain": [
       "HBox(children=(FloatProgress(value=0.0, max=228108.0), HTML(value='')))"
      ]
     },
     "metadata": {},
     "output_type": "display_data"
    },
    {
     "ename": "KeyboardInterrupt",
     "evalue": "",
     "output_type": "error",
     "traceback": [
      "\u001b[0;31m---------------------------------------------------------------------------\u001b[0m",
      "\u001b[0;31mKeyboardInterrupt\u001b[0m                         Traceback (most recent call last)",
      "\u001b[0;32m<ipython-input-9-d2d44e4bfb4d>\u001b[0m in \u001b[0;36m<module>\u001b[0;34m\u001b[0m\n\u001b[1;32m      1\u001b[0m \u001b[0mres\u001b[0m \u001b[0;34m=\u001b[0m \u001b[0;34m[\u001b[0m\u001b[0;34m]\u001b[0m\u001b[0;34m\u001b[0m\u001b[0;34m\u001b[0m\u001b[0m\n\u001b[1;32m      2\u001b[0m \u001b[0;32mfor\u001b[0m \u001b[0midx1\u001b[0m \u001b[0;32min\u001b[0m \u001b[0mtqdm\u001b[0m\u001b[0;34m(\u001b[0m\u001b[0mrange\u001b[0m\u001b[0;34m(\u001b[0m\u001b[0mnum_names\u001b[0m\u001b[0;34m)\u001b[0m\u001b[0;34m)\u001b[0m\u001b[0;34m:\u001b[0m\u001b[0;34m\u001b[0m\u001b[0;34m\u001b[0m\u001b[0m\n\u001b[0;32m----> 3\u001b[0;31m     \u001b[0mres\u001b[0m\u001b[0;34m.\u001b[0m\u001b[0mextend\u001b[0m\u001b[0;34m(\u001b[0m\u001b[0mf\u001b[0m\u001b[0;34m(\u001b[0m\u001b[0midx1\u001b[0m\u001b[0;34m,\u001b[0m \u001b[0mnames\u001b[0m\u001b[0;34m)\u001b[0m\u001b[0;34m.\u001b[0m\u001b[0mtolist\u001b[0m\u001b[0;34m(\u001b[0m\u001b[0;34m)\u001b[0m\u001b[0;34m)\u001b[0m\u001b[0;34m\u001b[0m\u001b[0;34m\u001b[0m\u001b[0m\n\u001b[0m",
      "\u001b[0;31mKeyboardInterrupt\u001b[0m: "
     ]
    }
   ],
   "source": [
    "res = []\n",
    "for idx1 in tqdm(range(num_names)):\n",
    "    res.extend(f(idx1, names).tolist())"
   ]
  },
  {
   "cell_type": "code",
   "execution_count": 7,
   "metadata": {},
   "outputs": [
    {
     "name": "stdout",
     "output_type": "stream",
     "text": [
      "43.6 ms ± 1.67 ms per loop (mean ± std. dev. of 7 runs, 1 loop each)\n"
     ]
    }
   ],
   "source": [
    "%%timeit\n",
    "f(0, names)"
   ]
  },
  {
   "cell_type": "code",
   "execution_count": 12,
   "metadata": {},
   "outputs": [
    {
     "data": {
      "application/vnd.jupyter.widget-view+json": {
       "model_id": "190db92423584f9a889b2a423719a709",
       "version_major": 2,
       "version_minor": 0
      },
      "text/plain": [
       "HBox(children=(FloatProgress(value=0.0, max=228108.0), HTML(value='')))"
      ]
     },
     "metadata": {},
     "output_type": "display_data"
    },
    {
     "name": "stderr",
     "output_type": "stream",
     "text": [
      "Process ForkPoolWorker-1:\n",
      "Process ForkPoolWorker-2:\n",
      "Process ForkPoolWorker-8:\n",
      "Process ForkPoolWorker-5:\n",
      "Process ForkPoolWorker-3:\n",
      "Process ForkPoolWorker-7:\n",
      "Process ForkPoolWorker-4:\n",
      "Traceback (most recent call last):\n",
      "Traceback (most recent call last):\n",
      "Traceback (most recent call last):\n",
      "Traceback (most recent call last):\n",
      "Traceback (most recent call last):\n",
      "  File \"/home/raph/.conda/envs/venice/lib/python3.7/multiprocessing/process.py\", line 297, in _bootstrap\n",
      "    self.run()\n",
      "  File \"/home/raph/.conda/envs/venice/lib/python3.7/multiprocessing/process.py\", line 297, in _bootstrap\n",
      "    self.run()\n",
      "Traceback (most recent call last):\n",
      "  File \"/home/raph/.conda/envs/venice/lib/python3.7/multiprocessing/process.py\", line 99, in run\n",
      "    self._target(*self._args, **self._kwargs)\n",
      "  File \"/home/raph/.conda/envs/venice/lib/python3.7/multiprocessing/process.py\", line 297, in _bootstrap\n",
      "    self.run()\n",
      "  File \"/home/raph/.conda/envs/venice/lib/python3.7/multiprocessing/process.py\", line 99, in run\n",
      "    self._target(*self._args, **self._kwargs)\n",
      "  File \"/home/raph/.conda/envs/venice/lib/python3.7/multiprocessing/process.py\", line 297, in _bootstrap\n",
      "    self.run()\n",
      "  File \"/home/raph/.conda/envs/venice/lib/python3.7/multiprocessing/process.py\", line 99, in run\n",
      "    self._target(*self._args, **self._kwargs)\n",
      "  File \"/home/raph/.conda/envs/venice/lib/python3.7/multiprocessing/pool.py\", line 110, in worker\n",
      "    task = get()\n",
      "  File \"/home/raph/.conda/envs/venice/lib/python3.7/multiprocessing/process.py\", line 297, in _bootstrap\n",
      "    self.run()\n",
      "  File \"/home/raph/.conda/envs/venice/lib/python3.7/multiprocessing/pool.py\", line 110, in worker\n",
      "    task = get()\n",
      "  File \"/home/raph/.conda/envs/venice/lib/python3.7/multiprocessing/process.py\", line 297, in _bootstrap\n",
      "    self.run()\n",
      "  File \"/home/raph/.conda/envs/venice/lib/python3.7/multiprocessing/queues.py\", line 351, in get\n",
      "    with self._rlock:\n",
      "  File \"/home/raph/.conda/envs/venice/lib/python3.7/multiprocessing/queues.py\", line 351, in get\n",
      "    with self._rlock:\n",
      "  File \"/home/raph/.conda/envs/venice/lib/python3.7/multiprocessing/process.py\", line 99, in run\n",
      "    self._target(*self._args, **self._kwargs)\n",
      "Traceback (most recent call last):\n",
      "  File \"/home/raph/.conda/envs/venice/lib/python3.7/multiprocessing/pool.py\", line 110, in worker\n",
      "    task = get()\n",
      "  File \"/home/raph/.conda/envs/venice/lib/python3.7/multiprocessing/synchronize.py\", line 95, in __enter__\n",
      "    return self._semlock.__enter__()\n",
      "  File \"/home/raph/.conda/envs/venice/lib/python3.7/multiprocessing/process.py\", line 99, in run\n",
      "    self._target(*self._args, **self._kwargs)\n",
      "  File \"/home/raph/.conda/envs/venice/lib/python3.7/multiprocessing/queues.py\", line 352, in get\n",
      "    res = self._reader.recv_bytes()\n",
      "  File \"/home/raph/.conda/envs/venice/lib/python3.7/multiprocessing/pool.py\", line 110, in worker\n",
      "    task = get()\n",
      "  File \"/home/raph/.conda/envs/venice/lib/python3.7/multiprocessing/synchronize.py\", line 95, in __enter__\n",
      "    return self._semlock.__enter__()\n",
      "KeyboardInterrupt\n",
      "  File \"/home/raph/.conda/envs/venice/lib/python3.7/multiprocessing/connection.py\", line 216, in recv_bytes\n",
      "    buf = self._recv_bytes(maxlength)\n",
      "KeyboardInterrupt\n",
      "  File \"/home/raph/.conda/envs/venice/lib/python3.7/multiprocessing/queues.py\", line 351, in get\n",
      "    with self._rlock:\n",
      "  File \"/home/raph/.conda/envs/venice/lib/python3.7/multiprocessing/process.py\", line 99, in run\n",
      "    self._target(*self._args, **self._kwargs)\n",
      "  File \"/home/raph/.conda/envs/venice/lib/python3.7/multiprocessing/connection.py\", line 407, in _recv_bytes\n",
      "    buf = self._recv(4)\n",
      "  File \"/home/raph/.conda/envs/venice/lib/python3.7/multiprocessing/pool.py\", line 110, in worker\n",
      "    task = get()\n",
      "  File \"/home/raph/.conda/envs/venice/lib/python3.7/multiprocessing/process.py\", line 297, in _bootstrap\n",
      "    self.run()\n",
      "  File \"/home/raph/.conda/envs/venice/lib/python3.7/multiprocessing/pool.py\", line 110, in worker\n",
      "    task = get()\n",
      "  File \"/home/raph/.conda/envs/venice/lib/python3.7/multiprocessing/synchronize.py\", line 95, in __enter__\n",
      "    return self._semlock.__enter__()\n",
      "  File \"/home/raph/.conda/envs/venice/lib/python3.7/multiprocessing/connection.py\", line 379, in _recv\n",
      "    chunk = read(handle, remaining)\n",
      "  File \"/home/raph/.conda/envs/venice/lib/python3.7/multiprocessing/queues.py\", line 351, in get\n",
      "    with self._rlock:\n",
      "  File \"/home/raph/.conda/envs/venice/lib/python3.7/multiprocessing/queues.py\", line 351, in get\n",
      "    with self._rlock:\n",
      "KeyboardInterrupt\n",
      "  File \"/home/raph/.conda/envs/venice/lib/python3.7/multiprocessing/synchronize.py\", line 95, in __enter__\n",
      "    return self._semlock.__enter__()\n",
      "KeyboardInterrupt\n",
      "KeyboardInterrupt\n",
      "  File \"/home/raph/.conda/envs/venice/lib/python3.7/multiprocessing/synchronize.py\", line 95, in __enter__\n",
      "    return self._semlock.__enter__()\n",
      "KeyboardInterrupt\n",
      "  File \"/home/raph/.conda/envs/venice/lib/python3.7/multiprocessing/process.py\", line 99, in run\n",
      "    self._target(*self._args, **self._kwargs)\n",
      "  File \"/home/raph/.conda/envs/venice/lib/python3.7/multiprocessing/pool.py\", line 110, in worker\n",
      "    task = get()\n",
      "  File \"/home/raph/.conda/envs/venice/lib/python3.7/multiprocessing/queues.py\", line 351, in get\n",
      "    with self._rlock:\n",
      "  File \"/home/raph/.conda/envs/venice/lib/python3.7/multiprocessing/synchronize.py\", line 95, in __enter__\n",
      "    return self._semlock.__enter__()\n",
      "KeyboardInterrupt\n",
      "Process ForkPoolWorker-6:\n",
      "Traceback (most recent call last):\n",
      "  File \"/home/raph/.conda/envs/venice/lib/python3.7/multiprocessing/process.py\", line 297, in _bootstrap\n",
      "    self.run()\n",
      "  File \"/home/raph/.conda/envs/venice/lib/python3.7/multiprocessing/process.py\", line 99, in run\n",
      "    self._target(*self._args, **self._kwargs)\n",
      "  File \"/home/raph/.conda/envs/venice/lib/python3.7/multiprocessing/pool.py\", line 110, in worker\n",
      "    task = get()\n",
      "  File \"/home/raph/.conda/envs/venice/lib/python3.7/multiprocessing/queues.py\", line 354, in get\n",
      "    return _ForkingPickler.loads(res)\n",
      "KeyboardInterrupt\n"
     ]
    },
    {
     "ename": "KeyboardInterrupt",
     "evalue": "",
     "output_type": "error",
     "traceback": [
      "\u001b[0;31m---------------------------------------------------------------------------\u001b[0m",
      "\u001b[0;31mKeyboardInterrupt\u001b[0m                         Traceback (most recent call last)",
      "\u001b[0;32m<ipython-input-12-5f67d4d2fb47>\u001b[0m in \u001b[0;36m<module>\u001b[0;34m\u001b[0m\n\u001b[1;32m      6\u001b[0m \u001b[0;34m\u001b[0m\u001b[0m\n\u001b[1;32m      7\u001b[0m \u001b[0;32mfor\u001b[0m \u001b[0mr\u001b[0m \u001b[0;32min\u001b[0m \u001b[0mtqdm\u001b[0m\u001b[0;34m(\u001b[0m\u001b[0mres\u001b[0m\u001b[0;34m,\u001b[0m \u001b[0mtotal\u001b[0m\u001b[0;34m=\u001b[0m\u001b[0mnum_names\u001b[0m\u001b[0;34m)\u001b[0m\u001b[0;34m:\u001b[0m\u001b[0;34m\u001b[0m\u001b[0;34m\u001b[0m\u001b[0m\n\u001b[0;32m----> 8\u001b[0;31m     \u001b[0mall_res\u001b[0m\u001b[0;34m.\u001b[0m\u001b[0mextend\u001b[0m\u001b[0;34m(\u001b[0m\u001b[0mr\u001b[0m\u001b[0;34m.\u001b[0m\u001b[0mget\u001b[0m\u001b[0;34m(\u001b[0m\u001b[0;34m)\u001b[0m\u001b[0;34m.\u001b[0m\u001b[0mtolist\u001b[0m\u001b[0;34m(\u001b[0m\u001b[0;34m)\u001b[0m\u001b[0;34m)\u001b[0m\u001b[0;34m\u001b[0m\u001b[0;34m\u001b[0m\u001b[0m\n\u001b[0m\u001b[1;32m      9\u001b[0m \u001b[0mpool\u001b[0m\u001b[0;34m.\u001b[0m\u001b[0mclose\u001b[0m\u001b[0;34m(\u001b[0m\u001b[0;34m)\u001b[0m\u001b[0;34m\u001b[0m\u001b[0;34m\u001b[0m\u001b[0m\n\u001b[1;32m     10\u001b[0m \u001b[0mpool\u001b[0m\u001b[0;34m.\u001b[0m\u001b[0mjoin\u001b[0m\u001b[0;34m(\u001b[0m\u001b[0;34m)\u001b[0m\u001b[0;34m\u001b[0m\u001b[0;34m\u001b[0m\u001b[0m\n",
      "\u001b[0;32m~/.conda/envs/venice/lib/python3.7/multiprocessing/pool.py\u001b[0m in \u001b[0;36mget\u001b[0;34m(self, timeout)\u001b[0m\n\u001b[1;32m    649\u001b[0m \u001b[0;34m\u001b[0m\u001b[0m\n\u001b[1;32m    650\u001b[0m     \u001b[0;32mdef\u001b[0m \u001b[0mget\u001b[0m\u001b[0;34m(\u001b[0m\u001b[0mself\u001b[0m\u001b[0;34m,\u001b[0m \u001b[0mtimeout\u001b[0m\u001b[0;34m=\u001b[0m\u001b[0;32mNone\u001b[0m\u001b[0;34m)\u001b[0m\u001b[0;34m:\u001b[0m\u001b[0;34m\u001b[0m\u001b[0;34m\u001b[0m\u001b[0m\n\u001b[0;32m--> 651\u001b[0;31m         \u001b[0mself\u001b[0m\u001b[0;34m.\u001b[0m\u001b[0mwait\u001b[0m\u001b[0;34m(\u001b[0m\u001b[0mtimeout\u001b[0m\u001b[0;34m)\u001b[0m\u001b[0;34m\u001b[0m\u001b[0;34m\u001b[0m\u001b[0m\n\u001b[0m\u001b[1;32m    652\u001b[0m         \u001b[0;32mif\u001b[0m \u001b[0;32mnot\u001b[0m \u001b[0mself\u001b[0m\u001b[0;34m.\u001b[0m\u001b[0mready\u001b[0m\u001b[0;34m(\u001b[0m\u001b[0;34m)\u001b[0m\u001b[0;34m:\u001b[0m\u001b[0;34m\u001b[0m\u001b[0;34m\u001b[0m\u001b[0m\n\u001b[1;32m    653\u001b[0m             \u001b[0;32mraise\u001b[0m \u001b[0mTimeoutError\u001b[0m\u001b[0;34m\u001b[0m\u001b[0;34m\u001b[0m\u001b[0m\n",
      "\u001b[0;32m~/.conda/envs/venice/lib/python3.7/multiprocessing/pool.py\u001b[0m in \u001b[0;36mwait\u001b[0;34m(self, timeout)\u001b[0m\n\u001b[1;32m    646\u001b[0m \u001b[0;34m\u001b[0m\u001b[0m\n\u001b[1;32m    647\u001b[0m     \u001b[0;32mdef\u001b[0m \u001b[0mwait\u001b[0m\u001b[0;34m(\u001b[0m\u001b[0mself\u001b[0m\u001b[0;34m,\u001b[0m \u001b[0mtimeout\u001b[0m\u001b[0;34m=\u001b[0m\u001b[0;32mNone\u001b[0m\u001b[0;34m)\u001b[0m\u001b[0;34m:\u001b[0m\u001b[0;34m\u001b[0m\u001b[0;34m\u001b[0m\u001b[0m\n\u001b[0;32m--> 648\u001b[0;31m         \u001b[0mself\u001b[0m\u001b[0;34m.\u001b[0m\u001b[0m_event\u001b[0m\u001b[0;34m.\u001b[0m\u001b[0mwait\u001b[0m\u001b[0;34m(\u001b[0m\u001b[0mtimeout\u001b[0m\u001b[0;34m)\u001b[0m\u001b[0;34m\u001b[0m\u001b[0;34m\u001b[0m\u001b[0m\n\u001b[0m\u001b[1;32m    649\u001b[0m \u001b[0;34m\u001b[0m\u001b[0m\n\u001b[1;32m    650\u001b[0m     \u001b[0;32mdef\u001b[0m \u001b[0mget\u001b[0m\u001b[0;34m(\u001b[0m\u001b[0mself\u001b[0m\u001b[0;34m,\u001b[0m \u001b[0mtimeout\u001b[0m\u001b[0;34m=\u001b[0m\u001b[0;32mNone\u001b[0m\u001b[0;34m)\u001b[0m\u001b[0;34m:\u001b[0m\u001b[0;34m\u001b[0m\u001b[0;34m\u001b[0m\u001b[0m\n",
      "\u001b[0;32m~/.conda/envs/venice/lib/python3.7/threading.py\u001b[0m in \u001b[0;36mwait\u001b[0;34m(self, timeout)\u001b[0m\n\u001b[1;32m    550\u001b[0m             \u001b[0msignaled\u001b[0m \u001b[0;34m=\u001b[0m \u001b[0mself\u001b[0m\u001b[0;34m.\u001b[0m\u001b[0m_flag\u001b[0m\u001b[0;34m\u001b[0m\u001b[0;34m\u001b[0m\u001b[0m\n\u001b[1;32m    551\u001b[0m             \u001b[0;32mif\u001b[0m \u001b[0;32mnot\u001b[0m \u001b[0msignaled\u001b[0m\u001b[0;34m:\u001b[0m\u001b[0;34m\u001b[0m\u001b[0;34m\u001b[0m\u001b[0m\n\u001b[0;32m--> 552\u001b[0;31m                 \u001b[0msignaled\u001b[0m \u001b[0;34m=\u001b[0m \u001b[0mself\u001b[0m\u001b[0;34m.\u001b[0m\u001b[0m_cond\u001b[0m\u001b[0;34m.\u001b[0m\u001b[0mwait\u001b[0m\u001b[0;34m(\u001b[0m\u001b[0mtimeout\u001b[0m\u001b[0;34m)\u001b[0m\u001b[0;34m\u001b[0m\u001b[0;34m\u001b[0m\u001b[0m\n\u001b[0m\u001b[1;32m    553\u001b[0m             \u001b[0;32mreturn\u001b[0m \u001b[0msignaled\u001b[0m\u001b[0;34m\u001b[0m\u001b[0;34m\u001b[0m\u001b[0m\n\u001b[1;32m    554\u001b[0m \u001b[0;34m\u001b[0m\u001b[0m\n",
      "\u001b[0;32m~/.conda/envs/venice/lib/python3.7/threading.py\u001b[0m in \u001b[0;36mwait\u001b[0;34m(self, timeout)\u001b[0m\n\u001b[1;32m    294\u001b[0m         \u001b[0;32mtry\u001b[0m\u001b[0;34m:\u001b[0m    \u001b[0;31m# restore state no matter what (e.g., KeyboardInterrupt)\u001b[0m\u001b[0;34m\u001b[0m\u001b[0;34m\u001b[0m\u001b[0m\n\u001b[1;32m    295\u001b[0m             \u001b[0;32mif\u001b[0m \u001b[0mtimeout\u001b[0m \u001b[0;32mis\u001b[0m \u001b[0;32mNone\u001b[0m\u001b[0;34m:\u001b[0m\u001b[0;34m\u001b[0m\u001b[0;34m\u001b[0m\u001b[0m\n\u001b[0;32m--> 296\u001b[0;31m                 \u001b[0mwaiter\u001b[0m\u001b[0;34m.\u001b[0m\u001b[0macquire\u001b[0m\u001b[0;34m(\u001b[0m\u001b[0;34m)\u001b[0m\u001b[0;34m\u001b[0m\u001b[0;34m\u001b[0m\u001b[0m\n\u001b[0m\u001b[1;32m    297\u001b[0m                 \u001b[0mgotit\u001b[0m \u001b[0;34m=\u001b[0m \u001b[0;32mTrue\u001b[0m\u001b[0;34m\u001b[0m\u001b[0;34m\u001b[0m\u001b[0m\n\u001b[1;32m    298\u001b[0m             \u001b[0;32melse\u001b[0m\u001b[0;34m:\u001b[0m\u001b[0;34m\u001b[0m\u001b[0;34m\u001b[0m\u001b[0m\n",
      "\u001b[0;31mKeyboardInterrupt\u001b[0m: "
     ]
    }
   ],
   "source": [
    "pool = mp.Pool(8)\n",
    "\n",
    "res = [pool.apply_async(f, args=(idx1, names,)) for idx1 in range(num_names)]\n",
    "\n",
    "all_res = []\n",
    "\n",
    "for r in tqdm(res, total=num_names):\n",
    "    all_res.extend(r.get().tolist())\n",
    "pool.close()\n",
    "pool.join()\n"
   ]
  },
  {
   "cell_type": "code",
   "execution_count": 57,
   "metadata": {},
   "outputs": [],
   "source": []
  },
  {
   "cell_type": "code",
   "execution_count": 59,
   "metadata": {},
   "outputs": [
    {
     "data": {
      "text/plain": [
       "array([[    0,     0,     0],\n",
       "       [    0,     3,     2],\n",
       "       [    0,     4,     2],\n",
       "       [    0,     5,     2],\n",
       "       [    0,    16,     2],\n",
       "       [    0,    33,     2],\n",
       "       [    0,    34,     1],\n",
       "       [    0,    35,     2],\n",
       "       [    0,    36,     2],\n",
       "       [    0,    37,     2],\n",
       "       [    0,    38,     2],\n",
       "       [    0,    49,     2],\n",
       "       [    0,    50,     2],\n",
       "       [    0,    53,     2],\n",
       "       [    0,    56,     2],\n",
       "       [    0,    60,     2],\n",
       "       [    0,    64,     2],\n",
       "       [    0,    65,     2],\n",
       "       [    0,    80,     2],\n",
       "       [    0,    90,     2],\n",
       "       [    0,    91,     2],\n",
       "       [    0,   101,     2],\n",
       "       [    0,   125,     2],\n",
       "       [    0,   144,     2],\n",
       "       [    0,   160,     2],\n",
       "       [    0,   175,     2],\n",
       "       [    0,   196,     2],\n",
       "       [    0,   208,     2],\n",
       "       [    0,   212,     2],\n",
       "       [    0,   216,     1],\n",
       "       [    0,   217,     2],\n",
       "       [    0,   224,     1],\n",
       "       [    0,   229,     2],\n",
       "       [    0,   236,     1],\n",
       "       [    0,   237,     2],\n",
       "       [    0,   244,     2],\n",
       "       [    0,   266,     2],\n",
       "       [    0,   321,     2],\n",
       "       [    0,   325,     2],\n",
       "       [    0,   340,     2],\n",
       "       [    0,   360,     2],\n",
       "       [    0,   362,     2],\n",
       "       [    0,   365,     2],\n",
       "       [    0,   377,     2],\n",
       "       [    0,   378,     2],\n",
       "       [    0,   380,     2],\n",
       "       [    0,   383,     2],\n",
       "       [    0,   387,     2],\n",
       "       [    0,   396,     2],\n",
       "       [    0,   397,     2],\n",
       "       [    0,   402,     2],\n",
       "       [    0,   405,     2],\n",
       "       [    0,   408,     2],\n",
       "       [    0,   417,     2],\n",
       "       [    0,   421,     2],\n",
       "       [    0,   447,     2],\n",
       "       [    0,   451,     2],\n",
       "       [    0,   454,     2],\n",
       "       [    0,   524,     2],\n",
       "       [    0,   568,     2],\n",
       "       [    0,   621,     2],\n",
       "       [    0,   623,     2],\n",
       "       [    0,   624,     2],\n",
       "       [    0,   625,     2],\n",
       "       [    0,   688,     2],\n",
       "       [    0,   689,     2],\n",
       "       [    0,   695,     2],\n",
       "       [    0,   770,     2],\n",
       "       [    0,   811,     2],\n",
       "       [    0,   858,     2],\n",
       "       [    0,   860,     2],\n",
       "       [    0,   893,     2],\n",
       "       [    0,   896,     2],\n",
       "       [    0,   923,     2],\n",
       "       [    0,   924,     2],\n",
       "       [    0,  1006,     2],\n",
       "       [    0,  1062,     2],\n",
       "       [    0,  1079,     2],\n",
       "       [    0,  1181,     2],\n",
       "       [    0,  1231,     2],\n",
       "       [    0,  1242,     2],\n",
       "       [    0,  1270,     2],\n",
       "       [    0,  1343,     2],\n",
       "       [    0,  1366,     2],\n",
       "       [    0,  1475,     2],\n",
       "       [    0,  1498,     2],\n",
       "       [    0,  1505,     2],\n",
       "       [    0,  1557,     2],\n",
       "       [    0,  1562,     2],\n",
       "       [    0,  1592,     2],\n",
       "       [    0,  1673,     1],\n",
       "       [    0,  1677,     2],\n",
       "       [    0,  1692,     2],\n",
       "       [    0,  1701,     2],\n",
       "       [    0,  1703,     2],\n",
       "       [    0,  1717,     2],\n",
       "       [    0,  1732,     2],\n",
       "       [    0,  1778,     2],\n",
       "       [    0,  1793,     2],\n",
       "       [    0,  1816,     2],\n",
       "       [    0,  1935,     2],\n",
       "       [    0,  1969,     2],\n",
       "       [    0,  1977,     2],\n",
       "       [    0,  2002,     2],\n",
       "       [    0,  2034,     2],\n",
       "       [    0,  2054,     2],\n",
       "       [    0,  2072,     2],\n",
       "       [    0,  2073,     2],\n",
       "       [    0,  2147,     2],\n",
       "       [    0,  2197,     2],\n",
       "       [    0,  2221,     2],\n",
       "       [    0,  2264,     2],\n",
       "       [    0,  2299,     2],\n",
       "       [    0,  2319,     2],\n",
       "       [    0,  2420,     2],\n",
       "       [    0,  2437,     2],\n",
       "       [    0,  2469,     2],\n",
       "       [    0,  2510,     2],\n",
       "       [    0,  2527,     2],\n",
       "       [    0,  2606,     2],\n",
       "       [    0,  2663,     2],\n",
       "       [    0,  2816,     2],\n",
       "       [    0,  2892,     2],\n",
       "       [    0,  2945,     2],\n",
       "       [    0,  2975,     2],\n",
       "       [    0,  4177,     2],\n",
       "       [    0,  5907,     2],\n",
       "       [    0,  5977,     2],\n",
       "       [    0,  6650,     2],\n",
       "       [    0,  6729,     2],\n",
       "       [    0,  7262,     2],\n",
       "       [    0,  8595,     2],\n",
       "       [    0,  9335,     2],\n",
       "       [    0,  9880,     2],\n",
       "       [    0, 10016,     2],\n",
       "       [    0, 10667,     2],\n",
       "       [    0, 11236,     2]])"
      ]
     },
     "execution_count": 59,
     "metadata": {},
     "output_type": "execute_result"
    }
   ],
   "source": [
    "res[0].get()"
   ]
  },
  {
   "cell_type": "code",
   "execution_count": 26,
   "metadata": {},
   "outputs": [],
   "source": [
    "res = g.remote(0, names)"
   ]
  },
  {
   "cell_type": "code",
   "execution_count": 27,
   "metadata": {},
   "outputs": [
    {
     "data": {
      "text/plain": [
       "ObjectID(f66d17bae2b0e765ffffffff010000c801000000)"
      ]
     },
     "execution_count": 27,
     "metadata": {},
     "output_type": "execute_result"
    },
    {
     "name": "stderr",
     "output_type": "stream",
     "text": [
      "2020-04-28 21:23:35,353\tERROR worker.py:994 -- Possible unhandled error from worker: \u001b[36mray_worker\u001b[39m (pid=1601744, ip=192.168.0.115)\n",
      "  File \"python/ray/_raylet.pyx\", line 636, in ray._raylet.execute_task\n",
      "  File \"<ipython-input-23-c36da2b94054>\", line 56, in g\n",
      "NameError: global name 'levenshtein' is not defined\n"
     ]
    }
   ],
   "source": [
    "res"
   ]
  },
  {
   "cell_type": "code",
   "execution_count": 13,
   "metadata": {},
   "outputs": [
    {
     "name": "stdout",
     "output_type": "stream",
     "text": [
      "21.4 ms ± 1.14 ms per loop (mean ± std. dev. of 7 runs, 1 loop each)\n"
     ]
    }
   ],
   "source": [
    "%%timeit\n",
    "f(0, names)"
   ]
  },
  {
   "cell_type": "code",
   "execution_count": 23,
   "metadata": {},
   "outputs": [
    {
     "data": {
      "text/plain": [
       "1"
      ]
     },
     "execution_count": 23,
     "metadata": {},
     "output_type": "execute_result"
    }
   ],
   "source": [
    "editdistance.distance(\"étudiant\", 'etudiant')"
   ]
  },
  {
   "cell_type": "code",
   "execution_count": 14,
   "metadata": {},
   "outputs": [
    {
     "data": {
      "application/vnd.jupyter.widget-view+json": {
       "model_id": "046a0045ec734f3a8018255dbee7df8a",
       "version_major": 2,
       "version_minor": 0
      },
      "text/plain": [
       "HBox(children=(FloatProgress(value=0.0, max=228108.0), HTML(value='')))"
      ]
     },
     "metadata": {},
     "output_type": "display_data"
    },
    {
     "ename": "KeyboardInterrupt",
     "evalue": "",
     "output_type": "error",
     "traceback": [
      "\u001b[0;31m---------------------------------------------------------------------------\u001b[0m",
      "\u001b[0;31mKeyboardInterrupt\u001b[0m                         Traceback (most recent call last)",
      "\u001b[0;32m<ipython-input-14-d2d44e4bfb4d>\u001b[0m in \u001b[0;36m<module>\u001b[0;34m\u001b[0m\n\u001b[1;32m      1\u001b[0m \u001b[0mres\u001b[0m \u001b[0;34m=\u001b[0m \u001b[0;34m[\u001b[0m\u001b[0;34m]\u001b[0m\u001b[0;34m\u001b[0m\u001b[0;34m\u001b[0m\u001b[0m\n\u001b[1;32m      2\u001b[0m \u001b[0;32mfor\u001b[0m \u001b[0midx1\u001b[0m \u001b[0;32min\u001b[0m \u001b[0mtqdm\u001b[0m\u001b[0;34m(\u001b[0m\u001b[0mrange\u001b[0m\u001b[0;34m(\u001b[0m\u001b[0mnum_names\u001b[0m\u001b[0;34m)\u001b[0m\u001b[0;34m)\u001b[0m\u001b[0;34m:\u001b[0m\u001b[0;34m\u001b[0m\u001b[0;34m\u001b[0m\u001b[0m\n\u001b[0;32m----> 3\u001b[0;31m     \u001b[0mres\u001b[0m\u001b[0;34m.\u001b[0m\u001b[0mextend\u001b[0m\u001b[0;34m(\u001b[0m\u001b[0mf\u001b[0m\u001b[0;34m(\u001b[0m\u001b[0midx1\u001b[0m\u001b[0;34m,\u001b[0m \u001b[0mnames\u001b[0m\u001b[0;34m)\u001b[0m\u001b[0;34m.\u001b[0m\u001b[0mtolist\u001b[0m\u001b[0;34m(\u001b[0m\u001b[0;34m)\u001b[0m\u001b[0;34m)\u001b[0m\u001b[0;34m\u001b[0m\u001b[0;34m\u001b[0m\u001b[0m\n\u001b[0m",
      "\u001b[0;31mKeyboardInterrupt\u001b[0m: "
     ]
    }
   ],
   "source": [
    "res = []\n",
    "for idx1 in tqdm(range(num_names)):\n",
    "    res.extend(f(idx1, names).tolist())"
   ]
  },
  {
   "cell_type": "code",
   "execution_count": 139,
   "metadata": {},
   "outputs": [],
   "source": [
    "import multiprocessing as mp"
   ]
  },
  {
   "cell_type": "code",
   "execution_count": 35,
   "metadata": {},
   "outputs": [],
   "source": [
    "from itertools import cycle, combinations, product\n",
    "for i, name in product(range(10), [names]):\n",
    "    break"
   ]
  },
  {
   "cell_type": "code",
   "execution_count": 42,
   "metadata": {},
   "outputs": [
    {
     "data": {
      "application/vnd.jupyter.widget-view+json": {
       "model_id": "a4ad62558cbe4bd0a30b3915de804cad",
       "version_major": 2,
       "version_minor": 0
      },
      "text/plain": [
       "HBox(children=(FloatProgress(value=0.0, max=10.0), HTML(value='')))"
      ]
     },
     "metadata": {},
     "output_type": "display_data"
    }
   ],
   "source": [
    "# # Création d'une pool avec 16 process\n",
    "pool = mp.Pool(8)\n",
    "# # Création d'une barre de chargement et d'une fonction pour la mettre à jour.\n",
    "pbar = tqdm(total=10)\n",
    "results = []\n",
    "\n",
    "def update(*a):\n",
    "    print(a)\n",
    "    if a[0] is not None:\n",
    "        results.append(a[0])\n",
    "    pbar.update()\n",
    "    \n",
    "for idx1 in range(10):\n",
    "    pool.apply_async(f, args=(idx1, names,), callback=update)\n",
    "pool.close()\n",
    "\n",
    "pool.join()"
   ]
  },
  {
   "cell_type": "code",
   "execution_count": null,
   "metadata": {},
   "outputs": [],
   "source": []
  },
  {
   "cell_type": "code",
   "execution_count": 41,
   "metadata": {},
   "outputs": [],
   "source": [
    "pool.close()\n",
    "\n",
    "pool.join()"
   ]
  },
  {
   "cell_type": "code",
   "execution_count": 136,
   "metadata": {
    "scrolled": true
   },
   "outputs": [
    {
     "data": {
      "text/plain": [
       "[[0, 0, 0],\n",
       " [0, 1, 2],\n",
       " [0, 3, 2],\n",
       " [0, 4, 2],\n",
       " [0, 5, 2],\n",
       " [0, 6, 2],\n",
       " [0, 7, 2],\n",
       " [0, 9, 1],\n",
       " [0, 10, 2],\n",
       " [0, 41, 2],\n",
       " [0, 45, 2],\n",
       " [0, 47, 2],\n",
       " [0, 93, 2],\n",
       " [0, 129, 2],\n",
       " [0, 161, 2],\n",
       " [0, 176, 2],\n",
       " [0, 177, 2],\n",
       " [0, 214, 2],\n",
       " [0, 217, 1],\n",
       " [0, 218, 2],\n",
       " [0, 219, 2],\n",
       " [0, 220, 2],\n",
       " [0, 221, 2],\n",
       " [0, 222, 2],\n",
       " [0, 223, 2],\n",
       " [0, 224, 2],\n",
       " [0, 226, 2],\n",
       " [0, 228, 2],\n",
       " [0, 229, 2],\n",
       " [0, 232, 2],\n",
       " [0, 243, 2],\n",
       " [0, 263, 2],\n",
       " [0, 269, 2],\n",
       " [0, 307, 2],\n",
       " [0, 319, 2],\n",
       " [0, 342, 2],\n",
       " [0, 343, 2],\n",
       " [0, 351, 2],\n",
       " [0, 353, 2],\n",
       " [0, 357, 2],\n",
       " [0, 358, 2],\n",
       " [0, 380, 2],\n",
       " [0, 387, 2],\n",
       " [0, 397, 1],\n",
       " [0, 398, 2],\n",
       " [0, 402, 2],\n",
       " [0, 403, 2],\n",
       " [0, 404, 2],\n",
       " [0, 409, 2],\n",
       " [0, 419, 2],\n",
       " [0, 440, 2],\n",
       " [0, 444, 2],\n",
       " [0, 452, 2],\n",
       " [0, 456, 2],\n",
       " [0, 476, 2],\n",
       " [0, 480, 2],\n",
       " [0, 485, 2],\n",
       " [0, 509, 2],\n",
       " [0, 530, 2],\n",
       " [0, 533, 2],\n",
       " [0, 536, 2],\n",
       " [0, 538, 2],\n",
       " [0, 541, 2],\n",
       " [0, 542, 2],\n",
       " [0, 574, 2],\n",
       " [0, 575, 2],\n",
       " [0, 576, 1],\n",
       " [0, 581, 2],\n",
       " [0, 584, 2],\n",
       " [0, 589, 2],\n",
       " [0, 590, 2],\n",
       " [0, 598, 2],\n",
       " [0, 605, 2],\n",
       " [0, 612, 2],\n",
       " [0, 616, 2],\n",
       " [0, 617, 2],\n",
       " [0, 624, 2],\n",
       " [0, 1834, 1],\n",
       " [0, 1835, 2],\n",
       " [0, 1836, 1],\n",
       " [0, 1838, 2],\n",
       " [0, 1848, 2],\n",
       " [0, 1853, 2],\n",
       " [0, 1857, 2],\n",
       " [0, 1865, 2],\n",
       " [0, 1868, 2],\n",
       " [0, 1871, 2],\n",
       " [0, 1876, 2],\n",
       " [0, 2058, 2],\n",
       " [0, 2513, 2],\n",
       " [0, 2514, 2],\n",
       " [0, 2516, 2],\n",
       " [0, 2520, 2],\n",
       " [0, 2528, 2],\n",
       " [0, 2830, 2],\n",
       " [0, 2831, 2],\n",
       " [0, 2833, 2],\n",
       " [0, 2837, 2],\n",
       " [0, 2839, 2],\n",
       " [0, 2850, 2],\n",
       " [0, 2861, 2],\n",
       " [0, 2864, 2],\n",
       " [0, 3314, 2],\n",
       " [0, 3574, 2],\n",
       " [0, 7696, 2],\n",
       " [0, 9832, 2],\n",
       " [0, 9838, 2],\n",
       " [0, 9839, 2],\n",
       " [0, 10872, 2],\n",
       " [0, 12239, 2]]"
      ]
     },
     "execution_count": 136,
     "metadata": {},
     "output_type": "execute_result"
    }
   ],
   "source": [
    "# %%timeit\n",
    "f(0, names).tolist()\n",
    "# f.parallel_diagnostics(level=4)"
   ]
  },
  {
   "cell_type": "code",
   "execution_count": 13,
   "metadata": {},
   "outputs": [
    {
     "data": {
      "application/vnd.jupyter.widget-view+json": {
       "model_id": "8bdb079b35254ae58767cd5595860042",
       "version_major": 2,
       "version_minor": 0
      },
      "text/plain": [
       "HBox(children=(FloatProgress(value=0.0, max=269593.0), HTML(value='')))"
      ]
     },
     "metadata": {},
     "output_type": "display_data"
    },
    {
     "ename": "KeyboardInterrupt",
     "evalue": "",
     "output_type": "error",
     "traceback": [
      "\u001b[0;31m---------------------------------------------------------------------------\u001b[0m",
      "\u001b[0;31mKeyboardInterrupt\u001b[0m                         Traceback (most recent call last)",
      "\u001b[0;32m<ipython-input-13-eef5e3712382>\u001b[0m in \u001b[0;36m<module>\u001b[0;34m\u001b[0m\n\u001b[1;32m      9\u001b[0m         \u001b[0ms2\u001b[0m \u001b[0;34m=\u001b[0m \u001b[0mnames\u001b[0m\u001b[0;34m[\u001b[0m\u001b[0midx2\u001b[0m\u001b[0;34m]\u001b[0m\u001b[0;34m\u001b[0m\u001b[0;34m\u001b[0m\u001b[0m\n\u001b[1;32m     10\u001b[0m         \u001b[0ml2\u001b[0m \u001b[0;34m=\u001b[0m \u001b[0mlen\u001b[0m\u001b[0;34m(\u001b[0m\u001b[0ms2\u001b[0m\u001b[0;34m)\u001b[0m\u001b[0;34m\u001b[0m\u001b[0;34m\u001b[0m\u001b[0m\n\u001b[0;32m---> 11\u001b[0;31m         \u001b[0;32mif\u001b[0m \u001b[0mlen\u001b[0m\u001b[0;34m(\u001b[0m\u001b[0ms2\u001b[0m\u001b[0;34m)\u001b[0m \u001b[0;34m-\u001b[0m \u001b[0mlen\u001b[0m\u001b[0;34m(\u001b[0m\u001b[0ms1\u001b[0m\u001b[0;34m)\u001b[0m \u001b[0;34m>\u001b[0m \u001b[0mmax_dist\u001b[0m\u001b[0;34m:\u001b[0m\u001b[0;34m\u001b[0m\u001b[0;34m\u001b[0m\u001b[0m\n\u001b[0m\u001b[1;32m     12\u001b[0m             \u001b[0;32mbreak\u001b[0m\u001b[0;34m\u001b[0m\u001b[0;34m\u001b[0m\u001b[0m\n\u001b[1;32m     13\u001b[0m         \u001b[0mdist\u001b[0m \u001b[0;34m=\u001b[0m \u001b[0mlevenshtein\u001b[0m\u001b[0;34m(\u001b[0m\u001b[0ms1\u001b[0m\u001b[0;34m,\u001b[0m \u001b[0ms2\u001b[0m\u001b[0;34m,\u001b[0m \u001b[0mmax_dist\u001b[0m\u001b[0;34m)\u001b[0m\u001b[0;34m\u001b[0m\u001b[0;34m\u001b[0m\u001b[0m\n",
      "\u001b[0;31mKeyboardInterrupt\u001b[0m: "
     ]
    }
   ],
   "source": [
    "from polyleven import levenshtein\n",
    "\n",
    "max_dist = 3\n",
    "res = []\n",
    "for idx1 in tqdm(range(len(names))):\n",
    "    s1 = names[idx1]\n",
    "    l1 = len(s1)\n",
    "    for idx2 in range(idx1, len(names)):\n",
    "        s2 = names[idx2]\n",
    "        l2 = len(s2)\n",
    "        if len(s2) - len(s1) > max_dist:\n",
    "            break\n",
    "        dist = levenshtein(s1, s2, max_dist)\n",
    "        if dist < max_dist:\n",
    "            res.append((idx1, idx2, dist))"
   ]
  },
  {
   "cell_type": "code",
   "execution_count": 77,
   "metadata": {},
   "outputs": [
    {
     "data": {
      "application/vnd.jupyter.widget-view+json": {
       "model_id": "90bca6be23444b0a842df7653622d7b4",
       "version_major": 2,
       "version_minor": 0
      },
      "text/plain": [
       "HBox(children=(FloatProgress(value=0.0, max=269593.0), HTML(value='')))"
      ]
     },
     "metadata": {},
     "output_type": "display_data"
    },
    {
     "ename": "KeyboardInterrupt",
     "evalue": "",
     "output_type": "error",
     "traceback": [
      "\u001b[0;31m---------------------------------------------------------------------------\u001b[0m",
      "\u001b[0;31mKeyboardInterrupt\u001b[0m                         Traceback (most recent call last)",
      "\u001b[0;32m<ipython-input-77-d00084d29964>\u001b[0m in \u001b[0;36m<module>\u001b[0;34m\u001b[0m\n\u001b[1;32m      1\u001b[0m \u001b[0mres\u001b[0m \u001b[0;34m=\u001b[0m \u001b[0;34m{\u001b[0m\u001b[0;34m}\u001b[0m\u001b[0;34m\u001b[0m\u001b[0;34m\u001b[0m\u001b[0m\n\u001b[1;32m      2\u001b[0m \u001b[0;32mfor\u001b[0m \u001b[0midx1\u001b[0m \u001b[0;32min\u001b[0m \u001b[0mtqdm\u001b[0m\u001b[0;34m(\u001b[0m\u001b[0mrange\u001b[0m\u001b[0;34m(\u001b[0m\u001b[0mlen\u001b[0m\u001b[0;34m(\u001b[0m\u001b[0munique_names\u001b[0m\u001b[0;34m)\u001b[0m\u001b[0;34m)\u001b[0m\u001b[0;34m)\u001b[0m\u001b[0;34m:\u001b[0m\u001b[0;34m\u001b[0m\u001b[0;34m\u001b[0m\u001b[0m\n\u001b[0;32m----> 3\u001b[0;31m     \u001b[0ms1\u001b[0m\u001b[0;34m,\u001b[0m \u001b[0mlength\u001b[0m \u001b[0;34m=\u001b[0m \u001b[0munique_names\u001b[0m\u001b[0;34m.\u001b[0m\u001b[0miloc\u001b[0m\u001b[0;34m[\u001b[0m\u001b[0midx1\u001b[0m\u001b[0;34m]\u001b[0m\u001b[0;34m\u001b[0m\u001b[0;34m\u001b[0m\u001b[0m\n\u001b[0m\u001b[1;32m      4\u001b[0m     \u001b[0msubset\u001b[0m \u001b[0;34m=\u001b[0m \u001b[0mlen2subset\u001b[0m\u001b[0;34m[\u001b[0m\u001b[0mlength\u001b[0m\u001b[0;34m]\u001b[0m\u001b[0;34m\u001b[0m\u001b[0;34m\u001b[0m\u001b[0m\n\u001b[1;32m      5\u001b[0m     \u001b[0;32mfor\u001b[0m \u001b[0midx2\u001b[0m\u001b[0;34m,\u001b[0m \u001b[0ms2\u001b[0m\u001b[0;34m,\u001b[0m \u001b[0m_\u001b[0m \u001b[0;32min\u001b[0m \u001b[0msubset\u001b[0m\u001b[0;34m.\u001b[0m\u001b[0mvalues\u001b[0m\u001b[0;34m:\u001b[0m\u001b[0;34m\u001b[0m\u001b[0;34m\u001b[0m\u001b[0m\n",
      "\u001b[0;31mKeyboardInterrupt\u001b[0m: "
     ]
    }
   ],
   "source": [
    "res = {}\n",
    "for idx1 in tqdm(range(len(unique_names))):\n",
    "    s1, length = unique_names.iloc[idx1]\n",
    "    subset = len2subset[length]\n",
    "    for idx2, s2, _ in subset.values:\n",
    "        if (idx1, idx2) in res:\n",
    "            continue\n",
    "        dist = levenshtein(s1, s2, max_dist)\n",
    "        if dist < max_dist:\n",
    "            res[(idx1, idx2)] = dist"
   ]
  },
  {
   "cell_type": "code",
   "execution_count": 73,
   "metadata": {},
   "outputs": [
    {
     "name": "stdout",
     "output_type": "stream",
     "text": [
      "The line_profiler extension is already loaded. To reload it, use:\n",
      "  %reload_ext line_profiler\n"
     ]
    }
   ],
   "source": [
    "%load_ext line_profiler"
   ]
  },
  {
   "cell_type": "code",
   "execution_count": 78,
   "metadata": {},
   "outputs": [],
   "source": [
    "def f(idx1):\n",
    "    s1, length = unique_names.iloc[idx1]\n",
    "    subset = len2subset[length]\n",
    "    for idx2, s2, _ in subset.values:\n",
    "        if (idx1, idx2) in res:\n",
    "            continue\n",
    "        dist = levenshtein(s1, s2, max_dist)\n",
    "        if dist < max_dist:\n",
    "            res[(idx1, idx2)] = dist"
   ]
  },
  {
   "cell_type": "code",
   "execution_count": 87,
   "metadata": {},
   "outputs": [
    {
     "name": "stdout",
     "output_type": "stream",
     "text": [
      "*** KeyboardInterrupt exception caught in code being profiled."
     ]
    }
   ],
   "source": [
    "%lprun -f f f(0)"
   ]
  },
  {
   "cell_type": "code",
   "execution_count": 6,
   "metadata": {},
   "outputs": [],
   "source": [
    "import edlib\n",
    "from polyleven import levenshtein\n",
    "\n",
    "@ray.remote\n",
    "def compute_dist(s1, s2, idx1, idx2, max_dist=4):\n",
    "    if abs(len(s1) - len(s2)) > max_dist:\n",
    "        return None\n",
    "    dist = levenshtein(name1, name2, max_dist)\n",
    "    if dist < max_dist:\n",
    "        return idx1, idx2, dist\n",
    "    \n",
    "@ray.remote    \n",
    "def compute_dist(idx1, unique_names, max_dist=4):\n",
    "    res = []\n",
    "    for idx2 in range(idx1, len(unique_names)):\n",
    "        s1 = unique_names[idx1]\n",
    "        s2 = unique_names[idx2]\n",
    "        if abs(len(s1) - len(s2)) > max_dist:\n",
    "            continue\n",
    "        dist = levenshtein(s1, s2, max_dist)\n",
    "        if dist < max_dist:\n",
    "            res.append((idx1, idx2, dist))\n",
    "    return res"
   ]
  },
  {
   "cell_type": "code",
   "execution_count": null,
   "metadata": {
    "scrolled": true
   },
   "outputs": [
    {
     "data": {
      "application/vnd.jupyter.widget-view+json": {
       "model_id": "fc78d531f6cb40b0976fba92099c5054",
       "version_major": 2,
       "version_minor": 0
      },
      "text/plain": [
       "HBox(children=(FloatProgress(value=0.0, max=269593.0), HTML(value='')))"
      ]
     },
     "metadata": {},
     "output_type": "display_data"
    },
    {
     "ename": "KeyboardInterrupt",
     "evalue": "",
     "output_type": "error",
     "traceback": [
      "\u001b[0;31m---------------------------------------------------------------------------\u001b[0m",
      "\u001b[0;31mKeyboardInterrupt\u001b[0m                         Traceback (most recent call last)",
      "\u001b[0;32m~/.conda/envs/venice/lib/python3.7/site-packages/ray/worker.py\u001b[0m in \u001b[0;36mput\u001b[0;34m(value, weakref)\u001b[0m\n\u001b[1;32m   1491\u001b[0m         \u001b[0;32melse\u001b[0m\u001b[0;34m:\u001b[0m\u001b[0;34m\u001b[0m\u001b[0;34m\u001b[0m\u001b[0m\n\u001b[1;32m   1492\u001b[0m             \u001b[0;32mtry\u001b[0m\u001b[0;34m:\u001b[0m\u001b[0;34m\u001b[0m\u001b[0;34m\u001b[0m\u001b[0m\n\u001b[0;32m-> 1493\u001b[0;31m                 \u001b[0mobject_id\u001b[0m \u001b[0;34m=\u001b[0m \u001b[0mworker\u001b[0m\u001b[0;34m.\u001b[0m\u001b[0mput_object\u001b[0m\u001b[0;34m(\u001b[0m\u001b[0mvalue\u001b[0m\u001b[0;34m)\u001b[0m\u001b[0;34m\u001b[0m\u001b[0;34m\u001b[0m\u001b[0m\n\u001b[0m\u001b[1;32m   1494\u001b[0m             \u001b[0;32mexcept\u001b[0m \u001b[0mObjectStoreFullError\u001b[0m\u001b[0;34m:\u001b[0m\u001b[0;34m\u001b[0m\u001b[0;34m\u001b[0m\u001b[0m\n\u001b[1;32m   1495\u001b[0m                 logger.info(\n",
      "\u001b[0;32m~/.conda/envs/venice/lib/python3.7/site-packages/ray/worker.py\u001b[0m in \u001b[0;36mput_object\u001b[0;34m(self, value, object_id)\u001b[0m\n\u001b[1;32m    275\u001b[0m                 \"call 'put' on it (or return it).\")\n\u001b[1;32m    276\u001b[0m \u001b[0;34m\u001b[0m\u001b[0m\n\u001b[0;32m--> 277\u001b[0;31m         \u001b[0mserialized_value\u001b[0m \u001b[0;34m=\u001b[0m \u001b[0mself\u001b[0m\u001b[0;34m.\u001b[0m\u001b[0mget_serialization_context\u001b[0m\u001b[0;34m(\u001b[0m\u001b[0;34m)\u001b[0m\u001b[0;34m.\u001b[0m\u001b[0mserialize\u001b[0m\u001b[0;34m(\u001b[0m\u001b[0mvalue\u001b[0m\u001b[0;34m)\u001b[0m\u001b[0;34m\u001b[0m\u001b[0;34m\u001b[0m\u001b[0m\n\u001b[0m\u001b[1;32m    278\u001b[0m         return self.core_worker.put_serialized_object(\n\u001b[1;32m    279\u001b[0m             serialized_value, object_id=object_id)\n",
      "\u001b[0;32m~/.conda/envs/venice/lib/python3.7/site-packages/ray/serialization.py\u001b[0m in \u001b[0;36mserialize\u001b[0;34m(self, value)\u001b[0m\n\u001b[1;32m    483\u001b[0m             \u001b[0;32mif\u001b[0m \u001b[0mray\u001b[0m\u001b[0;34m.\u001b[0m\u001b[0mcloudpickle\u001b[0m\u001b[0;34m.\u001b[0m\u001b[0mFAST_CLOUDPICKLE_USED\u001b[0m\u001b[0;34m:\u001b[0m\u001b[0;34m\u001b[0m\u001b[0;34m\u001b[0m\u001b[0m\n\u001b[1;32m    484\u001b[0m                 inband = pickle.dumps(\n\u001b[0;32m--> 485\u001b[0;31m                     value, protocol=5, buffer_callback=writer.buffer_callback)\n\u001b[0m\u001b[1;32m    486\u001b[0m             \u001b[0;32melse\u001b[0m\u001b[0;34m:\u001b[0m\u001b[0;34m\u001b[0m\u001b[0;34m\u001b[0m\u001b[0m\n\u001b[1;32m    487\u001b[0m                 \u001b[0minband\u001b[0m \u001b[0;34m=\u001b[0m \u001b[0mpickle\u001b[0m\u001b[0;34m.\u001b[0m\u001b[0mdumps\u001b[0m\u001b[0;34m(\u001b[0m\u001b[0mvalue\u001b[0m\u001b[0;34m)\u001b[0m\u001b[0;34m\u001b[0m\u001b[0;34m\u001b[0m\u001b[0m\n",
      "\u001b[0;32m~/.conda/envs/venice/lib/python3.7/site-packages/ray/cloudpickle/cloudpickle_fast.py\u001b[0m in \u001b[0;36mdumps\u001b[0;34m(obj, protocol, buffer_callback)\u001b[0m\n\u001b[1;32m     66\u001b[0m     \u001b[0;32mwith\u001b[0m \u001b[0mio\u001b[0m\u001b[0;34m.\u001b[0m\u001b[0mBytesIO\u001b[0m\u001b[0;34m(\u001b[0m\u001b[0;34m)\u001b[0m \u001b[0;32mas\u001b[0m \u001b[0mfile\u001b[0m\u001b[0;34m:\u001b[0m\u001b[0;34m\u001b[0m\u001b[0;34m\u001b[0m\u001b[0m\n\u001b[1;32m     67\u001b[0m         \u001b[0mcp\u001b[0m \u001b[0;34m=\u001b[0m \u001b[0mCloudPickler\u001b[0m\u001b[0;34m(\u001b[0m\u001b[0mfile\u001b[0m\u001b[0;34m,\u001b[0m \u001b[0mprotocol\u001b[0m\u001b[0;34m=\u001b[0m\u001b[0mprotocol\u001b[0m\u001b[0;34m,\u001b[0m \u001b[0mbuffer_callback\u001b[0m\u001b[0;34m=\u001b[0m\u001b[0mbuffer_callback\u001b[0m\u001b[0;34m)\u001b[0m\u001b[0;34m\u001b[0m\u001b[0;34m\u001b[0m\u001b[0m\n\u001b[0;32m---> 68\u001b[0;31m         \u001b[0mcp\u001b[0m\u001b[0;34m.\u001b[0m\u001b[0mdump\u001b[0m\u001b[0;34m(\u001b[0m\u001b[0mobj\u001b[0m\u001b[0;34m)\u001b[0m\u001b[0;34m\u001b[0m\u001b[0;34m\u001b[0m\u001b[0m\n\u001b[0m\u001b[1;32m     69\u001b[0m         \u001b[0;32mreturn\u001b[0m \u001b[0mfile\u001b[0m\u001b[0;34m.\u001b[0m\u001b[0mgetvalue\u001b[0m\u001b[0;34m(\u001b[0m\u001b[0;34m)\u001b[0m\u001b[0;34m\u001b[0m\u001b[0;34m\u001b[0m\u001b[0m\n\u001b[1;32m     70\u001b[0m \u001b[0;34m\u001b[0m\u001b[0m\n",
      "\u001b[0;32m~/.conda/envs/venice/lib/python3.7/site-packages/ray/cloudpickle/cloudpickle_fast.py\u001b[0m in \u001b[0;36mdump\u001b[0;34m(self, obj)\u001b[0m\n\u001b[1;32m    555\u001b[0m     \u001b[0;32mdef\u001b[0m \u001b[0mdump\u001b[0m\u001b[0;34m(\u001b[0m\u001b[0mself\u001b[0m\u001b[0;34m,\u001b[0m \u001b[0mobj\u001b[0m\u001b[0;34m)\u001b[0m\u001b[0;34m:\u001b[0m\u001b[0;34m\u001b[0m\u001b[0;34m\u001b[0m\u001b[0m\n\u001b[1;32m    556\u001b[0m         \u001b[0;32mtry\u001b[0m\u001b[0;34m:\u001b[0m\u001b[0;34m\u001b[0m\u001b[0;34m\u001b[0m\u001b[0m\n\u001b[0;32m--> 557\u001b[0;31m             \u001b[0;32mreturn\u001b[0m \u001b[0mPickler\u001b[0m\u001b[0;34m.\u001b[0m\u001b[0mdump\u001b[0m\u001b[0;34m(\u001b[0m\u001b[0mself\u001b[0m\u001b[0;34m,\u001b[0m \u001b[0mobj\u001b[0m\u001b[0;34m)\u001b[0m\u001b[0;34m\u001b[0m\u001b[0;34m\u001b[0m\u001b[0m\n\u001b[0m\u001b[1;32m    558\u001b[0m         \u001b[0;32mexcept\u001b[0m \u001b[0mRuntimeError\u001b[0m \u001b[0;32mas\u001b[0m \u001b[0me\u001b[0m\u001b[0;34m:\u001b[0m\u001b[0;34m\u001b[0m\u001b[0;34m\u001b[0m\u001b[0m\n\u001b[1;32m    559\u001b[0m             \u001b[0;32mif\u001b[0m \u001b[0;34m\"recursion\"\u001b[0m \u001b[0;32min\u001b[0m \u001b[0me\u001b[0m\u001b[0;34m.\u001b[0m\u001b[0margs\u001b[0m\u001b[0;34m[\u001b[0m\u001b[0;36m0\u001b[0m\u001b[0;34m]\u001b[0m\u001b[0;34m:\u001b[0m\u001b[0;34m\u001b[0m\u001b[0;34m\u001b[0m\u001b[0m\n",
      "\u001b[0;31mKeyboardInterrupt\u001b[0m: "
     ]
    },
    {
     "name": "stderr",
     "output_type": "stream",
     "text": [
      "Exception ignored in: 'ray._raylet.prepare_args'\n",
      "Traceback (most recent call last):\n",
      "  File \"/home/raph/.conda/envs/venice/lib/python3.7/site-packages/ray/worker.py\", line 1493, in put\n",
      "    object_id = worker.put_object(value)\n",
      "  File \"/home/raph/.conda/envs/venice/lib/python3.7/site-packages/ray/worker.py\", line 277, in put_object\n",
      "    serialized_value = self.get_serialization_context().serialize(value)\n",
      "  File \"/home/raph/.conda/envs/venice/lib/python3.7/site-packages/ray/serialization.py\", line 485, in serialize\n",
      "    value, protocol=5, buffer_callback=writer.buffer_callback)\n",
      "  File \"/home/raph/.conda/envs/venice/lib/python3.7/site-packages/ray/cloudpickle/cloudpickle_fast.py\", line 68, in dumps\n",
      "    cp.dump(obj)\n",
      "  File \"/home/raph/.conda/envs/venice/lib/python3.7/site-packages/ray/cloudpickle/cloudpickle_fast.py\", line 557, in dump\n",
      "    return Pickler.dump(self, obj)\n",
      "KeyboardInterrupt: \n",
      "2020-04-28 16:34:52,667\tERROR worker.py:994 -- Possible unhandled error from worker: \u001b[36mray_worker\u001b[39m (pid=1594499, ip=192.168.0.115)\n",
      "  File \"python/ray/_raylet.pyx\", line 629, in ray._raylet.execute_task\n",
      "  File \"python/ray/_raylet.pyx\", line 630, in ray._raylet.execute_task\n",
      "  File \"python/ray/_raylet.pyx\", line 521, in ray._raylet.deserialize_args\n",
      "  File \"/home/raph/.conda/envs/venice/lib/python3.7/site-packages/ray/signature.py\", line 167, in recover_args\n",
      "    \"Flattened arguments need to be even-numbered. See `flatten_args`.\")\n",
      "AssertionError: Flattened arguments need to be even-numbered. See `flatten_args`.\n"
     ]
    }
   ],
   "source": [
    "futures = []\n",
    "unique_names = data_bottin['name'].unique()\n",
    "for idx1 in tqdm(range(len(unique_names))):\n",
    "#     for idx2 in range(idx1, len(unique_names)):\n",
    "#         name1 = unique_names[idx1]\n",
    "#         name2 = unique_names[idx2]\n",
    "    futures.append(compute_dist.remote(idx1, unique_names))"
   ]
  },
  {
   "cell_type": "code",
   "execution_count": null,
   "metadata": {},
   "outputs": [],
   "source": []
  },
  {
   "cell_type": "code",
   "execution_count": null,
   "metadata": {},
   "outputs": [],
   "source": []
  },
  {
   "cell_type": "code",
   "execution_count": null,
   "metadata": {},
   "outputs": [
    {
     "name": "stdout",
     "output_type": "stream",
     "text": [
      "(None,)\n",
      "(None,)\n",
      "(None,)\n",
      "(None,)\n",
      "(None,)\n",
      "(None,)\n",
      "(None,)\n",
      "(None,)\n",
      "(None,)\n",
      "(None,)\n",
      "(None,)\n",
      "(None,)\n",
      "(None,)\n",
      "(None,)\n",
      "(None,)\n",
      "(None,)\n",
      "(None,)\n",
      "(None,)\n",
      "(None,)\n",
      "(None,)\n",
      "(None,)\n",
      "(None,)\n",
      "(None,)\n",
      "(None,)\n",
      "(None,)\n",
      "(None,)\n",
      "(None,)\n",
      "(None,)\n",
      "(None,)\n",
      "(None,)\n",
      "(None,)\n",
      "(None,)\n",
      "(None,)\n",
      "(None,)\n",
      "(None,)\n",
      "(None,)\n",
      "(None,)\n",
      "(None,)\n",
      "(None,)\n",
      "(None,)\n",
      "(None,)\n",
      "(None,)\n",
      "(None,)\n",
      "(None,)\n",
      "(None,)\n",
      "(None,)\n",
      "(None,)\n",
      "(None,)\n",
      "(None,)\n",
      "(None,)\n",
      "(None,)\n",
      "(None,)\n",
      "(None,)\n",
      "(None,)\n",
      "(None,)\n",
      "(None,)\n",
      "(None,)\n",
      "(None,)\n",
      "(None,)\n",
      "(None,)\n",
      "(None,)\n",
      "(None,)\n",
      "(None,)\n",
      "(None,)\n",
      "(None,)\n",
      "(None,)\n",
      "(None,)\n",
      "(None,)\n",
      "(None,)\n",
      "(None,)\n",
      "(None,)\n",
      "(None,)\n",
      "(None,)\n",
      "(None,)\n",
      "(None,)\n",
      "(None,)\n",
      "(None,)\n",
      "(None,)\n",
      "(None,)\n",
      "(None,)\n",
      "(None,)\n",
      "(None,)\n",
      "(None,)\n",
      "(None,)\n",
      "(None,)\n",
      "(None,)\n",
      "(None,)\n",
      "(None,)\n",
      "(None,)\n",
      "(None,)\n",
      "(None,)\n",
      "(None,)\n",
      "(None,)\n",
      "(None,)\n",
      "(None,)\n",
      "(None,)\n",
      "(None,)\n",
      "(None,)\n",
      "(None,)\n",
      "(None,)\n",
      "(None,)\n",
      "(None,)\n",
      "(None,)\n",
      "(None,)\n",
      "(None,)\n",
      "(None,)\n",
      "(None,)\n",
      "(None,)\n",
      "(None,)\n",
      "(None,)\n",
      "(None,)\n",
      "(None,)\n",
      "(None,)\n",
      "(None,)\n",
      "(None,)\n",
      "(None,)\n",
      "(None,)\n",
      "(None,)\n",
      "(None,)\n",
      "(None,)\n",
      "(None,)\n",
      "(None,)\n",
      "(None,)\n",
      "(None,)\n",
      "(None,)\n",
      "(None,)\n",
      "(None,)\n",
      "(None,)\n",
      "(None,)\n",
      "(None,)\n",
      "(None,)\n",
      "(None,)\n",
      "(None,)\n",
      "(None,)\n",
      "(None,)\n",
      "(None,)\n",
      "(None,)\n",
      "(None,)\n",
      "(None,)\n",
      "(None,)\n",
      "(None,)\n",
      "(None,)\n",
      "(None,)\n",
      "(None,)\n",
      "(None,)\n",
      "(None,)\n",
      "(None,)\n",
      "(None,)\n",
      "(None,)\n",
      "(None,)\n",
      "(None,)\n",
      "(None,)\n",
      "(None,)\n",
      "(None,)\n",
      "(None,)\n",
      "(None,)\n",
      "(None,)\n",
      "(None,)\n",
      "(None,)\n",
      "(None,)\n",
      "(None,)\n",
      "(None,)\n",
      "(None,)\n",
      "(None,)\n",
      "(None,)\n",
      "(None,)\n",
      "(None,)\n",
      "(None,)\n",
      "(None,)\n",
      "(None,)\n",
      "(None,)\n",
      "(None,)\n",
      "(None,)\n",
      "(None,)\n",
      "(None,)\n",
      "(None,)\n",
      "(None,)\n",
      "(None,)\n",
      "(None,)\n",
      "(None,)\n",
      "(None,)\n",
      "(None,)\n",
      "(None,)\n",
      "(None,)\n",
      "(None,)\n",
      "(None,)\n",
      "(None,)\n"
     ]
    }
   ],
   "source": [
    "import multiprocessing\n",
    "\n",
    "ready_list = []\n",
    "def dummy_func(index):\n",
    "    global ready_list\n",
    "    ready_list.append(index)\n",
    "\n",
    "def worker(index):\n",
    "    return index\n",
    "\n",
    "def compute_dist(s1, s2, idx1, idx2, max_dist=4):\n",
    "    if abs(len(s1) - len(s2)) > max_dist:\n",
    "        return None\n",
    "    dist = levenshtein(name1, name2, max_dist)\n",
    "    if dist < max_dist:\n",
    "        return idx1, idx2, dist\n",
    "\n",
    "pool = multiprocessing.Pool(processes=16)\n",
    "result = {}\n",
    "\n",
    "for idx1 in range(len(unique_names)):\n",
    "    for idx2 in range(idx1, len(unique_names)):\n",
    "        name1 = unique_names[idx1]\n",
    "        name2 = unique_names[idx2]\n",
    "\n",
    "        result[(idx1, idx2)] = pool.apply_async(compute_dist, args=(name1, name2, idx1, idx2,), callback=dummy_func)\n",
    "        for ready in ready_list:\n",
    "            result[ready].wait()\n",
    "            del result[ready]\n",
    "        ready_list = []\n",
    "    \n",
    "pool.close()\n",
    "\n",
    "pool.join()"
   ]
  },
  {
   "cell_type": "code",
   "execution_count": 8,
   "metadata": {},
   "outputs": [
    {
     "data": {
      "application/vnd.jupyter.widget-view+json": {
       "model_id": "a83d58502dc14632a7971e21b4c5431f",
       "version_major": 2,
       "version_minor": 0
      },
      "text/plain": [
       "HBox(children=(FloatProgress(value=0.0, max=269593.0), HTML(value='')))"
      ]
     },
     "metadata": {},
     "output_type": "display_data"
    },
    {
     "name": "stdout",
     "output_type": "stream",
     "text": [
      "(None,)\n",
      "(None,)\n",
      "(None,)\n",
      "(None,)\n",
      "(None,)\n",
      "(None,)\n",
      "(None,)\n",
      "(None,)\n",
      "(None,)\n",
      "(None,)\n",
      "(None,)\n",
      "(None,)\n",
      "(None,)\n",
      "(None,)\n",
      "(None,)\n",
      "(None,)\n",
      "(None,)\n",
      "(None,)\n",
      "(None,)\n",
      "(None,)\n",
      "(None,)\n",
      "(None,)\n",
      "(None,)\n",
      "(None,)\n",
      "(None,)\n",
      "(None,)\n",
      "(None,)\n",
      "(None,)\n",
      "(None,)\n",
      "(None,)\n",
      "(None,)\n",
      "(None,)\n",
      "(None,)\n",
      "(None,)\n",
      "(None,)\n",
      "(None,)\n",
      "(None,)\n",
      "(None,)\n",
      "(None,)\n",
      "(None,)\n",
      "(None,)\n",
      "(None,)\n",
      "(None,)\n",
      "(None,)\n",
      "(None,)\n",
      "(None,)\n",
      "(None,)\n",
      "(None,)\n",
      "(None,)\n",
      "(None,)\n",
      "(None,)\n",
      "(None,)\n",
      "(None,)\n",
      "(None,)\n",
      "(None,)\n",
      "(None,)\n",
      "(None,)\n",
      "(None,)\n",
      "(None,)\n",
      "(None,)\n",
      "(None,)\n",
      "(None,)\n",
      "(None,)\n",
      "(None,)\n",
      "(None,)\n",
      "(None,)\n",
      "(None,)\n",
      "(None,)\n",
      "(None,)\n",
      "(None,)\n",
      "(None,)\n",
      "(None,)\n",
      "(None,)\n",
      "(None,)\n",
      "(None,)\n",
      "(None,)\n",
      "(None,)\n",
      "(None,)\n",
      "(None,)\n",
      "(None,)\n",
      "(None,)\n",
      "(None,)\n",
      "(None,)\n",
      "(None,)\n",
      "(None,)\n",
      "(None,)\n",
      "(None,)\n",
      "(None,)\n",
      "(None,)\n",
      "(None,)\n",
      "(None,)\n",
      "(None,)\n",
      "(None,)\n",
      "(None,)\n",
      "(None,)\n",
      "(None,)\n",
      "(None,)\n",
      "(None,)\n",
      "(None,)\n",
      "(None,)\n",
      "(None,)\n",
      "(None,)\n"
     ]
    },
    {
     "name": "stderr",
     "output_type": "stream",
     "text": [
      "Process ForkPoolWorker-23:\n"
     ]
    },
    {
     "name": "stdout",
     "output_type": "stream",
     "text": [
      "(None,)\n",
      "(None,)\n",
      "(None,)\n",
      "(None,)\n",
      "(None,)\n",
      "(None,)\n",
      "(None,)\n",
      "(None,)\n",
      "(None,)\n",
      "(None,)\n"
     ]
    },
    {
     "name": "stderr",
     "output_type": "stream",
     "text": [
      "Process ForkPoolWorker-21:\n",
      "Process ForkPoolWorker-20:\n",
      "Process ForkPoolWorker-17:\n",
      "Traceback (most recent call last):\n",
      "Process ForkPoolWorker-24:\n",
      "  File \"/home/raph/.conda/envs/venice/lib/python3.7/multiprocessing/process.py\", line 297, in _bootstrap\n",
      "    self.run()\n",
      "Process ForkPoolWorker-18:\n",
      "Traceback (most recent call last):\n",
      "Traceback (most recent call last):\n",
      "Process ForkPoolWorker-19:\n",
      "Process ForkPoolWorker-22:\n",
      "Traceback (most recent call last):\n",
      "  File \"/home/raph/.conda/envs/venice/lib/python3.7/multiprocessing/process.py\", line 297, in _bootstrap\n",
      "    self.run()\n",
      "  File \"/home/raph/.conda/envs/venice/lib/python3.7/multiprocessing/process.py\", line 297, in _bootstrap\n",
      "    self.run()\n",
      "  File \"/home/raph/.conda/envs/venice/lib/python3.7/multiprocessing/process.py\", line 297, in _bootstrap\n",
      "    self.run()\n",
      "Traceback (most recent call last):\n",
      "  File \"/home/raph/.conda/envs/venice/lib/python3.7/multiprocessing/process.py\", line 99, in run\n",
      "    self._target(*self._args, **self._kwargs)\n",
      "  File \"/home/raph/.conda/envs/venice/lib/python3.7/multiprocessing/process.py\", line 99, in run\n",
      "    self._target(*self._args, **self._kwargs)\n",
      "Traceback (most recent call last):\n",
      "  File \"/home/raph/.conda/envs/venice/lib/python3.7/multiprocessing/process.py\", line 99, in run\n",
      "    self._target(*self._args, **self._kwargs)\n",
      "Traceback (most recent call last):\n",
      "  File \"/home/raph/.conda/envs/venice/lib/python3.7/multiprocessing/process.py\", line 297, in _bootstrap\n",
      "    self.run()\n",
      "  File \"/home/raph/.conda/envs/venice/lib/python3.7/multiprocessing/pool.py\", line 127, in worker\n",
      "    put((job, i, result))\n",
      "  File \"/home/raph/.conda/envs/venice/lib/python3.7/multiprocessing/process.py\", line 99, in run\n",
      "    self._target(*self._args, **self._kwargs)\n",
      "Traceback (most recent call last):\n",
      "  File \"/home/raph/.conda/envs/venice/lib/python3.7/multiprocessing/pool.py\", line 127, in worker\n",
      "    put((job, i, result))\n",
      "  File \"/home/raph/.conda/envs/venice/lib/python3.7/multiprocessing/process.py\", line 297, in _bootstrap\n",
      "    self.run()\n",
      "  File \"/home/raph/.conda/envs/venice/lib/python3.7/multiprocessing/process.py\", line 297, in _bootstrap\n",
      "    self.run()\n",
      "  File \"/home/raph/.conda/envs/venice/lib/python3.7/multiprocessing/queues.py\", line 364, in put\n",
      "    self._writer.send_bytes(obj)\n",
      "  File \"/home/raph/.conda/envs/venice/lib/python3.7/multiprocessing/pool.py\", line 127, in worker\n",
      "    put((job, i, result))\n",
      "KeyboardInterrupt\n",
      "  File \"/home/raph/.conda/envs/venice/lib/python3.7/multiprocessing/process.py\", line 297, in _bootstrap\n",
      "    self.run()\n",
      "  File \"/home/raph/.conda/envs/venice/lib/python3.7/multiprocessing/queues.py\", line 363, in put\n",
      "    with self._wlock:\n",
      "  File \"/home/raph/.conda/envs/venice/lib/python3.7/multiprocessing/process.py\", line 99, in run\n",
      "    self._target(*self._args, **self._kwargs)\n",
      "  File \"/home/raph/.conda/envs/venice/lib/python3.7/multiprocessing/queues.py\", line 363, in put\n",
      "    with self._wlock:\n",
      "  File \"/home/raph/.conda/envs/venice/lib/python3.7/multiprocessing/process.py\", line 99, in run\n",
      "    self._target(*self._args, **self._kwargs)\n",
      "  File \"/home/raph/.conda/envs/venice/lib/python3.7/multiprocessing/pool.py\", line 127, in worker\n",
      "    put((job, i, result))\n",
      "  File \"/home/raph/.conda/envs/venice/lib/python3.7/multiprocessing/synchronize.py\", line 95, in __enter__\n",
      "    return self._semlock.__enter__()\n",
      "  File \"/home/raph/.conda/envs/venice/lib/python3.7/multiprocessing/synchronize.py\", line 95, in __enter__\n",
      "    return self._semlock.__enter__()\n",
      "  File \"/home/raph/.conda/envs/venice/lib/python3.7/multiprocessing/pool.py\", line 127, in worker\n",
      "    put((job, i, result))\n",
      "KeyboardInterrupt\n",
      "  File \"/home/raph/.conda/envs/venice/lib/python3.7/multiprocessing/process.py\", line 99, in run\n",
      "    self._target(*self._args, **self._kwargs)\n",
      "  File \"/home/raph/.conda/envs/venice/lib/python3.7/multiprocessing/queues.py\", line 363, in put\n",
      "    with self._wlock:\n"
     ]
    },
    {
     "name": "stdout",
     "output_type": "stream",
     "text": [
      "(None,)\n",
      "(None,)\n",
      "(None,)\n",
      "(None,)\n",
      "(None,)\n",
      "(None,)\n",
      "(None,)\n",
      "(None,)\n",
      "(None,)\n",
      "(None,)\n",
      "(None,)\n",
      "(None,)\n",
      "(None,)\n",
      "(None,)\n",
      "(None,)\n",
      "(None,)\n",
      "(None,)\n",
      "(None,)\n",
      "(None,)\n",
      "(None,)\n",
      "(None,)\n",
      "(None,)\n",
      "(None,)\n",
      "(None,)\n",
      "(None,)\n",
      "(None,)\n",
      "(None,)\n",
      "(None,)\n",
      "(None,)\n",
      "(None,)\n",
      "(None,)\n",
      "(None,)\n",
      "(None,)\n",
      "(None,)\n",
      "(None,)\n",
      "(None,)\n",
      "(None,)\n",
      "(None,)\n",
      "(None,)\n",
      "(None,)\n",
      "(None,)\n",
      "(None,)\n",
      "(None,)\n",
      "(None,)\n",
      "(None,)\n",
      "(None,)\n",
      "(None,)\n",
      "(None,)\n",
      "(None,)\n",
      "(None,)\n",
      "(None,)\n",
      "(None,)\n",
      "(None,)\n",
      "(None,)\n",
      "(None,)\n",
      "(None,)\n",
      "(None,)\n",
      "(None,)\n",
      "(None,)\n",
      "(None,)\n",
      "(None,)\n",
      "(None,)\n",
      "(None,)\n",
      "(None,)\n",
      "(None,)\n",
      "(None,)\n",
      "(None,)\n",
      "(None,)\n",
      "(None,)\n",
      "(None,)\n",
      "(None,)\n",
      "(None,)\n",
      "(None,)\n",
      "(None,)\n",
      "(None,)\n",
      "(None,)\n",
      "(None,)\n",
      "(None,)\n",
      "(None,)\n",
      "(None,)\n",
      "(None,)\n",
      "(None,)\n",
      "(None,)\n",
      "(None,)\n",
      "(None,)\n",
      "(None,)\n",
      "(None,)\n",
      "(None,)\n",
      "(None,)\n",
      "(None,)\n",
      "(None,)\n",
      "(None,)\n",
      "(None,)\n",
      "(None,)\n",
      "(None,)\n",
      "(None,)\n",
      "(None,)\n",
      "(None,)\n",
      "(None,)\n",
      "(None,)\n",
      "(None,)\n",
      "(None,)\n",
      "(None,)\n",
      "(None,)\n",
      "(None,)\n",
      "(None,)\n",
      "(None,)\n",
      "(None,)\n",
      "(None,)\n"
     ]
    },
    {
     "name": "stderr",
     "output_type": "stream",
     "text": [
      "  File \"/home/raph/.conda/envs/venice/lib/python3.7/multiprocessing/pool.py\", line 127, in worker\n",
      "    put((job, i, result))\n",
      "KeyboardInterrupt\n",
      "  File \"/home/raph/.conda/envs/venice/lib/python3.7/multiprocessing/process.py\", line 99, in run\n",
      "    self._target(*self._args, **self._kwargs)\n",
      "  File \"/home/raph/.conda/envs/venice/lib/python3.7/multiprocessing/synchronize.py\", line 95, in __enter__\n",
      "    return self._semlock.__enter__()\n",
      "  File \"/home/raph/.conda/envs/venice/lib/python3.7/multiprocessing/queues.py\", line 363, in put\n",
      "    with self._wlock:\n",
      "  File \"/home/raph/.conda/envs/venice/lib/python3.7/multiprocessing/synchronize.py\", line 95, in __enter__\n",
      "    return self._semlock.__enter__()\n",
      "  File \"/home/raph/.conda/envs/venice/lib/python3.7/multiprocessing/queues.py\", line 363, in put\n",
      "    with self._wlock:\n",
      "  File \"/home/raph/.conda/envs/venice/lib/python3.7/multiprocessing/synchronize.py\", line 95, in __enter__\n",
      "    return self._semlock.__enter__()\n",
      "  File \"/home/raph/.conda/envs/venice/lib/python3.7/multiprocessing/pool.py\", line 127, in worker\n",
      "    put((job, i, result))\n",
      "  File \"/home/raph/.conda/envs/venice/lib/python3.7/multiprocessing/queues.py\", line 363, in put\n",
      "    with self._wlock:\n",
      "  File \"/home/raph/.conda/envs/venice/lib/python3.7/multiprocessing/connection.py\", line 200, in send_bytes\n",
      "    self._send_bytes(m[offset:offset + size])\n",
      "  File \"/home/raph/.conda/envs/venice/lib/python3.7/multiprocessing/pool.py\", line 127, in worker\n",
      "    put((job, i, result))\n",
      "KeyboardInterrupt\n"
     ]
    },
    {
     "ename": "KeyboardInterrupt",
     "evalue": "",
     "output_type": "error",
     "traceback": [
      "\u001b[0;31m---------------------------------------------------------------------------\u001b[0m",
      "\u001b[0;31mKeyboardInterrupt\u001b[0m                         Traceback (most recent call last)",
      "\u001b[0;32m<ipython-input-8-fb70c94ac8d1>\u001b[0m in \u001b[0;36m<module>\u001b[0;34m\u001b[0m\n\u001b[1;32m     31\u001b[0m         \u001b[0mname1\u001b[0m \u001b[0;34m=\u001b[0m \u001b[0munique_names\u001b[0m\u001b[0;34m[\u001b[0m\u001b[0midx1\u001b[0m\u001b[0;34m]\u001b[0m\u001b[0;34m\u001b[0m\u001b[0;34m\u001b[0m\u001b[0m\n\u001b[1;32m     32\u001b[0m         \u001b[0mname2\u001b[0m \u001b[0;34m=\u001b[0m \u001b[0munique_names\u001b[0m\u001b[0;34m[\u001b[0m\u001b[0midx2\u001b[0m\u001b[0;34m]\u001b[0m\u001b[0;34m\u001b[0m\u001b[0;34m\u001b[0m\u001b[0m\n\u001b[0;32m---> 33\u001b[0;31m         \u001b[0mpool\u001b[0m\u001b[0;34m.\u001b[0m\u001b[0mapply_async\u001b[0m\u001b[0;34m(\u001b[0m\u001b[0mcompute_dist\u001b[0m\u001b[0;34m,\u001b[0m \u001b[0margs\u001b[0m\u001b[0;34m=\u001b[0m\u001b[0;34m(\u001b[0m\u001b[0mname1\u001b[0m\u001b[0;34m,\u001b[0m \u001b[0mname2\u001b[0m\u001b[0;34m,\u001b[0m \u001b[0midx1\u001b[0m\u001b[0;34m,\u001b[0m \u001b[0midx2\u001b[0m\u001b[0;34m,\u001b[0m\u001b[0;34m)\u001b[0m\u001b[0;34m,\u001b[0m \u001b[0mcallback\u001b[0m\u001b[0;34m=\u001b[0m\u001b[0mupdate\u001b[0m\u001b[0;34m)\u001b[0m\u001b[0;34m\u001b[0m\u001b[0;34m\u001b[0m\u001b[0m\n\u001b[0m\u001b[1;32m     34\u001b[0m \u001b[0mpool\u001b[0m\u001b[0;34m.\u001b[0m\u001b[0mclose\u001b[0m\u001b[0;34m(\u001b[0m\u001b[0;34m)\u001b[0m\u001b[0;34m\u001b[0m\u001b[0;34m\u001b[0m\u001b[0m\n\u001b[1;32m     35\u001b[0m \u001b[0mpool\u001b[0m\u001b[0;34m.\u001b[0m\u001b[0mjoin\u001b[0m\u001b[0;34m(\u001b[0m\u001b[0;34m)\u001b[0m\u001b[0;34m\u001b[0m\u001b[0;34m\u001b[0m\u001b[0m\n",
      "\u001b[0;32m~/.conda/envs/venice/lib/python3.7/multiprocessing/pool.py\u001b[0m in \u001b[0;36mapply_async\u001b[0;34m(self, func, args, kwds, callback, error_callback)\u001b[0m\n\u001b[1;32m    361\u001b[0m         \u001b[0;32mif\u001b[0m \u001b[0mself\u001b[0m\u001b[0;34m.\u001b[0m\u001b[0m_state\u001b[0m \u001b[0;34m!=\u001b[0m \u001b[0mRUN\u001b[0m\u001b[0;34m:\u001b[0m\u001b[0;34m\u001b[0m\u001b[0;34m\u001b[0m\u001b[0m\n\u001b[1;32m    362\u001b[0m             \u001b[0;32mraise\u001b[0m \u001b[0mValueError\u001b[0m\u001b[0;34m(\u001b[0m\u001b[0;34m\"Pool not running\"\u001b[0m\u001b[0;34m)\u001b[0m\u001b[0;34m\u001b[0m\u001b[0;34m\u001b[0m\u001b[0m\n\u001b[0;32m--> 363\u001b[0;31m         \u001b[0mresult\u001b[0m \u001b[0;34m=\u001b[0m \u001b[0mApplyResult\u001b[0m\u001b[0;34m(\u001b[0m\u001b[0mself\u001b[0m\u001b[0;34m.\u001b[0m\u001b[0m_cache\u001b[0m\u001b[0;34m,\u001b[0m \u001b[0mcallback\u001b[0m\u001b[0;34m,\u001b[0m \u001b[0merror_callback\u001b[0m\u001b[0;34m)\u001b[0m\u001b[0;34m\u001b[0m\u001b[0;34m\u001b[0m\u001b[0m\n\u001b[0m\u001b[1;32m    364\u001b[0m         \u001b[0mself\u001b[0m\u001b[0;34m.\u001b[0m\u001b[0m_taskqueue\u001b[0m\u001b[0;34m.\u001b[0m\u001b[0mput\u001b[0m\u001b[0;34m(\u001b[0m\u001b[0;34m(\u001b[0m\u001b[0;34m[\u001b[0m\u001b[0;34m(\u001b[0m\u001b[0mresult\u001b[0m\u001b[0;34m.\u001b[0m\u001b[0m_job\u001b[0m\u001b[0;34m,\u001b[0m \u001b[0;36m0\u001b[0m\u001b[0;34m,\u001b[0m \u001b[0mfunc\u001b[0m\u001b[0;34m,\u001b[0m \u001b[0margs\u001b[0m\u001b[0;34m,\u001b[0m \u001b[0mkwds\u001b[0m\u001b[0;34m)\u001b[0m\u001b[0;34m]\u001b[0m\u001b[0;34m,\u001b[0m \u001b[0;32mNone\u001b[0m\u001b[0;34m)\u001b[0m\u001b[0;34m)\u001b[0m\u001b[0;34m\u001b[0m\u001b[0;34m\u001b[0m\u001b[0m\n\u001b[1;32m    365\u001b[0m         \u001b[0;32mreturn\u001b[0m \u001b[0mresult\u001b[0m\u001b[0;34m\u001b[0m\u001b[0;34m\u001b[0m\u001b[0m\n",
      "\u001b[0;32m~/.conda/envs/venice/lib/python3.7/multiprocessing/pool.py\u001b[0m in \u001b[0;36m__init__\u001b[0;34m(self, cache, callback, error_callback)\u001b[0m\n\u001b[1;32m    630\u001b[0m \u001b[0;34m\u001b[0m\u001b[0m\n\u001b[1;32m    631\u001b[0m     \u001b[0;32mdef\u001b[0m \u001b[0m__init__\u001b[0m\u001b[0;34m(\u001b[0m\u001b[0mself\u001b[0m\u001b[0;34m,\u001b[0m \u001b[0mcache\u001b[0m\u001b[0;34m,\u001b[0m \u001b[0mcallback\u001b[0m\u001b[0;34m,\u001b[0m \u001b[0merror_callback\u001b[0m\u001b[0;34m)\u001b[0m\u001b[0;34m:\u001b[0m\u001b[0;34m\u001b[0m\u001b[0;34m\u001b[0m\u001b[0m\n\u001b[0;32m--> 632\u001b[0;31m         \u001b[0mself\u001b[0m\u001b[0;34m.\u001b[0m\u001b[0m_event\u001b[0m \u001b[0;34m=\u001b[0m \u001b[0mthreading\u001b[0m\u001b[0;34m.\u001b[0m\u001b[0mEvent\u001b[0m\u001b[0;34m(\u001b[0m\u001b[0;34m)\u001b[0m\u001b[0;34m\u001b[0m\u001b[0;34m\u001b[0m\u001b[0m\n\u001b[0m\u001b[1;32m    633\u001b[0m         \u001b[0mself\u001b[0m\u001b[0;34m.\u001b[0m\u001b[0m_job\u001b[0m \u001b[0;34m=\u001b[0m \u001b[0mnext\u001b[0m\u001b[0;34m(\u001b[0m\u001b[0mjob_counter\u001b[0m\u001b[0;34m)\u001b[0m\u001b[0;34m\u001b[0m\u001b[0;34m\u001b[0m\u001b[0m\n\u001b[1;32m    634\u001b[0m         \u001b[0mself\u001b[0m\u001b[0;34m.\u001b[0m\u001b[0m_cache\u001b[0m \u001b[0;34m=\u001b[0m \u001b[0mcache\u001b[0m\u001b[0;34m\u001b[0m\u001b[0;34m\u001b[0m\u001b[0m\n",
      "\u001b[0;32m~/.conda/envs/venice/lib/python3.7/threading.py\u001b[0m in \u001b[0;36m__init__\u001b[0;34m(self)\u001b[0m\n\u001b[1;32m    498\u001b[0m \u001b[0;34m\u001b[0m\u001b[0m\n\u001b[1;32m    499\u001b[0m     \u001b[0;32mdef\u001b[0m \u001b[0m__init__\u001b[0m\u001b[0;34m(\u001b[0m\u001b[0mself\u001b[0m\u001b[0;34m)\u001b[0m\u001b[0;34m:\u001b[0m\u001b[0;34m\u001b[0m\u001b[0;34m\u001b[0m\u001b[0m\n\u001b[0;32m--> 500\u001b[0;31m         \u001b[0mself\u001b[0m\u001b[0;34m.\u001b[0m\u001b[0m_cond\u001b[0m \u001b[0;34m=\u001b[0m \u001b[0mCondition\u001b[0m\u001b[0;34m(\u001b[0m\u001b[0mLock\u001b[0m\u001b[0;34m(\u001b[0m\u001b[0;34m)\u001b[0m\u001b[0;34m)\u001b[0m\u001b[0;34m\u001b[0m\u001b[0;34m\u001b[0m\u001b[0m\n\u001b[0m\u001b[1;32m    501\u001b[0m         \u001b[0mself\u001b[0m\u001b[0;34m.\u001b[0m\u001b[0m_flag\u001b[0m \u001b[0;34m=\u001b[0m \u001b[0;32mFalse\u001b[0m\u001b[0;34m\u001b[0m\u001b[0;34m\u001b[0m\u001b[0m\n\u001b[1;32m    502\u001b[0m \u001b[0;34m\u001b[0m\u001b[0m\n",
      "\u001b[0;32m~/.conda/envs/venice/lib/python3.7/threading.py\u001b[0m in \u001b[0;36m__init__\u001b[0;34m(self, lock)\u001b[0m\n\u001b[1;32m    227\u001b[0m             \u001b[0mself\u001b[0m\u001b[0;34m.\u001b[0m\u001b[0m_release_save\u001b[0m \u001b[0;34m=\u001b[0m \u001b[0mlock\u001b[0m\u001b[0;34m.\u001b[0m\u001b[0m_release_save\u001b[0m\u001b[0;34m\u001b[0m\u001b[0;34m\u001b[0m\u001b[0m\n\u001b[1;32m    228\u001b[0m         \u001b[0;32mexcept\u001b[0m \u001b[0mAttributeError\u001b[0m\u001b[0;34m:\u001b[0m\u001b[0;34m\u001b[0m\u001b[0;34m\u001b[0m\u001b[0m\n\u001b[0;32m--> 229\u001b[0;31m             \u001b[0;32mpass\u001b[0m\u001b[0;34m\u001b[0m\u001b[0;34m\u001b[0m\u001b[0m\n\u001b[0m\u001b[1;32m    230\u001b[0m         \u001b[0;32mtry\u001b[0m\u001b[0;34m:\u001b[0m\u001b[0;34m\u001b[0m\u001b[0;34m\u001b[0m\u001b[0m\n\u001b[1;32m    231\u001b[0m             \u001b[0mself\u001b[0m\u001b[0;34m.\u001b[0m\u001b[0m_acquire_restore\u001b[0m \u001b[0;34m=\u001b[0m \u001b[0mlock\u001b[0m\u001b[0;34m.\u001b[0m\u001b[0m_acquire_restore\u001b[0m\u001b[0;34m\u001b[0m\u001b[0;34m\u001b[0m\u001b[0m\n",
      "\u001b[0;31mKeyboardInterrupt\u001b[0m: "
     ]
    },
    {
     "name": "stderr",
     "output_type": "stream",
     "text": [
      "KeyboardInterrupt\n",
      "  File \"/home/raph/.conda/envs/venice/lib/python3.7/multiprocessing/synchronize.py\", line 95, in __enter__\n",
      "    return self._semlock.__enter__()\n",
      "  File \"/home/raph/.conda/envs/venice/lib/python3.7/multiprocessing/queues.py\", line 363, in put\n",
      "    with self._wlock:\n",
      "  File \"/home/raph/.conda/envs/venice/lib/python3.7/multiprocessing/connection.py\", line 404, in _send_bytes\n",
      "    self._send(header + buf)\n",
      "KeyboardInterrupt\n",
      "  File \"/home/raph/.conda/envs/venice/lib/python3.7/multiprocessing/synchronize.py\", line 95, in __enter__\n",
      "    return self._semlock.__enter__()\n",
      "  File \"/home/raph/.conda/envs/venice/lib/python3.7/multiprocessing/connection.py\", line 368, in _send\n",
      "    n = write(self._handle, buf)\n",
      "KeyboardInterrupt\n",
      "KeyboardInterrupt\n"
     ]
    }
   ],
   "source": [
    "from multiprocessing import Process, Value, Array\n",
    "\n",
    "import edlib\n",
    "from polyleven import levenshtein\n",
    "\n",
    "unique_names = data_bottin['name'].unique()\n",
    "\n",
    "# # Création d'une pool avec 16 process\n",
    "pool = mp.Pool(8)\n",
    "# # Création d'une barre de chargement et d'une fonction pour la mettre à jour.\n",
    "pbar = tqdm(total=len(unique_names))\n",
    "results = []\n",
    "\n",
    "def update(*a):\n",
    "    if a[0] is not None:\n",
    "        results.append(a[0])\n",
    "    pbar.update()\n",
    "\n",
    "    \n",
    "# def compute_dist(s1, s2, idx1, idx2, max_dist=4):\n",
    "#     if abs(len(s1) - len(s2)) > max_dist:\n",
    "#         return None\n",
    "#     dist = levenshtein(name1, name2, max_dist)\n",
    "#     if dist < max_dist:\n",
    "#         return idx1, idx2, dist\n",
    "# Récupération de tous les résultats en parallèle\n",
    "# results = []\n",
    "for idx1 in range(len(unique_names)):\n",
    "    for idx2 in range(idx1, len(unique_names)):\n",
    "        name1 = unique_names[idx1]\n",
    "        name2 = unique_names[idx2]\n",
    "        pool.apply_async(compute_dist, args=(name1, name2, idx1, idx2,), callback=update)\n",
    "pool.close()\n",
    "pool.join()"
   ]
  },
  {
   "cell_type": "code",
   "execution_count": 7,
   "metadata": {},
   "outputs": [
    {
     "data": {
      "text/plain": [
       "[]"
      ]
     },
     "execution_count": 7,
     "metadata": {},
     "output_type": "execute_result"
    }
   ],
   "source": [
    "results"
   ]
  },
  {
   "cell_type": "code",
   "execution_count": null,
   "metadata": {},
   "outputs": [],
   "source": []
  },
  {
   "cell_type": "code",
   "execution_count": 6,
   "metadata": {},
   "outputs": [],
   "source": [
    "from dist import compute_dist"
   ]
  },
  {
   "cell_type": "code",
   "execution_count": 7,
   "metadata": {},
   "outputs": [
    {
     "data": {
      "application/vnd.jupyter.widget-view+json": {
       "model_id": "7c8c2c48b19e417984876d304d790780",
       "version_major": 2,
       "version_minor": 0
      },
      "text/plain": [
       "HBox(children=(FloatProgress(value=0.0, max=269593.0), HTML(value='')))"
      ]
     },
     "metadata": {},
     "output_type": "display_data"
    },
    {
     "name": "stderr",
     "output_type": "stream",
     "text": [
      "Process ForkPoolWorker-26:\n",
      "Process ForkPoolWorker-31:\n",
      "Process ForkPoolWorker-27:\n",
      "Process ForkPoolWorker-28:\n",
      "Process ForkPoolWorker-30:\n",
      "Process ForkPoolWorker-25:\n",
      "Process ForkPoolWorker-32:\n",
      "Traceback (most recent call last):\n",
      "Traceback (most recent call last):\n",
      "Traceback (most recent call last):\n",
      "  File \"/home/raph/.conda/envs/venice/lib/python3.7/multiprocessing/process.py\", line 297, in _bootstrap\n",
      "    self.run()\n"
     ]
    },
    {
     "ename": "KeyboardInterrupt",
     "evalue": "",
     "output_type": "error",
     "traceback": [
      "\u001b[0;31m---------------------------------------------------------------------------\u001b[0m",
      "\u001b[0;31mKeyboardInterrupt\u001b[0m                         Traceback (most recent call last)",
      "\u001b[0;32m<ipython-input-7-89fef713b838>\u001b[0m in \u001b[0;36m<module>\u001b[0;34m\u001b[0m\n\u001b[1;32m     32\u001b[0m     \u001b[0mpool\u001b[0m\u001b[0;34m.\u001b[0m\u001b[0mapply_async\u001b[0m\u001b[0;34m(\u001b[0m\u001b[0mcompute_dist\u001b[0m\u001b[0;34m,\u001b[0m \u001b[0margs\u001b[0m\u001b[0;34m=\u001b[0m\u001b[0;34m(\u001b[0m\u001b[0midx1\u001b[0m\u001b[0;34m,\u001b[0m\u001b[0munique_names\u001b[0m\u001b[0;34m)\u001b[0m\u001b[0;34m,\u001b[0m \u001b[0mcallback\u001b[0m\u001b[0;34m=\u001b[0m\u001b[0mupdate\u001b[0m\u001b[0;34m)\u001b[0m\u001b[0;34m\u001b[0m\u001b[0;34m\u001b[0m\u001b[0m\n\u001b[1;32m     33\u001b[0m \u001b[0mpool\u001b[0m\u001b[0;34m.\u001b[0m\u001b[0mclose\u001b[0m\u001b[0;34m(\u001b[0m\u001b[0;34m)\u001b[0m\u001b[0;34m\u001b[0m\u001b[0;34m\u001b[0m\u001b[0m\n\u001b[0;32m---> 34\u001b[0;31m \u001b[0mpool\u001b[0m\u001b[0;34m.\u001b[0m\u001b[0mjoin\u001b[0m\u001b[0;34m(\u001b[0m\u001b[0;34m)\u001b[0m\u001b[0;34m\u001b[0m\u001b[0;34m\u001b[0m\u001b[0m\n\u001b[0m",
      "\u001b[0;32m~/.conda/envs/venice/lib/python3.7/multiprocessing/pool.py\u001b[0m in \u001b[0;36mjoin\u001b[0;34m(self)\u001b[0m\n\u001b[1;32m    554\u001b[0m         \u001b[0;32melif\u001b[0m \u001b[0mself\u001b[0m\u001b[0;34m.\u001b[0m\u001b[0m_state\u001b[0m \u001b[0;32mnot\u001b[0m \u001b[0;32min\u001b[0m \u001b[0;34m(\u001b[0m\u001b[0mCLOSE\u001b[0m\u001b[0;34m,\u001b[0m \u001b[0mTERMINATE\u001b[0m\u001b[0;34m)\u001b[0m\u001b[0;34m:\u001b[0m\u001b[0;34m\u001b[0m\u001b[0;34m\u001b[0m\u001b[0m\n\u001b[1;32m    555\u001b[0m             \u001b[0;32mraise\u001b[0m \u001b[0mValueError\u001b[0m\u001b[0;34m(\u001b[0m\u001b[0;34m\"In unknown state\"\u001b[0m\u001b[0;34m)\u001b[0m\u001b[0;34m\u001b[0m\u001b[0;34m\u001b[0m\u001b[0m\n\u001b[0;32m--> 556\u001b[0;31m         \u001b[0mself\u001b[0m\u001b[0;34m.\u001b[0m\u001b[0m_worker_handler\u001b[0m\u001b[0;34m.\u001b[0m\u001b[0mjoin\u001b[0m\u001b[0;34m(\u001b[0m\u001b[0;34m)\u001b[0m\u001b[0;34m\u001b[0m\u001b[0;34m\u001b[0m\u001b[0m\n\u001b[0m\u001b[1;32m    557\u001b[0m         \u001b[0mself\u001b[0m\u001b[0;34m.\u001b[0m\u001b[0m_task_handler\u001b[0m\u001b[0;34m.\u001b[0m\u001b[0mjoin\u001b[0m\u001b[0;34m(\u001b[0m\u001b[0;34m)\u001b[0m\u001b[0;34m\u001b[0m\u001b[0;34m\u001b[0m\u001b[0m\n\u001b[1;32m    558\u001b[0m         \u001b[0mself\u001b[0m\u001b[0;34m.\u001b[0m\u001b[0m_result_handler\u001b[0m\u001b[0;34m.\u001b[0m\u001b[0mjoin\u001b[0m\u001b[0;34m(\u001b[0m\u001b[0;34m)\u001b[0m\u001b[0;34m\u001b[0m\u001b[0;34m\u001b[0m\u001b[0m\n",
      "\u001b[0;32m~/.conda/envs/venice/lib/python3.7/threading.py\u001b[0m in \u001b[0;36mjoin\u001b[0;34m(self, timeout)\u001b[0m\n\u001b[1;32m   1042\u001b[0m \u001b[0;34m\u001b[0m\u001b[0m\n\u001b[1;32m   1043\u001b[0m         \u001b[0;32mif\u001b[0m \u001b[0mtimeout\u001b[0m \u001b[0;32mis\u001b[0m \u001b[0;32mNone\u001b[0m\u001b[0;34m:\u001b[0m\u001b[0;34m\u001b[0m\u001b[0;34m\u001b[0m\u001b[0m\n\u001b[0;32m-> 1044\u001b[0;31m             \u001b[0mself\u001b[0m\u001b[0;34m.\u001b[0m\u001b[0m_wait_for_tstate_lock\u001b[0m\u001b[0;34m(\u001b[0m\u001b[0;34m)\u001b[0m\u001b[0;34m\u001b[0m\u001b[0;34m\u001b[0m\u001b[0m\n\u001b[0m\u001b[1;32m   1045\u001b[0m         \u001b[0;32melse\u001b[0m\u001b[0;34m:\u001b[0m\u001b[0;34m\u001b[0m\u001b[0;34m\u001b[0m\u001b[0m\n\u001b[1;32m   1046\u001b[0m             \u001b[0;31m# the behavior of a negative timeout isn't documented, but\u001b[0m\u001b[0;34m\u001b[0m\u001b[0;34m\u001b[0m\u001b[0;34m\u001b[0m\u001b[0m\n",
      "\u001b[0;32m~/.conda/envs/venice/lib/python3.7/threading.py\u001b[0m in \u001b[0;36m_wait_for_tstate_lock\u001b[0;34m(self, block, timeout)\u001b[0m\n\u001b[1;32m   1058\u001b[0m         \u001b[0;32mif\u001b[0m \u001b[0mlock\u001b[0m \u001b[0;32mis\u001b[0m \u001b[0;32mNone\u001b[0m\u001b[0;34m:\u001b[0m  \u001b[0;31m# already determined that the C code is done\u001b[0m\u001b[0;34m\u001b[0m\u001b[0;34m\u001b[0m\u001b[0m\n\u001b[1;32m   1059\u001b[0m             \u001b[0;32massert\u001b[0m \u001b[0mself\u001b[0m\u001b[0;34m.\u001b[0m\u001b[0m_is_stopped\u001b[0m\u001b[0;34m\u001b[0m\u001b[0;34m\u001b[0m\u001b[0m\n\u001b[0;32m-> 1060\u001b[0;31m         \u001b[0;32melif\u001b[0m \u001b[0mlock\u001b[0m\u001b[0;34m.\u001b[0m\u001b[0macquire\u001b[0m\u001b[0;34m(\u001b[0m\u001b[0mblock\u001b[0m\u001b[0;34m,\u001b[0m \u001b[0mtimeout\u001b[0m\u001b[0;34m)\u001b[0m\u001b[0;34m:\u001b[0m\u001b[0;34m\u001b[0m\u001b[0;34m\u001b[0m\u001b[0m\n\u001b[0m\u001b[1;32m   1061\u001b[0m             \u001b[0mlock\u001b[0m\u001b[0;34m.\u001b[0m\u001b[0mrelease\u001b[0m\u001b[0;34m(\u001b[0m\u001b[0;34m)\u001b[0m\u001b[0;34m\u001b[0m\u001b[0;34m\u001b[0m\u001b[0m\n\u001b[1;32m   1062\u001b[0m             \u001b[0mself\u001b[0m\u001b[0;34m.\u001b[0m\u001b[0m_stop\u001b[0m\u001b[0;34m(\u001b[0m\u001b[0;34m)\u001b[0m\u001b[0;34m\u001b[0m\u001b[0;34m\u001b[0m\u001b[0m\n",
      "\u001b[0;31mKeyboardInterrupt\u001b[0m: "
     ]
    },
    {
     "name": "stderr",
     "output_type": "stream",
     "text": [
      "  File \"/home/raph/.conda/envs/venice/lib/python3.7/multiprocessing/process.py\", line 297, in _bootstrap\n",
      "    self.run()\n",
      "Traceback (most recent call last):\n",
      "Traceback (most recent call last):\n",
      "  File \"/home/raph/.conda/envs/venice/lib/python3.7/multiprocessing/process.py\", line 99, in run\n",
      "    self._target(*self._args, **self._kwargs)\n",
      "  File \"/home/raph/.conda/envs/venice/lib/python3.7/multiprocessing/process.py\", line 99, in run\n",
      "    self._target(*self._args, **self._kwargs)\n",
      "Traceback (most recent call last):\n",
      "  File \"/home/raph/.conda/envs/venice/lib/python3.7/multiprocessing/process.py\", line 297, in _bootstrap\n",
      "    self.run()\n",
      "  File \"/home/raph/.conda/envs/venice/lib/python3.7/multiprocessing/process.py\", line 297, in _bootstrap\n",
      "    self.run()\n",
      "  File \"/home/raph/.conda/envs/venice/lib/python3.7/multiprocessing/pool.py\", line 110, in worker\n",
      "    task = get()\n",
      "  File \"/home/raph/.conda/envs/venice/lib/python3.7/multiprocessing/process.py\", line 99, in run\n",
      "    self._target(*self._args, **self._kwargs)\n",
      "  File \"/home/raph/.conda/envs/venice/lib/python3.7/multiprocessing/queues.py\", line 351, in get\n",
      "    with self._rlock:\n",
      "  File \"/home/raph/.conda/envs/venice/lib/python3.7/multiprocessing/process.py\", line 99, in run\n",
      "    self._target(*self._args, **self._kwargs)\n",
      "  File \"/home/raph/.conda/envs/venice/lib/python3.7/multiprocessing/process.py\", line 297, in _bootstrap\n",
      "    self.run()\n",
      "  File \"/home/raph/.conda/envs/venice/lib/python3.7/multiprocessing/pool.py\", line 110, in worker\n",
      "    task = get()\n",
      "  File \"/home/raph/.conda/envs/venice/lib/python3.7/multiprocessing/pool.py\", line 110, in worker\n",
      "    task = get()\n",
      "  File \"/home/raph/.conda/envs/venice/lib/python3.7/multiprocessing/process.py\", line 297, in _bootstrap\n",
      "    self.run()\n",
      "  File \"/home/raph/.conda/envs/venice/lib/python3.7/multiprocessing/pool.py\", line 110, in worker\n",
      "    task = get()\n",
      "  File \"/home/raph/.conda/envs/venice/lib/python3.7/multiprocessing/synchronize.py\", line 95, in __enter__\n",
      "    return self._semlock.__enter__()\n",
      "  File \"/home/raph/.conda/envs/venice/lib/python3.7/multiprocessing/queues.py\", line 351, in get\n",
      "    with self._rlock:\n",
      "  File \"/home/raph/.conda/envs/venice/lib/python3.7/multiprocessing/queues.py\", line 352, in get\n",
      "    res = self._reader.recv_bytes()\n",
      "  File \"/home/raph/.conda/envs/venice/lib/python3.7/multiprocessing/process.py\", line 99, in run\n",
      "    self._target(*self._args, **self._kwargs)\n",
      "  File \"/home/raph/.conda/envs/venice/lib/python3.7/multiprocessing/process.py\", line 99, in run\n",
      "    self._target(*self._args, **self._kwargs)\n",
      "  File \"/home/raph/.conda/envs/venice/lib/python3.7/multiprocessing/queues.py\", line 351, in get\n",
      "    with self._rlock:\n",
      "  File \"/home/raph/.conda/envs/venice/lib/python3.7/multiprocessing/connection.py\", line 216, in recv_bytes\n",
      "    buf = self._recv_bytes(maxlength)\n",
      "  File \"/home/raph/.conda/envs/venice/lib/python3.7/multiprocessing/synchronize.py\", line 95, in __enter__\n",
      "    return self._semlock.__enter__()\n",
      "  File \"/home/raph/.conda/envs/venice/lib/python3.7/multiprocessing/pool.py\", line 110, in worker\n",
      "    task = get()\n",
      "Traceback (most recent call last):\n",
      "  File \"/home/raph/.conda/envs/venice/lib/python3.7/multiprocessing/synchronize.py\", line 95, in __enter__\n",
      "    return self._semlock.__enter__()\n",
      "KeyboardInterrupt\n",
      "  File \"/home/raph/.conda/envs/venice/lib/python3.7/multiprocessing/connection.py\", line 407, in _recv_bytes\n",
      "    buf = self._recv(4)\n",
      "KeyboardInterrupt\n",
      "  File \"/home/raph/.conda/envs/venice/lib/python3.7/multiprocessing/pool.py\", line 110, in worker\n",
      "    task = get()\n",
      "  File \"/home/raph/.conda/envs/venice/lib/python3.7/multiprocessing/queues.py\", line 351, in get\n",
      "    with self._rlock:\n",
      "Process ForkPoolWorker-29:\n",
      "  File \"/home/raph/.conda/envs/venice/lib/python3.7/multiprocessing/synchronize.py\", line 95, in __enter__\n",
      "    return self._semlock.__enter__()\n",
      "KeyboardInterrupt\n",
      "KeyboardInterrupt\n",
      "  File \"/home/raph/.conda/envs/venice/lib/python3.7/multiprocessing/queues.py\", line 351, in get\n",
      "    with self._rlock:\n",
      "  File \"/home/raph/.conda/envs/venice/lib/python3.7/multiprocessing/connection.py\", line 379, in _recv\n",
      "    chunk = read(handle, remaining)\n",
      "KeyboardInterrupt\n",
      "  File \"/home/raph/.conda/envs/venice/lib/python3.7/multiprocessing/synchronize.py\", line 95, in __enter__\n",
      "    return self._semlock.__enter__()\n",
      "KeyboardInterrupt\n",
      "  File \"/home/raph/.conda/envs/venice/lib/python3.7/multiprocessing/process.py\", line 297, in _bootstrap\n",
      "    self.run()\n",
      "Traceback (most recent call last):\n",
      "  File \"/home/raph/.conda/envs/venice/lib/python3.7/multiprocessing/process.py\", line 99, in run\n",
      "    self._target(*self._args, **self._kwargs)\n",
      "  File \"/home/raph/.conda/envs/venice/lib/python3.7/multiprocessing/process.py\", line 297, in _bootstrap\n",
      "    self.run()\n",
      "  File \"/home/raph/.conda/envs/venice/lib/python3.7/multiprocessing/process.py\", line 99, in run\n",
      "    self._target(*self._args, **self._kwargs)\n",
      "  File \"/home/raph/.conda/envs/venice/lib/python3.7/multiprocessing/pool.py\", line 110, in worker\n",
      "    task = get()\n",
      "  File \"/home/raph/.conda/envs/venice/lib/python3.7/multiprocessing/queues.py\", line 354, in get\n",
      "    return _ForkingPickler.loads(res)\n",
      "KeyboardInterrupt\n",
      "  File \"/home/raph/.conda/envs/venice/lib/python3.7/multiprocessing/pool.py\", line 110, in worker\n",
      "    task = get()\n",
      "  File \"/home/raph/.conda/envs/venice/lib/python3.7/multiprocessing/queues.py\", line 351, in get\n",
      "    with self._rlock:\n",
      "  File \"/home/raph/.conda/envs/venice/lib/python3.7/multiprocessing/synchronize.py\", line 95, in __enter__\n",
      "    return self._semlock.__enter__()\n",
      "KeyboardInterrupt\n",
      "Process ForkPoolWorker-34:\n",
      "Process ForkPoolWorker-35:\n",
      "Process ForkPoolWorker-36:\n",
      "Process ForkPoolWorker-33:\n",
      "Traceback (most recent call last):\n",
      "Traceback (most recent call last):\n",
      "  File \"/home/raph/.conda/envs/venice/lib/python3.7/multiprocessing/process.py\", line 297, in _bootstrap\n",
      "    self.run()\n",
      "Traceback (most recent call last):\n",
      "Traceback (most recent call last):\n",
      "  File \"/home/raph/.conda/envs/venice/lib/python3.7/multiprocessing/process.py\", line 297, in _bootstrap\n",
      "    self.run()\n",
      "  File \"/home/raph/.conda/envs/venice/lib/python3.7/multiprocessing/process.py\", line 297, in _bootstrap\n",
      "    self.run()\n",
      "  File \"/home/raph/.conda/envs/venice/lib/python3.7/multiprocessing/process.py\", line 99, in run\n",
      "    self._target(*self._args, **self._kwargs)\n",
      "  File \"/home/raph/.conda/envs/venice/lib/python3.7/multiprocessing/process.py\", line 297, in _bootstrap\n",
      "    self.run()\n",
      "  File \"/home/raph/.conda/envs/venice/lib/python3.7/multiprocessing/pool.py\", line 110, in worker\n",
      "    task = get()\n",
      "  File \"/home/raph/.conda/envs/venice/lib/python3.7/multiprocessing/process.py\", line 99, in run\n",
      "    self._target(*self._args, **self._kwargs)\n",
      "  File \"/home/raph/.conda/envs/venice/lib/python3.7/multiprocessing/queues.py\", line 351, in get\n",
      "    with self._rlock:\n",
      "  File \"/home/raph/.conda/envs/venice/lib/python3.7/multiprocessing/pool.py\", line 110, in worker\n",
      "    task = get()\n",
      "  File \"/home/raph/.conda/envs/venice/lib/python3.7/multiprocessing/process.py\", line 99, in run\n",
      "    self._target(*self._args, **self._kwargs)\n",
      "  File \"/home/raph/.conda/envs/venice/lib/python3.7/multiprocessing/synchronize.py\", line 95, in __enter__\n",
      "    return self._semlock.__enter__()\n",
      "  File \"/home/raph/.conda/envs/venice/lib/python3.7/multiprocessing/queues.py\", line 351, in get\n",
      "    with self._rlock:\n",
      "KeyboardInterrupt\n",
      "  File \"/home/raph/.conda/envs/venice/lib/python3.7/multiprocessing/pool.py\", line 110, in worker\n",
      "    task = get()\n",
      "  File \"/home/raph/.conda/envs/venice/lib/python3.7/multiprocessing/queues.py\", line 351, in get\n",
      "    with self._rlock:\n",
      "  File \"/home/raph/.conda/envs/venice/lib/python3.7/multiprocessing/synchronize.py\", line 95, in __enter__\n",
      "    return self._semlock.__enter__()\n",
      "  File \"/home/raph/.conda/envs/venice/lib/python3.7/multiprocessing/process.py\", line 99, in run\n",
      "    self._target(*self._args, **self._kwargs)\n",
      "  File \"/home/raph/.conda/envs/venice/lib/python3.7/multiprocessing/pool.py\", line 110, in worker\n",
      "    task = get()\n",
      "  File \"/home/raph/.conda/envs/venice/lib/python3.7/multiprocessing/synchronize.py\", line 95, in __enter__\n",
      "    return self._semlock.__enter__()\n",
      "KeyboardInterrupt\n",
      "KeyboardInterrupt\n",
      "  File \"/home/raph/.conda/envs/venice/lib/python3.7/multiprocessing/queues.py\", line 351, in get\n",
      "    with self._rlock:\n"
     ]
    },
    {
     "name": "stderr",
     "output_type": "stream",
     "text": [
      "  File \"/home/raph/.conda/envs/venice/lib/python3.7/multiprocessing/synchronize.py\", line 95, in __enter__\n",
      "    return self._semlock.__enter__()\n",
      "KeyboardInterrupt\n"
     ]
    }
   ],
   "source": [
    "import edlib\n",
    "from polyleven import levenshtein\n",
    "\n",
    "unique_names = data_bottin['name'].unique()\n",
    "\n",
    "# # Création d'une pool avec 16 process\n",
    "pool = mp.Pool(8)\n",
    "# # Création d'une barre de chargement et d'une fonction pour la mettre à jour.\n",
    "pbar = tqdm(total=len(unique_names))\n",
    "results = []\n",
    "\n",
    "def update(*a):\n",
    "    print(a)\n",
    "    results.extend(a)\n",
    "    pbar.update()\n",
    "\n",
    "    \n",
    "# def compute_dist(idx1, unique_names, max_dist=4):\n",
    "#     res = []\n",
    "#     for idx2 in range(idx1, len(unique_names)):\n",
    "#         s1 = unique_names[idx1]\n",
    "#         s2 = unique_names[idx2]\n",
    "#         if abs(len(s1) - len(s2)) > max_dist:\n",
    "#             continue\n",
    "#         dist = levenshtein(name1, name2, max_dist)\n",
    "#         if dist < max_dist:\n",
    "#             res.append(idx1, idx2, dist)\n",
    "#     return res\n",
    "# Récupération de tous les résultats en parallèle\n",
    "# results = []\n",
    "for idx1 in range(len(unique_names)):\n",
    "    pool.apply_async(compute_dist, args=(idx1,unique_names), callback=update)\n",
    "pool.close()\n",
    "pool.join()"
   ]
  },
  {
   "cell_type": "code",
   "execution_count": 11,
   "metadata": {},
   "outputs": [
    {
     "data": {
      "application/vnd.jupyter.widget-view+json": {
       "model_id": "83ac847826444b8e8d5136f8cee6cd96",
       "version_major": 2,
       "version_minor": 0
      },
      "text/plain": [
       "HBox(children=(FloatProgress(value=0.0, max=269593.0), HTML(value='')))"
      ]
     },
     "metadata": {},
     "output_type": "display_data"
    },
    {
     "name": "stderr",
     "output_type": "stream",
     "text": [
      "Process ForkPoolWorker-55:\n",
      "Process ForkPoolWorker-59:\n",
      "Process ForkPoolWorker-61:\n",
      "Process ForkPoolWorker-60:\n",
      "Process ForkPoolWorker-56:\n",
      "Process ForkPoolWorker-58:\n",
      "Traceback (most recent call last):\n",
      "Process ForkPoolWorker-54:\n",
      "Process ForkPoolWorker-57:\n",
      "Traceback (most recent call last):\n",
      "Traceback (most recent call last):\n",
      "Traceback (most recent call last):\n",
      "  File \"/home/raph/.conda/envs/venice/lib/python3.7/multiprocessing/process.py\", line 297, in _bootstrap\n",
      "    self.run()\n",
      "Traceback (most recent call last):\n",
      "Traceback (most recent call last):\n",
      "Traceback (most recent call last):\n",
      "  File \"/home/raph/.conda/envs/venice/lib/python3.7/multiprocessing/process.py\", line 297, in _bootstrap\n",
      "    self.run()\n",
      "  File \"/home/raph/.conda/envs/venice/lib/python3.7/multiprocessing/process.py\", line 99, in run\n",
      "    self._target(*self._args, **self._kwargs)\n",
      "  File \"/home/raph/.conda/envs/venice/lib/python3.7/multiprocessing/process.py\", line 297, in _bootstrap\n",
      "    self.run()\n",
      "Traceback (most recent call last):\n",
      "  File \"/home/raph/.conda/envs/venice/lib/python3.7/multiprocessing/process.py\", line 297, in _bootstrap\n",
      "    self.run()\n",
      "  File \"/home/raph/.conda/envs/venice/lib/python3.7/multiprocessing/process.py\", line 297, in _bootstrap\n",
      "    self.run()\n",
      "  File \"/home/raph/.conda/envs/venice/lib/python3.7/multiprocessing/process.py\", line 297, in _bootstrap\n",
      "    self.run()\n",
      "  File \"/home/raph/.conda/envs/venice/lib/python3.7/multiprocessing/process.py\", line 99, in run\n",
      "    self._target(*self._args, **self._kwargs)\n",
      "  File \"/home/raph/.conda/envs/venice/lib/python3.7/multiprocessing/process.py\", line 99, in run\n",
      "    self._target(*self._args, **self._kwargs)\n",
      "  File \"/home/raph/.conda/envs/venice/lib/python3.7/multiprocessing/pool.py\", line 121, in worker\n",
      "    result = (True, func(*args, **kwds))\n",
      "  File \"/home/raph/.conda/envs/venice/lib/python3.7/multiprocessing/pool.py\", line 121, in worker\n",
      "    result = (True, func(*args, **kwds))\n",
      "  File \"/home/raph/.conda/envs/venice/lib/python3.7/multiprocessing/process.py\", line 297, in _bootstrap\n",
      "    self.run()\n",
      "  File \"/home/raph/.conda/envs/venice/lib/python3.7/multiprocessing/process.py\", line 297, in _bootstrap\n",
      "    self.run()\n",
      "  File \"/home/raph/.conda/envs/venice/lib/python3.7/multiprocessing/process.py\", line 99, in run\n",
      "    self._target(*self._args, **self._kwargs)\n",
      "  File \"/home/raph/.conda/envs/venice/lib/python3.7/multiprocessing/pool.py\", line 121, in worker\n",
      "    result = (True, func(*args, **kwds))\n",
      "  File \"/home/raph/.conda/envs/venice/lib/python3.7/multiprocessing/pool.py\", line 44, in mapstar\n",
      "    return list(map(*args))\n",
      "  File \"/home/raph/.conda/envs/venice/lib/python3.7/multiprocessing/process.py\", line 99, in run\n",
      "    self._target(*self._args, **self._kwargs)\n",
      "  File \"/home/raph/.conda/envs/venice/lib/python3.7/multiprocessing/process.py\", line 99, in run\n",
      "    self._target(*self._args, **self._kwargs)\n",
      "  File \"/home/raph/.conda/envs/venice/lib/python3.7/multiprocessing/process.py\", line 99, in run\n",
      "    self._target(*self._args, **self._kwargs)\n",
      "  File \"/home/raph/.conda/envs/venice/lib/python3.7/multiprocessing/pool.py\", line 121, in worker\n",
      "    result = (True, func(*args, **kwds))\n",
      "  File \"/home/raph/.conda/envs/venice/lib/python3.7/multiprocessing/pool.py\", line 121, in worker\n",
      "    result = (True, func(*args, **kwds))\n",
      "  File \"/home/raph/.conda/envs/venice/lib/python3.7/multiprocessing/pool.py\", line 121, in worker\n",
      "    result = (True, func(*args, **kwds))\n",
      "  File \"<ipython-input-9-449783394b79>\", line 22, in compute_dist\n",
      "    if abs(len(s1) - len(s2)) > max_dist:\n",
      "  File \"/home/raph/.conda/envs/venice/lib/python3.7/multiprocessing/pool.py\", line 44, in mapstar\n",
      "    return list(map(*args))\n",
      "  File \"/home/raph/.conda/envs/venice/lib/python3.7/multiprocessing/pool.py\", line 44, in mapstar\n",
      "    return list(map(*args))\n",
      "  File \"/home/raph/.conda/envs/venice/lib/python3.7/multiprocessing/pool.py\", line 121, in worker\n",
      "    result = (True, func(*args, **kwds))\n",
      "  File \"/home/raph/.conda/envs/venice/lib/python3.7/multiprocessing/pool.py\", line 44, in mapstar\n",
      "    return list(map(*args))\n",
      "KeyboardInterrupt\n",
      "  File \"/home/raph/.conda/envs/venice/lib/python3.7/multiprocessing/process.py\", line 99, in run\n",
      "    self._target(*self._args, **self._kwargs)\n",
      "  File \"/home/raph/.conda/envs/venice/lib/python3.7/multiprocessing/pool.py\", line 44, in mapstar\n",
      "    return list(map(*args))\n",
      "  File \"/home/raph/.conda/envs/venice/lib/python3.7/multiprocessing/pool.py\", line 44, in mapstar\n",
      "    return list(map(*args))\n",
      "  File \"<ipython-input-9-449783394b79>\", line 21, in compute_dist\n",
      "    s2 = unique_names[idx2]\n",
      "  File \"<ipython-input-9-449783394b79>\", line 21, in compute_dist\n",
      "    s2 = unique_names[idx2]\n",
      "  File \"/home/raph/.conda/envs/venice/lib/python3.7/multiprocessing/pool.py\", line 121, in worker\n",
      "    result = (True, func(*args, **kwds))\n",
      "  File \"/home/raph/.conda/envs/venice/lib/python3.7/multiprocessing/pool.py\", line 44, in mapstar\n",
      "    return list(map(*args))\n",
      "  File \"/home/raph/.conda/envs/venice/lib/python3.7/multiprocessing/pool.py\", line 44, in mapstar\n",
      "    return list(map(*args))\n",
      "KeyboardInterrupt\n",
      "  File \"<ipython-input-9-449783394b79>\", line 20, in compute_dist\n",
      "    s1 = unique_names[idx1]\n",
      "  File \"<ipython-input-9-449783394b79>\", line 24, in compute_dist\n",
      "    dist = levenshtein(name1, name2, max_dist)\n",
      "KeyboardInterrupt\n",
      "  File \"<ipython-input-9-449783394b79>\", line 22, in compute_dist\n",
      "    if abs(len(s1) - len(s2)) > max_dist:\n",
      "KeyboardInterrupt\n",
      "KeyboardInterrupt\n",
      "KeyboardInterrupt\n",
      "  File \"<ipython-input-9-449783394b79>\", line 21, in compute_dist\n",
      "    s2 = unique_names[idx2]\n",
      "  File \"<ipython-input-9-449783394b79>\", line 24, in compute_dist\n",
      "    dist = levenshtein(name1, name2, max_dist)\n",
      "KeyboardInterrupt\n",
      "KeyboardInterrupt\n"
     ]
    },
    {
     "ename": "KeyboardInterrupt",
     "evalue": "",
     "output_type": "error",
     "traceback": [
      "\u001b[0;31m---------------------------------------------------------------------------\u001b[0m",
      "\u001b[0;31mKeyboardInterrupt\u001b[0m                         Traceback (most recent call last)",
      "\u001b[0;32m<ipython-input-11-5bff9114672d>\u001b[0m in \u001b[0;36m<module>\u001b[0;34m\u001b[0m\n\u001b[1;32m     28\u001b[0m \u001b[0;34m\u001b[0m\u001b[0m\n\u001b[1;32m     29\u001b[0m \u001b[0mr\u001b[0m \u001b[0;34m=\u001b[0m \u001b[0mpool\u001b[0m\u001b[0;34m.\u001b[0m\u001b[0mmap_async\u001b[0m\u001b[0;34m(\u001b[0m\u001b[0mcompute_dist\u001b[0m\u001b[0;34m,\u001b[0m \u001b[0mrange\u001b[0m\u001b[0;34m(\u001b[0m\u001b[0mlen\u001b[0m\u001b[0;34m(\u001b[0m\u001b[0munique_names\u001b[0m\u001b[0;34m)\u001b[0m\u001b[0;34m)\u001b[0m\u001b[0;34m,\u001b[0m \u001b[0mcallback\u001b[0m\u001b[0;34m=\u001b[0m\u001b[0mupdate\u001b[0m\u001b[0;34m)\u001b[0m\u001b[0;34m\u001b[0m\u001b[0;34m\u001b[0m\u001b[0m\n\u001b[0;32m---> 30\u001b[0;31m \u001b[0mr\u001b[0m\u001b[0;34m.\u001b[0m\u001b[0mwait\u001b[0m\u001b[0;34m(\u001b[0m\u001b[0;34m)\u001b[0m\u001b[0;34m\u001b[0m\u001b[0;34m\u001b[0m\u001b[0m\n\u001b[0m\u001b[1;32m     31\u001b[0m \u001b[0;31m# Récupération de tous les résultats en parallèle\u001b[0m\u001b[0;34m\u001b[0m\u001b[0;34m\u001b[0m\u001b[0;34m\u001b[0m\u001b[0m\n\u001b[1;32m     32\u001b[0m \u001b[0;31m# results = []\u001b[0m\u001b[0;34m\u001b[0m\u001b[0;34m\u001b[0m\u001b[0;34m\u001b[0m\u001b[0m\n",
      "\u001b[0;32m~/.conda/envs/venice/lib/python3.7/multiprocessing/pool.py\u001b[0m in \u001b[0;36mwait\u001b[0;34m(self, timeout)\u001b[0m\n\u001b[1;32m    646\u001b[0m \u001b[0;34m\u001b[0m\u001b[0m\n\u001b[1;32m    647\u001b[0m     \u001b[0;32mdef\u001b[0m \u001b[0mwait\u001b[0m\u001b[0;34m(\u001b[0m\u001b[0mself\u001b[0m\u001b[0;34m,\u001b[0m \u001b[0mtimeout\u001b[0m\u001b[0;34m=\u001b[0m\u001b[0;32mNone\u001b[0m\u001b[0;34m)\u001b[0m\u001b[0;34m:\u001b[0m\u001b[0;34m\u001b[0m\u001b[0;34m\u001b[0m\u001b[0m\n\u001b[0;32m--> 648\u001b[0;31m         \u001b[0mself\u001b[0m\u001b[0;34m.\u001b[0m\u001b[0m_event\u001b[0m\u001b[0;34m.\u001b[0m\u001b[0mwait\u001b[0m\u001b[0;34m(\u001b[0m\u001b[0mtimeout\u001b[0m\u001b[0;34m)\u001b[0m\u001b[0;34m\u001b[0m\u001b[0;34m\u001b[0m\u001b[0m\n\u001b[0m\u001b[1;32m    649\u001b[0m \u001b[0;34m\u001b[0m\u001b[0m\n\u001b[1;32m    650\u001b[0m     \u001b[0;32mdef\u001b[0m \u001b[0mget\u001b[0m\u001b[0;34m(\u001b[0m\u001b[0mself\u001b[0m\u001b[0;34m,\u001b[0m \u001b[0mtimeout\u001b[0m\u001b[0;34m=\u001b[0m\u001b[0;32mNone\u001b[0m\u001b[0;34m)\u001b[0m\u001b[0;34m:\u001b[0m\u001b[0;34m\u001b[0m\u001b[0;34m\u001b[0m\u001b[0m\n",
      "\u001b[0;32m~/.conda/envs/venice/lib/python3.7/threading.py\u001b[0m in \u001b[0;36mwait\u001b[0;34m(self, timeout)\u001b[0m\n\u001b[1;32m    550\u001b[0m             \u001b[0msignaled\u001b[0m \u001b[0;34m=\u001b[0m \u001b[0mself\u001b[0m\u001b[0;34m.\u001b[0m\u001b[0m_flag\u001b[0m\u001b[0;34m\u001b[0m\u001b[0;34m\u001b[0m\u001b[0m\n\u001b[1;32m    551\u001b[0m             \u001b[0;32mif\u001b[0m \u001b[0;32mnot\u001b[0m \u001b[0msignaled\u001b[0m\u001b[0;34m:\u001b[0m\u001b[0;34m\u001b[0m\u001b[0;34m\u001b[0m\u001b[0m\n\u001b[0;32m--> 552\u001b[0;31m                 \u001b[0msignaled\u001b[0m \u001b[0;34m=\u001b[0m \u001b[0mself\u001b[0m\u001b[0;34m.\u001b[0m\u001b[0m_cond\u001b[0m\u001b[0;34m.\u001b[0m\u001b[0mwait\u001b[0m\u001b[0;34m(\u001b[0m\u001b[0mtimeout\u001b[0m\u001b[0;34m)\u001b[0m\u001b[0;34m\u001b[0m\u001b[0;34m\u001b[0m\u001b[0m\n\u001b[0m\u001b[1;32m    553\u001b[0m             \u001b[0;32mreturn\u001b[0m \u001b[0msignaled\u001b[0m\u001b[0;34m\u001b[0m\u001b[0;34m\u001b[0m\u001b[0m\n\u001b[1;32m    554\u001b[0m \u001b[0;34m\u001b[0m\u001b[0m\n",
      "\u001b[0;32m~/.conda/envs/venice/lib/python3.7/threading.py\u001b[0m in \u001b[0;36mwait\u001b[0;34m(self, timeout)\u001b[0m\n\u001b[1;32m    294\u001b[0m         \u001b[0;32mtry\u001b[0m\u001b[0;34m:\u001b[0m    \u001b[0;31m# restore state no matter what (e.g., KeyboardInterrupt)\u001b[0m\u001b[0;34m\u001b[0m\u001b[0;34m\u001b[0m\u001b[0m\n\u001b[1;32m    295\u001b[0m             \u001b[0;32mif\u001b[0m \u001b[0mtimeout\u001b[0m \u001b[0;32mis\u001b[0m \u001b[0;32mNone\u001b[0m\u001b[0;34m:\u001b[0m\u001b[0;34m\u001b[0m\u001b[0;34m\u001b[0m\u001b[0m\n\u001b[0;32m--> 296\u001b[0;31m                 \u001b[0mwaiter\u001b[0m\u001b[0;34m.\u001b[0m\u001b[0macquire\u001b[0m\u001b[0;34m(\u001b[0m\u001b[0;34m)\u001b[0m\u001b[0;34m\u001b[0m\u001b[0;34m\u001b[0m\u001b[0m\n\u001b[0m\u001b[1;32m    297\u001b[0m                 \u001b[0mgotit\u001b[0m \u001b[0;34m=\u001b[0m \u001b[0;32mTrue\u001b[0m\u001b[0;34m\u001b[0m\u001b[0;34m\u001b[0m\u001b[0m\n\u001b[1;32m    298\u001b[0m             \u001b[0;32melse\u001b[0m\u001b[0;34m:\u001b[0m\u001b[0;34m\u001b[0m\u001b[0;34m\u001b[0m\u001b[0m\n",
      "\u001b[0;31mKeyboardInterrupt\u001b[0m: "
     ]
    }
   ],
   "source": [
    "import edlib\n",
    "from polyleven import levenshtein\n",
    "\n",
    "unique_names = data_bottin['name'].unique()\n",
    "\n",
    "# # Création d'une pool avec 16 process\n",
    "pool = mp.Pool(8)\n",
    "# # Création d'une barre de chargement et d'une fonction pour la mettre à jour.\n",
    "pbar = tqdm(total=len(unique_names))\n",
    "results = []\n",
    "\n",
    "def update(*a):\n",
    "    results.extend(a)\n",
    "    pbar.update()\n",
    "\n",
    "    \n",
    "def compute_dist(idx1, max_dist=4):\n",
    "    res = []\n",
    "    for idx2 in range(idx1, len(unique_names)):\n",
    "        s1 = unique_names[idx1]\n",
    "        s2 = unique_names[idx2]\n",
    "        if abs(len(s1) - len(s2)) > max_dist:\n",
    "            continue\n",
    "        dist = levenshtein(name1, name2, max_dist)\n",
    "        if dist < max_dist:\n",
    "            res.append(idx1, idx2, dist)\n",
    "    return res\n",
    "\n",
    "r = pool.map_async(compute_dist, range(len(unique_names)), callback=update)\n",
    "r.wait()\n",
    "# Récupération de tous les résultats en parallèle\n",
    "# results = []\n",
    "# for idx1 in range(len(unique_names)):\n",
    "#     for idx2 in range(idx1, len(unique_names)):\n",
    "#         name1 = unique_names[idx1]\n",
    "#         name2 = unique_names[idx2]\n",
    "#         pool.apply_async(compute_dist, args=(name1, name2, idx1, idx2,), callback=update)\n",
    "pool.close()\n",
    "pool.join()"
   ]
  },
  {
   "cell_type": "code",
   "execution_count": 10,
   "metadata": {},
   "outputs": [
    {
     "data": {
      "text/plain": [
       "[]"
      ]
     },
     "execution_count": 10,
     "metadata": {},
     "output_type": "execute_result"
    }
   ],
   "source": []
  },
  {
   "cell_type": "code",
   "execution_count": 49,
   "metadata": {},
   "outputs": [
    {
     "data": {
      "application/vnd.jupyter.widget-view+json": {
       "model_id": "a5ef9235817646ab92af8eadafdca13b",
       "version_major": 2,
       "version_minor": 0
      },
      "text/plain": [
       "HBox(children=(FloatProgress(value=0.0, max=269593.0), HTML(value='')))"
      ]
     },
     "metadata": {},
     "output_type": "display_data"
    },
    {
     "ename": "KeyboardInterrupt",
     "evalue": "",
     "output_type": "error",
     "traceback": [
      "\u001b[0;31m---------------------------------------------------------------------------\u001b[0m",
      "\u001b[0;31mKeyboardInterrupt\u001b[0m                         Traceback (most recent call last)",
      "\u001b[0;32m<ipython-input-49-aa39d08c2bb0>\u001b[0m in \u001b[0;36m<module>\u001b[0;34m\u001b[0m\n\u001b[1;32m      6\u001b[0m         \u001b[0mname1\u001b[0m \u001b[0;34m=\u001b[0m \u001b[0munique_names\u001b[0m\u001b[0;34m[\u001b[0m\u001b[0midx1\u001b[0m\u001b[0;34m]\u001b[0m\u001b[0;34m\u001b[0m\u001b[0;34m\u001b[0m\u001b[0m\n\u001b[1;32m      7\u001b[0m         \u001b[0mname2\u001b[0m \u001b[0;34m=\u001b[0m \u001b[0munique_names\u001b[0m\u001b[0;34m[\u001b[0m\u001b[0midx2\u001b[0m\u001b[0;34m]\u001b[0m\u001b[0;34m\u001b[0m\u001b[0;34m\u001b[0m\u001b[0m\n\u001b[0;32m----> 8\u001b[0;31m         \u001b[0;32mif\u001b[0m \u001b[0mabs\u001b[0m\u001b[0;34m(\u001b[0m\u001b[0mlen\u001b[0m\u001b[0;34m(\u001b[0m\u001b[0mname1\u001b[0m\u001b[0;34m)\u001b[0m \u001b[0;34m-\u001b[0m \u001b[0mlen\u001b[0m\u001b[0;34m(\u001b[0m\u001b[0mname2\u001b[0m\u001b[0;34m)\u001b[0m\u001b[0;34m)\u001b[0m \u001b[0;34m>\u001b[0m \u001b[0mmax_dist\u001b[0m\u001b[0;34m:\u001b[0m\u001b[0;34m\u001b[0m\u001b[0;34m\u001b[0m\u001b[0m\n\u001b[0m\u001b[1;32m      9\u001b[0m             \u001b[0;32mcontinue\u001b[0m\u001b[0;34m\u001b[0m\u001b[0;34m\u001b[0m\u001b[0m\n\u001b[1;32m     10\u001b[0m \u001b[0;31m#         dist = editdistance.distance(name1, name2)\u001b[0m\u001b[0;34m\u001b[0m\u001b[0;34m\u001b[0m\u001b[0;34m\u001b[0m\u001b[0m\n",
      "\u001b[0;31mKeyboardInterrupt\u001b[0m: "
     ]
    }
   ],
   "source": [
    "small_dists = []\n",
    "max_dist = 3\n",
    "\n",
    "for idx1 in tqdm(range(len(unique_names))):\n",
    "    for idx2 in range(idx1, len(unique_names)):\n",
    "        name1 = unique_names[idx1]\n",
    "        name2 = unique_names[idx2]\n",
    "        if abs(len(name1) - len(name2)) > max_dist:\n",
    "            continue\n",
    "#         dist = editdistance.distance(name1, name2)\n",
    "#         dist = edlib.align(name1, name2)['editDistance']\n",
    "        dist = levenshtein(name1, name2, max_dist)\n",
    "        if dist < max_dist:\n",
    "            small_dists.append((idx1, idx2, dist))"
   ]
  },
  {
   "cell_type": "code",
   "execution_count": 40,
   "metadata": {},
   "outputs": [
    {
     "data": {
      "application/vnd.jupyter.widget-view+json": {
       "model_id": "fd94a19cf4704fd7ae305e2b98b8224f",
       "version_major": 2,
       "version_minor": 0
      },
      "text/plain": [
       "HBox(children=(FloatProgress(value=0.0, max=269593.0), HTML(value='')))"
      ]
     },
     "metadata": {},
     "output_type": "display_data"
    },
    {
     "data": {
      "application/vnd.jupyter.widget-view+json": {
       "model_id": "",
       "version_major": 2,
       "version_minor": 0
      },
      "text/plain": [
       "HBox(children=(FloatProgress(value=0.0, max=269593.0), HTML(value='')))"
      ]
     },
     "metadata": {},
     "output_type": "display_data"
    },
    {
     "data": {
      "application/vnd.jupyter.widget-view+json": {
       "model_id": "",
       "version_major": 2,
       "version_minor": 0
      },
      "text/plain": [
       "HBox(children=(FloatProgress(value=0.0, max=269593.0), HTML(value='')))"
      ]
     },
     "metadata": {},
     "output_type": "display_data"
    },
    {
     "data": {
      "application/vnd.jupyter.widget-view+json": {
       "model_id": "",
       "version_major": 2,
       "version_minor": 0
      },
      "text/plain": [
       "HBox(children=(FloatProgress(value=0.0, max=269593.0), HTML(value='')))"
      ]
     },
     "metadata": {},
     "output_type": "display_data"
    },
    {
     "data": {
      "application/vnd.jupyter.widget-view+json": {
       "model_id": "",
       "version_major": 2,
       "version_minor": 0
      },
      "text/plain": [
       "HBox(children=(FloatProgress(value=0.0, max=269593.0), HTML(value='')))"
      ]
     },
     "metadata": {},
     "output_type": "display_data"
    },
    {
     "data": {
      "application/vnd.jupyter.widget-view+json": {
       "model_id": "",
       "version_major": 2,
       "version_minor": 0
      },
      "text/plain": [
       "HBox(children=(FloatProgress(value=0.0, max=269593.0), HTML(value='')))"
      ]
     },
     "metadata": {},
     "output_type": "display_data"
    },
    {
     "data": {
      "application/vnd.jupyter.widget-view+json": {
       "model_id": "",
       "version_major": 2,
       "version_minor": 0
      },
      "text/plain": [
       "HBox(children=(FloatProgress(value=0.0, max=269593.0), HTML(value='')))"
      ]
     },
     "metadata": {},
     "output_type": "display_data"
    },
    {
     "data": {
      "application/vnd.jupyter.widget-view+json": {
       "model_id": "",
       "version_major": 2,
       "version_minor": 0
      },
      "text/plain": [
       "HBox(children=(FloatProgress(value=0.0, max=269593.0), HTML(value='')))"
      ]
     },
     "metadata": {},
     "output_type": "display_data"
    },
    {
     "data": {
      "application/vnd.jupyter.widget-view+json": {
       "model_id": "",
       "version_major": 2,
       "version_minor": 0
      },
      "text/plain": [
       "HBox(children=(FloatProgress(value=0.0, max=269593.0), HTML(value='')))"
      ]
     },
     "metadata": {},
     "output_type": "display_data"
    },
    {
     "data": {
      "application/vnd.jupyter.widget-view+json": {
       "model_id": "",
       "version_major": 2,
       "version_minor": 0
      },
      "text/plain": [
       "HBox(children=(FloatProgress(value=0.0, max=269593.0), HTML(value='')))"
      ]
     },
     "metadata": {},
     "output_type": "display_data"
    },
    {
     "data": {
      "application/vnd.jupyter.widget-view+json": {
       "model_id": "",
       "version_major": 2,
       "version_minor": 0
      },
      "text/plain": [
       "HBox(children=(FloatProgress(value=0.0, max=269593.0), HTML(value='')))"
      ]
     },
     "metadata": {},
     "output_type": "display_data"
    },
    {
     "data": {
      "application/vnd.jupyter.widget-view+json": {
       "model_id": "",
       "version_major": 2,
       "version_minor": 0
      },
      "text/plain": [
       "HBox(children=(FloatProgress(value=0.0, max=269593.0), HTML(value='')))"
      ]
     },
     "metadata": {},
     "output_type": "display_data"
    },
    {
     "data": {
      "application/vnd.jupyter.widget-view+json": {
       "model_id": "",
       "version_major": 2,
       "version_minor": 0
      },
      "text/plain": [
       "HBox(children=(FloatProgress(value=0.0, max=269593.0), HTML(value='')))"
      ]
     },
     "metadata": {},
     "output_type": "display_data"
    },
    {
     "data": {
      "application/vnd.jupyter.widget-view+json": {
       "model_id": "",
       "version_major": 2,
       "version_minor": 0
      },
      "text/plain": [
       "HBox(children=(FloatProgress(value=0.0, max=269593.0), HTML(value='')))"
      ]
     },
     "metadata": {},
     "output_type": "display_data"
    },
    {
     "data": {
      "application/vnd.jupyter.widget-view+json": {
       "model_id": "",
       "version_major": 2,
       "version_minor": 0
      },
      "text/plain": [
       "HBox(children=(FloatProgress(value=0.0, max=269593.0), HTML(value='')))"
      ]
     },
     "metadata": {},
     "output_type": "display_data"
    },
    {
     "data": {
      "application/vnd.jupyter.widget-view+json": {
       "model_id": "",
       "version_major": 2,
       "version_minor": 0
      },
      "text/plain": [
       "HBox(children=(FloatProgress(value=0.0, max=269593.0), HTML(value='')))"
      ]
     },
     "metadata": {},
     "output_type": "display_data"
    },
    {
     "data": {
      "application/vnd.jupyter.widget-view+json": {
       "model_id": "",
       "version_major": 2,
       "version_minor": 0
      },
      "text/plain": [
       "HBox(children=(FloatProgress(value=0.0, max=269593.0), HTML(value='')))"
      ]
     },
     "metadata": {},
     "output_type": "display_data"
    },
    {
     "data": {
      "application/vnd.jupyter.widget-view+json": {
       "model_id": "",
       "version_major": 2,
       "version_minor": 0
      },
      "text/plain": [
       "HBox(children=(FloatProgress(value=0.0, max=269593.0), HTML(value='')))"
      ]
     },
     "metadata": {},
     "output_type": "display_data"
    },
    {
     "data": {
      "application/vnd.jupyter.widget-view+json": {
       "model_id": "",
       "version_major": 2,
       "version_minor": 0
      },
      "text/plain": [
       "HBox(children=(FloatProgress(value=0.0, max=269593.0), HTML(value='')))"
      ]
     },
     "metadata": {},
     "output_type": "display_data"
    },
    {
     "data": {
      "application/vnd.jupyter.widget-view+json": {
       "model_id": "",
       "version_major": 2,
       "version_minor": 0
      },
      "text/plain": [
       "HBox(children=(FloatProgress(value=0.0, max=269593.0), HTML(value='')))"
      ]
     },
     "metadata": {},
     "output_type": "display_data"
    },
    {
     "data": {
      "application/vnd.jupyter.widget-view+json": {
       "model_id": "",
       "version_major": 2,
       "version_minor": 0
      },
      "text/plain": [
       "HBox(children=(FloatProgress(value=0.0, max=269593.0), HTML(value='')))"
      ]
     },
     "metadata": {},
     "output_type": "display_data"
    },
    {
     "data": {
      "application/vnd.jupyter.widget-view+json": {
       "model_id": "",
       "version_major": 2,
       "version_minor": 0
      },
      "text/plain": [
       "HBox(children=(FloatProgress(value=0.0, max=269593.0), HTML(value='')))"
      ]
     },
     "metadata": {},
     "output_type": "display_data"
    },
    {
     "data": {
      "application/vnd.jupyter.widget-view+json": {
       "model_id": "",
       "version_major": 2,
       "version_minor": 0
      },
      "text/plain": [
       "HBox(children=(FloatProgress(value=0.0, max=269593.0), HTML(value='')))"
      ]
     },
     "metadata": {},
     "output_type": "display_data"
    },
    {
     "data": {
      "application/vnd.jupyter.widget-view+json": {
       "model_id": "",
       "version_major": 2,
       "version_minor": 0
      },
      "text/plain": [
       "HBox(children=(FloatProgress(value=0.0, max=269593.0), HTML(value='')))"
      ]
     },
     "metadata": {},
     "output_type": "display_data"
    },
    {
     "data": {
      "application/vnd.jupyter.widget-view+json": {
       "model_id": "",
       "version_major": 2,
       "version_minor": 0
      },
      "text/plain": [
       "HBox(children=(FloatProgress(value=0.0, max=269593.0), HTML(value='')))"
      ]
     },
     "metadata": {},
     "output_type": "display_data"
    },
    {
     "data": {
      "application/vnd.jupyter.widget-view+json": {
       "model_id": "",
       "version_major": 2,
       "version_minor": 0
      },
      "text/plain": [
       "HBox(children=(FloatProgress(value=0.0, max=269593.0), HTML(value='')))"
      ]
     },
     "metadata": {},
     "output_type": "display_data"
    },
    {
     "data": {
      "application/vnd.jupyter.widget-view+json": {
       "model_id": "",
       "version_major": 2,
       "version_minor": 0
      },
      "text/plain": [
       "HBox(children=(FloatProgress(value=0.0, max=269593.0), HTML(value='')))"
      ]
     },
     "metadata": {},
     "output_type": "display_data"
    },
    {
     "data": {
      "application/vnd.jupyter.widget-view+json": {
       "model_id": "",
       "version_major": 2,
       "version_minor": 0
      },
      "text/plain": [
       "HBox(children=(FloatProgress(value=0.0, max=269593.0), HTML(value='')))"
      ]
     },
     "metadata": {},
     "output_type": "display_data"
    },
    {
     "data": {
      "application/vnd.jupyter.widget-view+json": {
       "model_id": "",
       "version_major": 2,
       "version_minor": 0
      },
      "text/plain": [
       "HBox(children=(FloatProgress(value=0.0, max=269593.0), HTML(value='')))"
      ]
     },
     "metadata": {},
     "output_type": "display_data"
    },
    {
     "data": {
      "application/vnd.jupyter.widget-view+json": {
       "model_id": "",
       "version_major": 2,
       "version_minor": 0
      },
      "text/plain": [
       "HBox(children=(FloatProgress(value=0.0, max=269593.0), HTML(value='')))"
      ]
     },
     "metadata": {},
     "output_type": "display_data"
    },
    {
     "data": {
      "application/vnd.jupyter.widget-view+json": {
       "model_id": "",
       "version_major": 2,
       "version_minor": 0
      },
      "text/plain": [
       "HBox(children=(FloatProgress(value=0.0, max=269593.0), HTML(value='')))"
      ]
     },
     "metadata": {},
     "output_type": "display_data"
    },
    {
     "data": {
      "application/vnd.jupyter.widget-view+json": {
       "model_id": "",
       "version_major": 2,
       "version_minor": 0
      },
      "text/plain": [
       "HBox(children=(FloatProgress(value=0.0, max=269593.0), HTML(value='')))"
      ]
     },
     "metadata": {},
     "output_type": "display_data"
    },
    {
     "data": {
      "application/vnd.jupyter.widget-view+json": {
       "model_id": "",
       "version_major": 2,
       "version_minor": 0
      },
      "text/plain": [
       "HBox(children=(FloatProgress(value=0.0, max=269593.0), HTML(value='')))"
      ]
     },
     "metadata": {},
     "output_type": "display_data"
    },
    {
     "data": {
      "application/vnd.jupyter.widget-view+json": {
       "model_id": "",
       "version_major": 2,
       "version_minor": 0
      },
      "text/plain": [
       "HBox(children=(FloatProgress(value=0.0, max=269593.0), HTML(value='')))"
      ]
     },
     "metadata": {},
     "output_type": "display_data"
    },
    {
     "data": {
      "application/vnd.jupyter.widget-view+json": {
       "model_id": "",
       "version_major": 2,
       "version_minor": 0
      },
      "text/plain": [
       "HBox(children=(FloatProgress(value=0.0, max=269593.0), HTML(value='')))"
      ]
     },
     "metadata": {},
     "output_type": "display_data"
    },
    {
     "data": {
      "application/vnd.jupyter.widget-view+json": {
       "model_id": "",
       "version_major": 2,
       "version_minor": 0
      },
      "text/plain": [
       "HBox(children=(FloatProgress(value=0.0, max=269593.0), HTML(value='')))"
      ]
     },
     "metadata": {},
     "output_type": "display_data"
    },
    {
     "data": {
      "application/vnd.jupyter.widget-view+json": {
       "model_id": "",
       "version_major": 2,
       "version_minor": 0
      },
      "text/plain": [
       "HBox(children=(FloatProgress(value=0.0, max=269593.0), HTML(value='')))"
      ]
     },
     "metadata": {},
     "output_type": "display_data"
    },
    {
     "data": {
      "application/vnd.jupyter.widget-view+json": {
       "model_id": "",
       "version_major": 2,
       "version_minor": 0
      },
      "text/plain": [
       "HBox(children=(FloatProgress(value=0.0, max=269593.0), HTML(value='')))"
      ]
     },
     "metadata": {},
     "output_type": "display_data"
    },
    {
     "data": {
      "application/vnd.jupyter.widget-view+json": {
       "model_id": "",
       "version_major": 2,
       "version_minor": 0
      },
      "text/plain": [
       "HBox(children=(FloatProgress(value=0.0, max=269593.0), HTML(value='')))"
      ]
     },
     "metadata": {},
     "output_type": "display_data"
    },
    {
     "data": {
      "application/vnd.jupyter.widget-view+json": {
       "model_id": "",
       "version_major": 2,
       "version_minor": 0
      },
      "text/plain": [
       "HBox(children=(FloatProgress(value=0.0, max=269593.0), HTML(value='')))"
      ]
     },
     "metadata": {},
     "output_type": "display_data"
    },
    {
     "data": {
      "application/vnd.jupyter.widget-view+json": {
       "model_id": "",
       "version_major": 2,
       "version_minor": 0
      },
      "text/plain": [
       "HBox(children=(FloatProgress(value=0.0, max=269593.0), HTML(value='')))"
      ]
     },
     "metadata": {},
     "output_type": "display_data"
    },
    {
     "data": {
      "application/vnd.jupyter.widget-view+json": {
       "model_id": "",
       "version_major": 2,
       "version_minor": 0
      },
      "text/plain": [
       "HBox(children=(FloatProgress(value=0.0, max=269593.0), HTML(value='')))"
      ]
     },
     "metadata": {},
     "output_type": "display_data"
    },
    {
     "data": {
      "application/vnd.jupyter.widget-view+json": {
       "model_id": "0dc3da00b3424b03b477f044d11e65f0",
       "version_major": 2,
       "version_minor": 0
      },
      "text/plain": [
       "HBox(children=(FloatProgress(value=0.0, max=269593.0), HTML(value='')))"
      ]
     },
     "metadata": {},
     "output_type": "display_data"
    },
    {
     "ename": "KeyboardInterrupt",
     "evalue": "",
     "output_type": "error",
     "traceback": [
      "\u001b[0;31m---------------------------------------------------------------------------\u001b[0m",
      "\u001b[0;31mKeyboardInterrupt\u001b[0m                         Traceback (most recent call last)",
      "\u001b[0;32m<ipython-input-40-6e80b8688742>\u001b[0m in \u001b[0;36m<module>\u001b[0;34m\u001b[0m\n\u001b[1;32m      8\u001b[0m \u001b[0;34m\u001b[0m\u001b[0m\n\u001b[1;32m      9\u001b[0m \u001b[0;32mfor\u001b[0m \u001b[0midx1\u001b[0m\u001b[0;34m,\u001b[0m \u001b[0mname1\u001b[0m \u001b[0;32min\u001b[0m \u001b[0menumerate\u001b[0m\u001b[0;34m(\u001b[0m\u001b[0mtqdm\u001b[0m\u001b[0;34m(\u001b[0m\u001b[0munique_names\u001b[0m\u001b[0;34m)\u001b[0m\u001b[0;34m)\u001b[0m\u001b[0;34m:\u001b[0m\u001b[0;34m\u001b[0m\u001b[0;34m\u001b[0m\u001b[0m\n\u001b[0;32m---> 10\u001b[0;31m     \u001b[0;32mfor\u001b[0m \u001b[0midx2\u001b[0m\u001b[0;34m,\u001b[0m \u001b[0mname2\u001b[0m \u001b[0;32min\u001b[0m \u001b[0menumerate\u001b[0m\u001b[0;34m(\u001b[0m\u001b[0mtqdm\u001b[0m\u001b[0;34m(\u001b[0m\u001b[0munique_names\u001b[0m\u001b[0;34m,\u001b[0m \u001b[0mleave\u001b[0m\u001b[0;34m=\u001b[0m\u001b[0;32mFalse\u001b[0m\u001b[0;34m)\u001b[0m\u001b[0;34m)\u001b[0m\u001b[0;34m:\u001b[0m\u001b[0;34m\u001b[0m\u001b[0;34m\u001b[0m\u001b[0m\n\u001b[0m\u001b[1;32m     11\u001b[0m         \u001b[0;32mif\u001b[0m \u001b[0mabs\u001b[0m\u001b[0;34m(\u001b[0m\u001b[0mlen\u001b[0m\u001b[0;34m(\u001b[0m\u001b[0mname1\u001b[0m\u001b[0;34m)\u001b[0m \u001b[0;34m-\u001b[0m \u001b[0mlen\u001b[0m\u001b[0;34m(\u001b[0m\u001b[0mname2\u001b[0m\u001b[0;34m)\u001b[0m\u001b[0;34m)\u001b[0m \u001b[0;34m>\u001b[0m \u001b[0mmax_dist\u001b[0m\u001b[0;34m:\u001b[0m\u001b[0;34m\u001b[0m\u001b[0;34m\u001b[0m\u001b[0m\n\u001b[1;32m     12\u001b[0m             \u001b[0;32mcontinue\u001b[0m\u001b[0;34m\u001b[0m\u001b[0;34m\u001b[0m\u001b[0m\n",
      "\u001b[0;32m~/.conda/envs/venice/lib/python3.7/site-packages/tqdm/notebook.py\u001b[0m in \u001b[0;36m__iter__\u001b[0;34m(self, *args, **kwargs)\u001b[0m\n\u001b[1;32m    213\u001b[0m     \u001b[0;32mdef\u001b[0m \u001b[0m__iter__\u001b[0m\u001b[0;34m(\u001b[0m\u001b[0mself\u001b[0m\u001b[0;34m,\u001b[0m \u001b[0;34m*\u001b[0m\u001b[0margs\u001b[0m\u001b[0;34m,\u001b[0m \u001b[0;34m**\u001b[0m\u001b[0mkwargs\u001b[0m\u001b[0;34m)\u001b[0m\u001b[0;34m:\u001b[0m\u001b[0;34m\u001b[0m\u001b[0;34m\u001b[0m\u001b[0m\n\u001b[1;32m    214\u001b[0m         \u001b[0;32mtry\u001b[0m\u001b[0;34m:\u001b[0m\u001b[0;34m\u001b[0m\u001b[0;34m\u001b[0m\u001b[0m\n\u001b[0;32m--> 215\u001b[0;31m             \u001b[0;32mfor\u001b[0m \u001b[0mobj\u001b[0m \u001b[0;32min\u001b[0m \u001b[0msuper\u001b[0m\u001b[0;34m(\u001b[0m\u001b[0mtqdm_notebook\u001b[0m\u001b[0;34m,\u001b[0m \u001b[0mself\u001b[0m\u001b[0;34m)\u001b[0m\u001b[0;34m.\u001b[0m\u001b[0m__iter__\u001b[0m\u001b[0;34m(\u001b[0m\u001b[0;34m*\u001b[0m\u001b[0margs\u001b[0m\u001b[0;34m,\u001b[0m \u001b[0;34m**\u001b[0m\u001b[0mkwargs\u001b[0m\u001b[0;34m)\u001b[0m\u001b[0;34m:\u001b[0m\u001b[0;34m\u001b[0m\u001b[0;34m\u001b[0m\u001b[0m\n\u001b[0m\u001b[1;32m    216\u001b[0m                 \u001b[0;31m# return super(tqdm...) will not catch exception\u001b[0m\u001b[0;34m\u001b[0m\u001b[0;34m\u001b[0m\u001b[0;34m\u001b[0m\u001b[0m\n\u001b[1;32m    217\u001b[0m                 \u001b[0;32myield\u001b[0m \u001b[0mobj\u001b[0m\u001b[0;34m\u001b[0m\u001b[0;34m\u001b[0m\u001b[0m\n",
      "\u001b[0;32m~/.conda/envs/venice/lib/python3.7/site-packages/tqdm/std.py\u001b[0m in \u001b[0;36m__iter__\u001b[0;34m(self)\u001b[0m\n\u001b[1;32m   1111\u001b[0m                 \u001b[0mminiters\u001b[0m \u001b[0;34m=\u001b[0m \u001b[0mself\u001b[0m\u001b[0;34m.\u001b[0m\u001b[0mminiters\u001b[0m  \u001b[0;31m# watch monitoring thread changes\u001b[0m\u001b[0;34m\u001b[0m\u001b[0;34m\u001b[0m\u001b[0m\n\u001b[1;32m   1112\u001b[0m                 \u001b[0mdelta_t\u001b[0m \u001b[0;34m=\u001b[0m \u001b[0mtime\u001b[0m\u001b[0;34m(\u001b[0m\u001b[0;34m)\u001b[0m \u001b[0;34m-\u001b[0m \u001b[0mlast_print_t\u001b[0m\u001b[0;34m\u001b[0m\u001b[0;34m\u001b[0m\u001b[0m\n\u001b[0;32m-> 1113\u001b[0;31m                 \u001b[0;32mif\u001b[0m \u001b[0mdelta_t\u001b[0m \u001b[0;34m>=\u001b[0m \u001b[0mmininterval\u001b[0m\u001b[0;34m:\u001b[0m\u001b[0;34m\u001b[0m\u001b[0;34m\u001b[0m\u001b[0m\n\u001b[0m\u001b[1;32m   1114\u001b[0m                     \u001b[0mcur_t\u001b[0m \u001b[0;34m=\u001b[0m \u001b[0mtime\u001b[0m\u001b[0;34m(\u001b[0m\u001b[0;34m)\u001b[0m\u001b[0;34m\u001b[0m\u001b[0;34m\u001b[0m\u001b[0m\n\u001b[1;32m   1115\u001b[0m                     \u001b[0mdelta_it\u001b[0m \u001b[0;34m=\u001b[0m \u001b[0mn\u001b[0m \u001b[0;34m-\u001b[0m \u001b[0mlast_print_n\u001b[0m\u001b[0;34m\u001b[0m\u001b[0;34m\u001b[0m\u001b[0m\n",
      "\u001b[0;31mKeyboardInterrupt\u001b[0m: "
     ]
    }
   ],
   "source": [
    "unique_names = data_bottin['name'].unique()\n",
    "\n",
    "# mat = np.zeros((len(unique_names), len(unique_names)))\n",
    "\n",
    "small_dists = []\n",
    "\n",
    "max_dist = 3\n",
    "\n",
    "for idx1, name1 in enumerate(tqdm(unique_names)):\n",
    "    for idx2, name2 in enumerate(tqdm(unique_names, leave=False)):\n",
    "        if abs(len(name1) - len(name2)) > max_dist:\n",
    "            continue\n",
    "#         dist = editdistance.distance(name1, name2)\n",
    "#         dist = edlib.align(name1, name2)['editDistance']\n",
    "        dist = levenshtein(name1, name2, max_dist)\n",
    "        if dist < max_dist:\n",
    "            small_dists.append((idx1, idx2, dist))"
   ]
  },
  {
   "cell_type": "code",
   "execution_count": null,
   "metadata": {},
   "outputs": [],
   "source": []
  },
  {
   "cell_type": "code",
   "execution_count": 12,
   "metadata": {},
   "outputs": [
    {
     "data": {
      "text/plain": [
       "4"
      ]
     },
     "execution_count": 12,
     "metadata": {},
     "output_type": "execute_result"
    }
   ],
   "source": [
    "editdistance.distance('hello', 'test')"
   ]
  },
  {
   "cell_type": "markdown",
   "metadata": {},
   "source": [
    "Pour conclure cette introduction, nous allons maintenant sélectionner au hasard 10 entrées (à l'aide de `.sample`) et utiliser la fonction helper `add_clickable_url` qui permet de rajouter une colonne `url` à notre dataframe qui donne un lien vers la page du bottin."
   ]
  },
  {
   "cell_type": "code",
   "execution_count": null,
   "metadata": {},
   "outputs": [],
   "source": [
    "sample = data_bottin.head(10)\n",
    "add_clickable_url(sample)"
   ]
  },
  {
   "cell_type": "markdown",
   "metadata": {},
   "source": [
    "# Présentation des tâches"
   ]
  },
  {
   "cell_type": "markdown",
   "metadata": {},
   "source": [
    "Comme exemple, nous allons essayer d'extraire des information du champ `name`, il faudra réaliser les tâches suivantes:\n",
    "1. Calculer quelques statistiques de base\n",
    "2. Extraire les entrées avec un seul mot ou un seul mot et du contenu entre parenthèse dans `name` (ignorer les espaces avant et après).\n",
    "3. Extraire le compte de chaque mot dans le texte entre parenthèse dans `name`.\n",
    "4. Extraire le compte de chaque mot dans tout texte de `name` ne contenant pas un seul mot et des parenthèse.\n",
    "5. Grouper les entrées par nom, métier, rue et numéro uniques et faire quelques statistiques de bases"
   ]
  },
  {
   "cell_type": "markdown",
   "metadata": {},
   "source": [
    "## Quelques ressources\n",
    "\n",
    "Comme expliqué plus haut, voici quelques ressources pour vous aider, je vous conseille de les lire attentivement et de faire quelques tests vous même dans un notebook.\n",
    "\n",
    "Si vous n'arrivez pas à réaliser une des tâches, n'hésitez pas à googler votre problème, `pandas` est une librairie très populaire et il y a de grande chance que quelque'un ait déjà eu un problème similaire au vôtre."
   ]
  },
  {
   "cell_type": "markdown",
   "metadata": {},
   "source": [
    "### Pandas\n",
    "\n",
    "- [Tutoriel officiel](https://pandas.pydata.org/pandas-docs/stable/getting_started/10min.html#selection)\n",
    "- [Fonctions plus avancées](https://pandas.pydata.org/pandas-docs/stable/user_guide/cookbook.html#idioms) (vous aurez surtout besoin des parties \"Idioms\", \"Selection\" et \"Grouping\").\n",
    "- [Guide pour travailler avec du texte](https://pandas.pydata.org/pandas-docs/stable/user_guide/text.html)"
   ]
  },
  {
   "cell_type": "markdown",
   "metadata": {},
   "source": [
    "### expressions régulières:\n",
    "- [Tutoriel écrit](https://github.com/ziishaned/learn-regex/blob/master/translations/README-fr.md)\n",
    "- [Tutoriel interactif](https://regexone.com/)\n",
    "- [Site pour tester ses regex](https://regex101.com/)"
   ]
  },
  {
   "cell_type": "markdown",
   "metadata": {},
   "source": [
    "# Tâches"
   ]
  },
  {
   "cell_type": "markdown",
   "metadata": {},
   "source": [
    "## Tâche 1\n",
    "\n",
    "Le but de cette tâche est de calculer quelques statistiques de bases. Il faut trouver:\n",
    "\n",
    "1. Le nombre d'entrées\n",
    "2. Le nombre d'entrées par année (indice, utilisez `.groupby` et `.size`)\n",
    "3. Le nombre de noms uniques (indice, utilisez `.unique`)\n",
    "4. Le nombre de métiers uniques\n",
    "5. Le nombre de rues uniques\n",
    "\n",
    "Puis quelques graphe à réaliser (c.f. la [doc](https://pandas.pydata.org/pandas-docs/stable/reference/api/pandas.DataFrame.plot.html?highlight=plot#pandas.DataFrame.plot)):\n",
    "1. Le graphe du nombre d'entrées par années\n",
    "2. L'histogramme (c.f. la [doc](https://pandas.pydata.org/pandas-docs/stable/reference/api/pandas.DataFrame.hist.html)) du nombre de doublons de noms (en x vous aurez le nombre de doublons et en y la fréquence), indice, utilisez `.value_counts` et si vous ne voyez rien sur votre histogramme, les options `loglog` et `bins` de `.hist`.\n",
    "3. Le même histogramme que précédemment, mais pour les métiers."
   ]
  },
  {
   "cell_type": "code",
   "execution_count": null,
   "metadata": {
    "scrolled": true
   },
   "outputs": [],
   "source": [
    "entries_number = data_bottin.shape[0] # à compléter\n",
    "entries_per_year = data_bottin.groupby('year').size() # à compléter\n",
    "unique_names_number = data_bottin['name'].unique().size # à compléter\n",
    "unique_jobs_number = data_bottin['job'].unique().size # à compléter\n",
    "unique_streets_number = data_bottin['street'].unique().size # à compléter\n",
    "\n",
    "print(f\"Il y {entries_number} entrées, dont {unique_names_number} noms uniques, {unique_jobs_number} métiers uniques, {unique_streets_number} rue uniques\")\n",
    "print(\"\\nLa distribution d'entrées par année est la suivante:\")\n",
    "print(\"\\n\".join([f\"\\t{year}: {count}\" for year, count in entries_per_year.reset_index().values]))"
   ]
  },
  {
   "cell_type": "markdown",
   "metadata": {},
   "source": [
    "Si vous avez réussi, vous devriez avoir le texte suivant:\n",
    "<div class=\"output_subarea output_text output_stream output_stdout\"><pre>Il y 6789596 entrées, dont 269593 noms uniques, 60784 métiers uniques, 39916 rue uniques\n",
    "\n",
    "La distribution d'entrées par année est la suivante:\n",
    "\t1901: 122529\n",
    "\t1907: 121765\n",
    "\t1914: 123464\n",
    "\t1921: 118520\n",
    "\t1922: 130958\n",
    "</pre></div>"
   ]
  },
  {
   "cell_type": "markdown",
   "metadata": {},
   "source": [
    "Pour les graphes, il suffit de transformer votre dataframe dans le bon format (en utilisant `.groupby`, `.size` et `.value_counts`), puis d'utiliser `.plot` ou `.hist` avec les bonnes options."
   ]
  },
  {
   "cell_type": "code",
   "execution_count": null,
   "metadata": {},
   "outputs": [],
   "source": [
    "(data_bottin.groupby('year').size()\n",
    " .plot(kind='bar', title='Entries per year', figsize=(8,5)).set_ylabel('Number of entries'));"
   ]
  },
  {
   "cell_type": "markdown",
   "metadata": {},
   "source": [
    "Votre graphe devrait ressembler à ça:\n",
    "<div class=\"output_subarea output_png\"><img src=\"data:image/png;base64,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\n",
    "\"></div>"
   ]
  },
  {
   "cell_type": "code",
   "execution_count": null,
   "metadata": {},
   "outputs": [],
   "source": [
    "(data_bottin['name'].value_counts()\n",
    " .plot(kind='hist',loglog=True, bins=1000,\n",
    "       title='Distribution of duplicate names',\n",
    "       figsize=(8,5)).set_xlabel('Number of duplicates'));"
   ]
  },
  {
   "cell_type": "markdown",
   "metadata": {},
   "source": [
    "Votre graphe devrait ressembler à ça (en utilisant `loglog=True` et `bins=1000`):\n",
    "<img src=\"data:image/png;base64,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\n",
    "\">"
   ]
  },
  {
   "cell_type": "code",
   "execution_count": null,
   "metadata": {},
   "outputs": [],
   "source": [
    "(data_bottin['job'].value_counts()\n",
    " .plot(kind='hist',loglog=True, bins=1000,\n",
    "       title='Distribution of duplicate jobs',\n",
    "       figsize=(8,5)).set_xlabel('Number of duplicates'));"
   ]
  },
  {
   "cell_type": "markdown",
   "metadata": {},
   "source": [
    "Votre graphe devrait ressembler à ça (en utilisant `loglog=True` et `bins=1000`):\n",
    "<img src=\"data:image/png;base64,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\n",
    "\">"
   ]
  },
  {
   "cell_type": "markdown",
   "metadata": {},
   "source": [
    "## Tâche 2"
   ]
  },
  {
   "cell_type": "markdown",
   "metadata": {},
   "source": [
    "Le but de cette tâche est d'extraire les entrées avec un seul mot ou un seul mot et du contenu entre parenthèse dans `name` (ignorer les espaces avant et après).\n",
    "\n",
    "Pour cette tâche, il vous suffira d'écrire une seul expression régulière, ce [lien](https://regex101.com/r/Ccyja3/1/tests) vous permettra de tester votre expression régulière.\n",
    "\n",
    "Pour pouvoir extraire les lignes correspondantes, vous pouvez indexer les données avec le prédicat qui vous est retourné par `['name'].str.match`, c.f. la [doc](https://pandas.pydata.org/pandas-docs/stable/reference/api/pandas.Series.str.match.html?highlight=str%20match#pandas.Series.str.match)."
   ]
  },
  {
   "cell_type": "code",
   "execution_count": null,
   "metadata": {},
   "outputs": [],
   "source": [
    "regex_one_word = '^\\s*\\w+(?:\\s?\\(.*\\)\\s*)?\\s*$'\n",
    "\n",
    "predicate_one_word = data_bottin['name'].str.match(regex_one_word) # à remplacer, pour le moment sélélectionne tout\n",
    "\n",
    "data_bottin_one_word = data_bottin.loc[predicate_one_word].copy()"
   ]
  },
  {
   "cell_type": "markdown",
   "metadata": {},
   "source": [
    "Vous devriez obtenir le résultat suivant, avec 526943 lignes:\n",
    "<div class=\"output_subarea output_html rendered_html output_result\"><div>\n",
    "<style scoped=\"\">\n",
    "    .dataframe tbody tr th:only-of-type {\n",
    "        vertical-align: middle;\n",
    "    }\n",
    "\n",
    "    .dataframe tbody tr th {\n",
    "        vertical-align: top;\n",
    "    }\n",
    "\n",
    "    .dataframe thead th {\n",
    "        text-align: right;\n",
    "    }\n",
    "</style>\n",
    "<table class=\"dataframe\" border=\"1\">\n",
    "  <thead>\n",
    "    <tr style=\"text-align: right;\">\n",
    "      <th></th>\n",
    "      <th>directory</th>\n",
    "      <th>page</th>\n",
    "      <th>row</th>\n",
    "      <th>year</th>\n",
    "      <th>name</th>\n",
    "      <th>job</th>\n",
    "      <th>street</th>\n",
    "      <th>number</th>\n",
    "      <th>street_clean</th>\n",
    "      <th>street_only</th>\n",
    "    </tr>\n",
    "  </thead>\n",
    "  <tbody>\n",
    "    <tr>\n",
    "      <th>0</th>\n",
    "      <td>bpt6k97631451</td>\n",
    "      <td>644</td>\n",
    "      <td>2</td>\n",
    "      <td>1901</td>\n",
    "      <td>Aarault</td>\n",
    "      <td>vins et hôtel</td>\n",
    "      <td>r. St-Honoré</td>\n",
    "      <td>312.</td>\n",
    "      <td>rue Saint-Honoré</td>\n",
    "      <td>Saint-Honoré</td>\n",
    "    </tr>\n",
    "    <tr>\n",
    "      <th>1</th>\n",
    "      <td>bpt6k97631451</td>\n",
    "      <td>644</td>\n",
    "      <td>3</td>\n",
    "      <td>1901</td>\n",
    "      <td>Aaron</td>\n",
    "      <td>march. de chevaux</td>\n",
    "      <td>r. Bouret</td>\n",
    "      <td>39</td>\n",
    "      <td>rue Bouret</td>\n",
    "      <td>Bouret</td>\n",
    "    </tr>\n",
    "    <tr>\n",
    "      <th>2</th>\n",
    "      <td>bpt6k97631451</td>\n",
    "      <td>644</td>\n",
    "      <td>7</td>\n",
    "      <td>1901</td>\n",
    "      <td>Aaron</td>\n",
    "      <td>fantaisies pour modes</td>\n",
    "      <td>quai Jemmapes</td>\n",
    "      <td>56.</td>\n",
    "      <td>quai Jemmapes</td>\n",
    "      <td>Jemmapes</td>\n",
    "    </tr>\n",
    "    <tr>\n",
    "      <th>3</th>\n",
    "      <td>bpt6k97631451</td>\n",
    "      <td>644</td>\n",
    "      <td>9</td>\n",
    "      <td>1901</td>\n",
    "      <td>Aaron (Emile et Edouard)</td>\n",
    "      <td>négociants</td>\n",
    "      <td>cour et pass. des Petites-Écuries</td>\n",
    "      <td>20.</td>\n",
    "      <td>courue et passage des Petites-Écuries</td>\n",
    "      <td>cous Petites-Écuries</td>\n",
    "    </tr>\n",
    "    <tr>\n",
    "      <th>5</th>\n",
    "      <td>bpt6k97631451</td>\n",
    "      <td>644</td>\n",
    "      <td>12</td>\n",
    "      <td>1901</td>\n",
    "      <td>Abadie (Ch. Vallois succcess.)</td>\n",
    "      <td>fabr. de billards</td>\n",
    "      <td>r. du Grand-Prieuré</td>\n",
    "      <td>8.</td>\n",
    "      <td>rue du Grand-Prieuré</td>\n",
    "      <td>Grand-Prieuré</td>\n",
    "    </tr>\n",
    "    <tr>\n",
    "      <th>...</th>\n",
    "      <td>...</td>\n",
    "      <td>...</td>\n",
    "      <td>...</td>\n",
    "      <td>...</td>\n",
    "      <td>...</td>\n",
    "      <td>...</td>\n",
    "      <td>...</td>\n",
    "      <td>...</td>\n",
    "      <td>...</td>\n",
    "      <td>...</td>\n",
    "    </tr>\n",
    "    <tr>\n",
    "      <th>617230</th>\n",
    "      <td>bpt6k9780089g</td>\n",
    "      <td>1607</td>\n",
    "      <td>256</td>\n",
    "      <td>1922</td>\n",
    "      <td>Zwinger (E.)</td>\n",
    "      <td>commiss. en march</td>\n",
    "      <td>r. Saulnier</td>\n",
    "      <td>7.</td>\n",
    "      <td>rue Saulnier</td>\n",
    "      <td>Saulnier</td>\n",
    "    </tr>\n",
    "    <tr>\n",
    "      <th>617232</th>\n",
    "      <td>bpt6k9780089g</td>\n",
    "      <td>1607</td>\n",
    "      <td>259</td>\n",
    "      <td>1922</td>\n",
    "      <td>Zygomalas</td>\n",
    "      <td>perles fausses</td>\n",
    "      <td>r. de Constantinople</td>\n",
    "      <td>28.</td>\n",
    "      <td>rue de Constantinople</td>\n",
    "      <td>Constantinople</td>\n",
    "    </tr>\n",
    "    <tr>\n",
    "      <th>617233</th>\n",
    "      <td>bpt6k9780089g</td>\n",
    "      <td>1607</td>\n",
    "      <td>261</td>\n",
    "      <td>1922</td>\n",
    "      <td>Zysapel</td>\n",
    "      <td>restaurant</td>\n",
    "      <td>r. des Ecouffes</td>\n",
    "      <td>14.</td>\n",
    "      <td>rue des Ecouffes</td>\n",
    "      <td>s Ecouffes</td>\n",
    "    </tr>\n",
    "    <tr>\n",
    "      <th>617234</th>\n",
    "      <td>bpt6k9780089g</td>\n",
    "      <td>1607</td>\n",
    "      <td>263</td>\n",
    "      <td>1922</td>\n",
    "      <td>Zyssmann</td>\n",
    "      <td>bar</td>\n",
    "      <td>r. de Pivoli</td>\n",
    "      <td>40.</td>\n",
    "      <td>rue de Pivoli</td>\n",
    "      <td>Pivoli</td>\n",
    "    </tr>\n",
    "    <tr>\n",
    "      <th>617235</th>\n",
    "      <td>bpt6k9780089g</td>\n",
    "      <td>1607</td>\n",
    "      <td>267</td>\n",
    "      <td>1922</td>\n",
    "      <td>Zzaoui (Jacques)</td>\n",
    "      <td>dentiste</td>\n",
    "      <td>r. de l'Arrivée</td>\n",
    "      <td>22.</td>\n",
    "      <td>rue de l'Arrivée</td>\n",
    "      <td>l'Arrivée</td>\n",
    "    </tr>\n",
    "  </tbody>\n",
    "</table>\n",
    "<p>526943 rows × 10 columns</p>\n",
    "</div></div>"
   ]
  },
  {
   "cell_type": "markdown",
   "metadata": {},
   "source": [
    "## Tâche 3"
   ]
  },
  {
   "cell_type": "markdown",
   "metadata": {},
   "source": [
    "Le but de cette tâche est d'extraire le compte de chaque mot dans le texte entre parenthèse dans `name`.\n",
    "\n",
    "La première étape est d'extraire de le texte entre parenthèse, il existe une fonction dans `.str` pour faire ça, à vous de la trouver. N'oubliez pas de supprimer les entrées sans parenthèse, par exemple avec `.dropna()` et d'indexer pour obtenir une série."
   ]
  },
  {
   "cell_type": "code",
   "execution_count": null,
   "metadata": {},
   "outputs": [],
   "source": [
    "regex_parens = '^.*?\\((.*)\\).*?$'\n",
    "\n",
    "name_parens = data_bottin['name'].str.extract(regex_parens).dropna()[0]"
   ]
  },
  {
   "cell_type": "markdown",
   "metadata": {},
   "source": [
    "Vous devriez obtenir le résultat suivant avec 238405 lignes:\n",
    "    <pre>3              Emile et Edouard\n",
    "5         Ch. Vallois succcess.\n",
    "6                           Mme\n",
    "12                           A.\n",
    "13                   Charles d'\n",
    "                  ...          \n",
    "617227                       F.\n",
    "617229                    Henri\n",
    "617230                       E.\n",
    "617231                      Ch.\n",
    "617235                  Jacques\n",
    "Name: 0, Length: 238405, dtype: object</pre>"
   ]
  },
  {
   "cell_type": "markdown",
   "metadata": {},
   "source": [
    "L'étape suivant est de séparer chaque entrée en mot, puis de les compter.\n",
    "\n",
    "Il existe une fonction dans `.str` pour séparer en mot. La manière la plus simple est de séparer sur l'espace, mais on peut aller plus loin, à vous de choisir.\n",
    "\n",
    "pour compter les mots, il faudra retourner dans du python et donc itérer sur chaque entrée.\n",
    "\n",
    "Une manière élégante de compter est d'utiliser l'objet `Counter` de `collections`, c.f. la [doc](https://docs.python.org/3.8/library/collections.html#collections.Counter)."
   ]
  },
  {
   "cell_type": "code",
   "execution_count": null,
   "metadata": {},
   "outputs": [],
   "source": [
    "from collections import Counter\n",
    "name_parens_split = name_parens.str.split('\\W')\n",
    "name_parens_split = name_parens_split.apply(lambda words: [word for word in words if len(word) > 0])\n",
    "\n",
    "word_counts = Counter()\n",
    "\n",
    "for words in name_parens_split.values:\n",
    "    word_counts.update(words)\n",
    "    \n",
    "word_counts.most_common(5)"
   ]
  },
  {
   "cell_type": "markdown",
   "metadata": {},
   "source": [
    "Le résultat dépendra de la manière dont vous avez séparer les mots, chez moi les 5 mots les plus communs sont:\n",
    "<pre>[('Mme', 35434), ('A', 26038), ('J', 13684), ('E', 13459), ('L', 11975)]</pre>\n"
   ]
  },
  {
   "cell_type": "markdown",
   "metadata": {},
   "source": [
    "## Tâche 4\n",
    "\n",
    "Le but de cette tâche est d'extraite le compte des mots dans les entrées ne matchant pas le résultats de la tâche 1.\n",
    "\n",
    "Il suffit de suivre une marche à suivre similare à la tâche précédente."
   ]
  },
  {
   "cell_type": "code",
   "execution_count": null,
   "metadata": {},
   "outputs": [],
   "source": [
    "from collections import Counter\n",
    "name_one_word_split = data_bottin.loc[~predicate_one_word]['name'].str.split('\\W')\n",
    "name_one_word_split = name_one_word_split.apply(lambda words: [word for word in words if len(word) > 0])\n",
    "\n",
    "word_counts = Counter()\n",
    "\n",
    "for words in name_one_word_split.values:\n",
    "    word_counts.update(words)\n",
    "word_counts.most_common(5)"
   ]
  },
  {
   "cell_type": "markdown",
   "metadata": {},
   "source": [
    "Le résultat dépendra de la manière dont vous avez séparer les mots, chez moi les 5 mots les plus communs sont:\n",
    "<pre>[('et', 29457), ('Cie', 10409), ('de', 6668), ('fils', 5747), ('A', 4734)]</pre>\n"
   ]
  },
  {
   "cell_type": "markdown",
   "metadata": {},
   "source": [
    "## Tâche 5\n",
    "\n",
    "Le but de cette tâche est de grouper les métiers par `name`, `job`, `street` et `number`, puis d'afficher la distribution sous la forme d'une dataframe.\n",
    "\n",
    "Cela peut-être réaliser en une seule ligne et en utilisant que des fonctions pandas."
   ]
  },
  {
   "cell_type": "code",
   "execution_count": null,
   "metadata": {},
   "outputs": [],
   "source": [
    "(data_bottin\n",
    " .groupby(['name', 'job', 'street', 'number'])\n",
    " .size()\n",
    " .sort_values(ascending=False)\n",
    " .value_counts()\n",
    " .to_frame('Count')\n",
    " .rename_axis('Number of duplicates'))"
   ]
  },
  {
   "cell_type": "markdown",
   "metadata": {},
   "source": [
    "Vous devriez obtenir les résultats suivants:\n",
    "\n",
    "<div>\n",
    "<style scoped=\"\">\n",
    "    .dataframe tbody tr th:only-of-type {\n",
    "        vertical-align: middle;\n",
    "    }\n",
    "\n",
    "    .dataframe tbody tr th {\n",
    "        vertical-align: middle;\n",
    "    }\n",
    "\n",
    "    .dataframe thead th {\n",
    "        text-align: right;\n",
    "    }\n",
    "</style>\n",
    "<table class=\"dataframe\" border=\"1\">\n",
    "  <thead>\n",
    "    <tr style=\"text-align: right;\">\n",
    "      <th></th>\n",
    "      <th>Count</th>\n",
    "    </tr>\n",
    "    <tr>\n",
    "      <th>Number of duplicates</th>\n",
    "      <th></th>\n",
    "    </tr>\n",
    "  </thead>\n",
    "  <tbody>\n",
    "    <tr>\n",
    "      <th>1</th>\n",
    "      <td>408887</td>\n",
    "    </tr>\n",
    "    <tr>\n",
    "      <th>2</th>\n",
    "      <td>67471</td>\n",
    "    </tr>\n",
    "    <tr>\n",
    "      <th>3</th>\n",
    "      <td>17842</td>\n",
    "    </tr>\n",
    "    <tr>\n",
    "      <th>4</th>\n",
    "      <td>3262</td>\n",
    "    </tr>\n",
    "    <tr>\n",
    "      <th>5</th>\n",
    "      <td>794</td>\n",
    "    </tr>\n",
    "  </tbody>\n",
    "</table>\n",
    "</div>"
   ]
  },
  {
   "cell_type": "markdown",
   "metadata": {},
   "source": [
    "Il est possible d'aller un petit peu plus loin en utilisant `street_only` et en nettoyant un peu les nombre, par exemple en ne prenant que le premier chiffre et bis. C.f. les tâches précédente pour l'extraction"
   ]
  },
  {
   "cell_type": "code",
   "execution_count": null,
   "metadata": {},
   "outputs": [],
   "source": [
    "data_bottin['number_clean'] = data_bottin['number'].str.extract('(^\\d+(?: ?bis)?).*')\n",
    "\n",
    "(data_bottin\n",
    " .groupby(['name', 'job', 'street_only', 'number_clean'])\n",
    " .size()\n",
    " .sort_values(ascending=False)\n",
    " .value_counts()\n",
    " .to_frame('Count')\n",
    " .rename_axis('Number of duplicates'))"
   ]
  },
  {
   "cell_type": "markdown",
   "metadata": {},
   "source": [
    "Vous obtiendrez des résultats similaires au suivants en fonction de votre nettoyage:\n",
    "    <div>\n",
    "<style scoped=\"\">\n",
    "    .dataframe tbody tr th:only-of-type {\n",
    "        vertical-align: middle;\n",
    "    }\n",
    "\n",
    "    .dataframe tbody tr th {\n",
    "        vertical-align: top;\n",
    "    }\n",
    "\n",
    "    .dataframe thead th {\n",
    "        text-align: right;\n",
    "    }\n",
    "</style>\n",
    "<table class=\"dataframe\" border=\"1\">\n",
    "  <thead>\n",
    "    <tr style=\"text-align: right;\">\n",
    "      <th></th>\n",
    "      <th>Count</th>\n",
    "    </tr>\n",
    "    <tr>\n",
    "      <th>Number of duplicates</th>\n",
    "      <th></th>\n",
    "    </tr>\n",
    "  </thead>\n",
    "  <tbody>\n",
    "    <tr>\n",
    "      <th>1</th>\n",
    "      <td>381464</td>\n",
    "    </tr>\n",
    "    <tr>\n",
    "      <th>2</th>\n",
    "      <td>73914</td>\n",
    "    </tr>\n",
    "    <tr>\n",
    "      <th>3</th>\n",
    "      <td>20401</td>\n",
    "    </tr>\n",
    "    <tr>\n",
    "      <th>4</th>\n",
    "      <td>3864</td>\n",
    "    </tr>\n",
    "    <tr>\n",
    "      <th>5</th>\n",
    "      <td>1008</td>\n",
    "    </tr>\n",
    "  </tbody>\n",
    "</table>\n",
    "</div>"
   ]
  }
 ],
 "metadata": {
  "kernelspec": {
   "display_name": "Python 3",
   "language": "python",
   "name": "python3"
  },
  "language_info": {
   "codemirror_mode": {
    "name": "ipython",
    "version": 3
   },
   "file_extension": ".py",
   "mimetype": "text/x-python",
   "name": "python",
   "nbconvert_exporter": "python",
   "pygments_lexer": "ipython3",
   "version": "3.7.6"
  },
  "toc": {
   "base_numbering": 1,
   "nav_menu": {},
   "number_sections": true,
   "sideBar": true,
   "skip_h1_title": false,
   "title_cell": "Table of Contents",
   "title_sidebar": "Contents",
   "toc_cell": true,
   "toc_position": {},
   "toc_section_display": true,
   "toc_window_display": false
  }
 },
 "nbformat": 4,
 "nbformat_minor": 4
}
